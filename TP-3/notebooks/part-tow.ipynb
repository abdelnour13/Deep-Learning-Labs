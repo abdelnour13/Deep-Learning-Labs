{
 "cells": [
  {
   "cell_type": "markdown",
   "metadata": {
    "id": "o6OrZxDnqesm"
   },
   "source": [
    "# Necessary Packages"
   ]
  },
  {
   "cell_type": "code",
   "execution_count": 1,
   "metadata": {
    "execution": {
     "iopub.execute_input": "2024-03-12T20:52:02.950781Z",
     "iopub.status.busy": "2024-03-12T20:52:02.950234Z",
     "iopub.status.idle": "2024-03-12T20:52:17.471591Z",
     "shell.execute_reply": "2024-03-12T20:52:17.470781Z",
     "shell.execute_reply.started": "2024-03-12T20:52:02.950713Z"
    },
    "executionInfo": {
     "elapsed": 7748,
     "status": "ok",
     "timestamp": 1710074153763,
     "user": {
      "displayName": "FELLAH ABDELNOUR",
      "userId": "11816603921684129089"
     },
     "user_tz": -60
    },
    "id": "n8TyTV6BqcNb"
   },
   "outputs": [
    {
     "name": "stderr",
     "output_type": "stream",
     "text": [
      "2024-03-12 20:52:06.639582: E external/local_xla/xla/stream_executor/cuda/cuda_dnn.cc:9261] Unable to register cuDNN factory: Attempting to register factory for plugin cuDNN when one has already been registered\n",
      "2024-03-12 20:52:06.639690: E external/local_xla/xla/stream_executor/cuda/cuda_fft.cc:607] Unable to register cuFFT factory: Attempting to register factory for plugin cuFFT when one has already been registered\n",
      "2024-03-12 20:52:06.767031: E external/local_xla/xla/stream_executor/cuda/cuda_blas.cc:1515] Unable to register cuBLAS factory: Attempting to register factory for plugin cuBLAS when one has already been registered\n"
     ]
    }
   ],
   "source": [
    "import os\n",
    "import time\n",
    "import pandas as pd\n",
    "import numpy as np\n",
    "import seaborn as sns\n",
    "import matplotlib.pyplot as plt\n",
    "import tensorflow as tf\n",
    "import optuna\n",
    "import shutil\n",
    "from random import sample\n",
    "from sklearn.model_selection import train_test_split\n",
    "from tqdm.notebook import tqdm"
   ]
  },
  {
   "cell_type": "markdown",
   "metadata": {
    "id": "_uavpfRPqiZt"
   },
   "source": [
    "# Global"
   ]
  },
  {
   "cell_type": "code",
   "execution_count": 2,
   "metadata": {
    "execution": {
     "iopub.execute_input": "2024-03-12T20:52:17.474763Z",
     "iopub.status.busy": "2024-03-12T20:52:17.473399Z",
     "iopub.status.idle": "2024-03-12T20:52:17.479078Z",
     "shell.execute_reply": "2024-03-12T20:52:17.478066Z",
     "shell.execute_reply.started": "2024-03-12T20:52:17.474736Z"
    },
    "executionInfo": {
     "elapsed": 611,
     "status": "ok",
     "timestamp": 1710074157683,
     "user": {
      "displayName": "FELLAH ABDELNOUR",
      "userId": "11816603921684129089"
     },
     "user_tz": -60
    },
    "id": "W4Ol7JNnqlh5"
   },
   "outputs": [],
   "source": [
    "figures = {}\n",
    "histories = {}\n",
    "durations = {}\n",
    "models = {}"
   ]
  },
  {
   "cell_type": "markdown",
   "metadata": {
    "id": "iuhoEpx5r-Z8"
   },
   "source": [
    "# Data Loading"
   ]
  },
  {
   "cell_type": "code",
   "execution_count": 3,
   "metadata": {
    "execution": {
     "iopub.execute_input": "2024-03-12T20:52:17.485640Z",
     "iopub.status.busy": "2024-03-12T20:52:17.485029Z",
     "iopub.status.idle": "2024-03-12T20:52:46.473385Z",
     "shell.execute_reply": "2024-03-12T20:52:46.472578Z",
     "shell.execute_reply.started": "2024-03-12T20:52:17.485613Z"
    }
   },
   "outputs": [],
   "source": [
    "df = pd.read_csv(\"/kaggle/input/cifar10-python-in-csv/train.csv\")"
   ]
  },
  {
   "cell_type": "code",
   "execution_count": 4,
   "metadata": {
    "execution": {
     "iopub.execute_input": "2024-03-12T20:52:46.474747Z",
     "iopub.status.busy": "2024-03-12T20:52:46.474451Z",
     "iopub.status.idle": "2024-03-12T20:52:47.871867Z",
     "shell.execute_reply": "2024-03-12T20:52:47.870903Z",
     "shell.execute_reply.started": "2024-03-12T20:52:46.474721Z"
    }
   },
   "outputs": [
    {
     "name": "stdout",
     "output_type": "stream",
     "text": [
      "train_df = 30000\n",
      "val_df = 10000\n",
      "test_df = 10000\n"
     ]
    }
   ],
   "source": [
    "train_df,val_df = train_test_split(df,test_size=0.4)\n",
    "val_df,test_df = train_test_split(val_df,test_size=0.5)\n",
    "\n",
    "print(f\"train_df = {len(train_df)}\")\n",
    "print(f\"val_df = {len(val_df)}\")\n",
    "print(f\"test_df = {len(test_df)}\")"
   ]
  },
  {
   "cell_type": "code",
   "execution_count": 5,
   "metadata": {
    "execution": {
     "iopub.execute_input": "2024-03-12T20:52:47.873586Z",
     "iopub.status.busy": "2024-03-12T20:52:47.873216Z",
     "iopub.status.idle": "2024-03-12T20:52:47.879757Z",
     "shell.execute_reply": "2024-03-12T20:52:47.878811Z",
     "shell.execute_reply.started": "2024-03-12T20:52:47.873535Z"
    }
   },
   "outputs": [],
   "source": [
    "def preprocess(dfs):\n",
    "    \n",
    "    datasets = []\n",
    "    \n",
    "    for df in dfs:\n",
    "        X = df.drop(columns=[\"label\"]) / 255.0\n",
    "        y = df[\"label\"]\n",
    "        \n",
    "        X = tf.convert_to_tensor(X.values)\n",
    "        y = tf.convert_to_tensor(y.values)\n",
    "        \n",
    "        datasets.append((X,y))\n",
    "        \n",
    "    return datasets"
   ]
  },
  {
   "cell_type": "code",
   "execution_count": 6,
   "metadata": {
    "execution": {
     "iopub.execute_input": "2024-03-12T20:52:47.881453Z",
     "iopub.status.busy": "2024-03-12T20:52:47.880930Z",
     "iopub.status.idle": "2024-03-12T20:52:50.985405Z",
     "shell.execute_reply": "2024-03-12T20:52:50.984614Z",
     "shell.execute_reply.started": "2024-03-12T20:52:47.881428Z"
    }
   },
   "outputs": [],
   "source": [
    "train_data,val_data,test_data = preprocess([\n",
    "    train_df,\n",
    "    val_df,\n",
    "    test_df\n",
    "])"
   ]
  },
  {
   "cell_type": "markdown",
   "metadata": {
    "id": "B7GAPsM4bGXg"
   },
   "source": [
    "# Architecture"
   ]
  },
  {
   "cell_type": "code",
   "execution_count": 7,
   "metadata": {
    "execution": {
     "iopub.execute_input": "2024-03-12T20:52:50.987222Z",
     "iopub.status.busy": "2024-03-12T20:52:50.986925Z",
     "iopub.status.idle": "2024-03-12T20:52:50.996185Z",
     "shell.execute_reply": "2024-03-12T20:52:50.995140Z",
     "shell.execute_reply.started": "2024-03-12T20:52:50.987174Z"
    },
    "executionInfo": {
     "elapsed": 580,
     "status": "ok",
     "timestamp": 1710074931812,
     "user": {
      "displayName": "FELLAH ABDELNOUR",
      "userId": "11816603921684129089"
     },
     "user_tz": -60
    },
    "id": "zfvsxaRwbISD"
   },
   "outputs": [],
   "source": [
    "def create_model(\n",
    "    optimizer=None,\n",
    "    drop_out_rate : float = 0.0,\n",
    "    lambda_ : float = 0.0,\n",
    "    batch_normalization : bool = False,\n",
    ") -> tf.keras.models.Model:\n",
    "\n",
    "  model = tf.keras.models.Sequential(layers=[\n",
    "    tf.keras.layers.Dense(128, activation=tf.keras.activations.relu),\n",
    "    tf.keras.layers.Dense(\n",
    "        units=64,\n",
    "        activation=tf.keras.activations.relu,\n",
    "        kernel_regularizer=tf.keras.regularizers.L2(l2=lambda_)\n",
    "    ),\n",
    "  ])\n",
    "\n",
    "  if batch_normalization:\n",
    "    model.add(tf.keras.layers.BatchNormalization(synchronized=True))\n",
    "\n",
    "  model.add(tf.keras.layers.Dropout(rate=drop_out_rate))\n",
    "  model.add(tf.keras.layers.Dense(10, activation=tf.keras.activations.softmax))\n",
    "\n",
    "  if optimizer is not None:\n",
    "    model.compile(\n",
    "        optimizer=optimizer,\n",
    "        loss=tf.keras.losses.SparseCategoricalCrossentropy(),\n",
    "        metrics=[\n",
    "            tf.keras.metrics.SparseCategoricalAccuracy()\n",
    "        ],\n",
    "    )\n",
    "\n",
    "  return model"
   ]
  },
  {
   "cell_type": "markdown",
   "metadata": {
    "id": "q_nnKrtIbPXh"
   },
   "source": [
    "# Training"
   ]
  },
  {
   "cell_type": "code",
   "execution_count": 8,
   "metadata": {
    "execution": {
     "iopub.execute_input": "2024-03-12T20:52:50.997976Z",
     "iopub.status.busy": "2024-03-12T20:52:50.997624Z",
     "iopub.status.idle": "2024-03-12T20:52:51.008457Z",
     "shell.execute_reply": "2024-03-12T20:52:51.007609Z",
     "shell.execute_reply.started": "2024-03-12T20:52:50.997945Z"
    }
   },
   "outputs": [],
   "source": [
    "def train(\n",
    "    model,\n",
    "    name,\n",
    "    train_data,\n",
    "    val_data,\n",
    "    batch_size=32,\n",
    "    epochs=50,\n",
    "    callbacks=None,\n",
    "    verbose='auto'\n",
    "):\n",
    "\n",
    "  tic = time.time()\n",
    "  history = model.fit(\n",
    "    x=train_data[0],\n",
    "    y=train_data[1],\n",
    "    validation_data=val_data,\n",
    "    epochs=epochs,\n",
    "    batch_size=batch_size,\n",
    "    callbacks=callbacks,\n",
    "    verbose=verbose\n",
    "  )\n",
    "  toc = time.time()\n",
    "\n",
    "  duration = toc - tic\n",
    "\n",
    "  print(f'Model took {duration:.3f} seconds to train.')\n",
    "\n",
    "  models[name] = model\n",
    "  histories[name] = history\n",
    "  durations[name] = duration"
   ]
  },
  {
   "cell_type": "markdown",
   "metadata": {
    "id": "5p__rbgmbhTz"
   },
   "source": [
    "## Mini batch SGD"
   ]
  },
  {
   "cell_type": "code",
   "execution_count": 9,
   "metadata": {
    "execution": {
     "iopub.execute_input": "2024-03-12T20:52:51.013858Z",
     "iopub.status.busy": "2024-03-12T20:52:51.013521Z",
     "iopub.status.idle": "2024-03-12T20:54:33.705447Z",
     "shell.execute_reply": "2024-03-12T20:54:33.704457Z",
     "shell.execute_reply.started": "2024-03-12T20:52:51.013835Z"
    },
    "executionInfo": {
     "elapsed": 274788,
     "status": "ok",
     "timestamp": 1710075473525,
     "user": {
      "displayName": "FELLAH ABDELNOUR",
      "userId": "11816603921684129089"
     },
     "user_tz": -60
    },
    "id": "3xTIv5RbbZSZ",
    "outputId": "5b2b8a1a-9b71-4345-d9e0-930c7b047b44"
   },
   "outputs": [
    {
     "name": "stdout",
     "output_type": "stream",
     "text": [
      "Epoch 1/50\n",
      "\u001b[1m 90/938\u001b[0m \u001b[32m━\u001b[0m\u001b[37m━━━━━━━━━━━━━━━━━━━\u001b[0m \u001b[1m1s\u001b[0m 2ms/step - loss: 2.2453 - sparse_categorical_accuracy: 0.1604"
     ]
    },
    {
     "name": "stderr",
     "output_type": "stream",
     "text": [
      "WARNING: All log messages before absl::InitializeLog() is called are written to STDERR\n",
      "I0000 00:00:1710276774.593233     100 device_compiler.h:186] Compiled cluster using XLA!  This line is logged at most once for the lifetime of the process.\n",
      "W0000 00:00:1710276774.608358     100 graph_launch.cc:671] Fallback to op-by-op mode because memset node breaks graph update\n"
     ]
    },
    {
     "name": "stdout",
     "output_type": "stream",
     "text": [
      "\u001b[1m938/938\u001b[0m \u001b[32m━━━━━━━━━━━━━━━━━━━━\u001b[0m\u001b[37m\u001b[0m \u001b[1m0s\u001b[0m 2ms/step - loss: 2.0608 - sparse_categorical_accuracy: 0.2442"
     ]
    },
    {
     "name": "stderr",
     "output_type": "stream",
     "text": [
      "W0000 00:00:1710276777.709114     100 graph_launch.cc:671] Fallback to op-by-op mode because memset node breaks graph update\n"
     ]
    },
    {
     "name": "stdout",
     "output_type": "stream",
     "text": [
      "\u001b[1m938/938\u001b[0m \u001b[32m━━━━━━━━━━━━━━━━━━━━\u001b[0m\u001b[37m\u001b[0m \u001b[1m6s\u001b[0m 4ms/step - loss: 2.0607 - sparse_categorical_accuracy: 0.2442 - val_loss: 1.8443 - val_sparse_categorical_accuracy: 0.3443\n",
      "Epoch 2/50\n",
      "\u001b[1m938/938\u001b[0m \u001b[32m━━━━━━━━━━━━━━━━━━━━\u001b[0m\u001b[37m\u001b[0m \u001b[1m2s\u001b[0m 2ms/step - loss: 1.8014 - sparse_categorical_accuracy: 0.3592 - val_loss: 1.7469 - val_sparse_categorical_accuracy: 0.3765\n",
      "Epoch 3/50\n",
      "\u001b[1m938/938\u001b[0m \u001b[32m━━━━━━━━━━━━━━━━━━━━\u001b[0m\u001b[37m\u001b[0m \u001b[1m2s\u001b[0m 2ms/step - loss: 1.7237 - sparse_categorical_accuracy: 0.3865 - val_loss: 1.7161 - val_sparse_categorical_accuracy: 0.3887\n",
      "Epoch 4/50\n",
      "\u001b[1m938/938\u001b[0m \u001b[32m━━━━━━━━━━━━━━━━━━━━\u001b[0m\u001b[37m\u001b[0m \u001b[1m2s\u001b[0m 2ms/step - loss: 1.6543 - sparse_categorical_accuracy: 0.4109 - val_loss: 1.7099 - val_sparse_categorical_accuracy: 0.3818\n",
      "Epoch 5/50\n",
      "\u001b[1m938/938\u001b[0m \u001b[32m━━━━━━━━━━━━━━━━━━━━\u001b[0m\u001b[37m\u001b[0m \u001b[1m2s\u001b[0m 2ms/step - loss: 1.6154 - sparse_categorical_accuracy: 0.4305 - val_loss: 1.6850 - val_sparse_categorical_accuracy: 0.3987\n",
      "Epoch 6/50\n",
      "\u001b[1m938/938\u001b[0m \u001b[32m━━━━━━━━━━━━━━━━━━━━\u001b[0m\u001b[37m\u001b[0m \u001b[1m2s\u001b[0m 2ms/step - loss: 1.5882 - sparse_categorical_accuracy: 0.4390 - val_loss: 1.6763 - val_sparse_categorical_accuracy: 0.4085\n",
      "Epoch 7/50\n",
      "\u001b[1m938/938\u001b[0m \u001b[32m━━━━━━━━━━━━━━━━━━━━\u001b[0m\u001b[37m\u001b[0m \u001b[1m2s\u001b[0m 2ms/step - loss: 1.5669 - sparse_categorical_accuracy: 0.4441 - val_loss: 1.6163 - val_sparse_categorical_accuracy: 0.4257\n",
      "Epoch 8/50\n",
      "\u001b[1m938/938\u001b[0m \u001b[32m━━━━━━━━━━━━━━━━━━━━\u001b[0m\u001b[37m\u001b[0m \u001b[1m2s\u001b[0m 2ms/step - loss: 1.5277 - sparse_categorical_accuracy: 0.4599 - val_loss: 1.5767 - val_sparse_categorical_accuracy: 0.4358\n",
      "Epoch 9/50\n",
      "\u001b[1m938/938\u001b[0m \u001b[32m━━━━━━━━━━━━━━━━━━━━\u001b[0m\u001b[37m\u001b[0m \u001b[1m2s\u001b[0m 2ms/step - loss: 1.4999 - sparse_categorical_accuracy: 0.4720 - val_loss: 1.6315 - val_sparse_categorical_accuracy: 0.4327\n",
      "Epoch 10/50\n",
      "\u001b[1m938/938\u001b[0m \u001b[32m━━━━━━━━━━━━━━━━━━━━\u001b[0m\u001b[37m\u001b[0m \u001b[1m2s\u001b[0m 2ms/step - loss: 1.4832 - sparse_categorical_accuracy: 0.4748 - val_loss: 1.5661 - val_sparse_categorical_accuracy: 0.4360\n",
      "Epoch 11/50\n",
      "\u001b[1m938/938\u001b[0m \u001b[32m━━━━━━━━━━━━━━━━━━━━\u001b[0m\u001b[37m\u001b[0m \u001b[1m2s\u001b[0m 2ms/step - loss: 1.4658 - sparse_categorical_accuracy: 0.4808 - val_loss: 1.6107 - val_sparse_categorical_accuracy: 0.4352\n",
      "Epoch 12/50\n",
      "\u001b[1m938/938\u001b[0m \u001b[32m━━━━━━━━━━━━━━━━━━━━\u001b[0m\u001b[37m\u001b[0m \u001b[1m2s\u001b[0m 2ms/step - loss: 1.4319 - sparse_categorical_accuracy: 0.4970 - val_loss: 1.5572 - val_sparse_categorical_accuracy: 0.4506\n",
      "Epoch 13/50\n",
      "\u001b[1m938/938\u001b[0m \u001b[32m━━━━━━━━━━━━━━━━━━━━\u001b[0m\u001b[37m\u001b[0m \u001b[1m2s\u001b[0m 2ms/step - loss: 1.4224 - sparse_categorical_accuracy: 0.4983 - val_loss: 1.5089 - val_sparse_categorical_accuracy: 0.4671\n",
      "Epoch 14/50\n",
      "\u001b[1m938/938\u001b[0m \u001b[32m━━━━━━━━━━━━━━━━━━━━\u001b[0m\u001b[37m\u001b[0m \u001b[1m2s\u001b[0m 2ms/step - loss: 1.4052 - sparse_categorical_accuracy: 0.5031 - val_loss: 1.5184 - val_sparse_categorical_accuracy: 0.4608\n",
      "Epoch 15/50\n",
      "\u001b[1m938/938\u001b[0m \u001b[32m━━━━━━━━━━━━━━━━━━━━\u001b[0m\u001b[37m\u001b[0m \u001b[1m2s\u001b[0m 2ms/step - loss: 1.3846 - sparse_categorical_accuracy: 0.5133 - val_loss: 1.5615 - val_sparse_categorical_accuracy: 0.4458\n",
      "Epoch 16/50\n",
      "\u001b[1m938/938\u001b[0m \u001b[32m━━━━━━━━━━━━━━━━━━━━\u001b[0m\u001b[37m\u001b[0m \u001b[1m2s\u001b[0m 2ms/step - loss: 1.3708 - sparse_categorical_accuracy: 0.5170 - val_loss: 1.5135 - val_sparse_categorical_accuracy: 0.4641\n",
      "Epoch 17/50\n",
      "\u001b[1m938/938\u001b[0m \u001b[32m━━━━━━━━━━━━━━━━━━━━\u001b[0m\u001b[37m\u001b[0m \u001b[1m2s\u001b[0m 2ms/step - loss: 1.3662 - sparse_categorical_accuracy: 0.5135 - val_loss: 1.4929 - val_sparse_categorical_accuracy: 0.4745\n",
      "Epoch 18/50\n",
      "\u001b[1m938/938\u001b[0m \u001b[32m━━━━━━━━━━━━━━━━━━━━\u001b[0m\u001b[37m\u001b[0m \u001b[1m2s\u001b[0m 2ms/step - loss: 1.3502 - sparse_categorical_accuracy: 0.5191 - val_loss: 1.5131 - val_sparse_categorical_accuracy: 0.4697\n",
      "Epoch 19/50\n",
      "\u001b[1m938/938\u001b[0m \u001b[32m━━━━━━━━━━━━━━━━━━━━\u001b[0m\u001b[37m\u001b[0m \u001b[1m2s\u001b[0m 2ms/step - loss: 1.3328 - sparse_categorical_accuracy: 0.5315 - val_loss: 1.5278 - val_sparse_categorical_accuracy: 0.4615\n",
      "Epoch 20/50\n",
      "\u001b[1m938/938\u001b[0m \u001b[32m━━━━━━━━━━━━━━━━━━━━\u001b[0m\u001b[37m\u001b[0m \u001b[1m2s\u001b[0m 2ms/step - loss: 1.3286 - sparse_categorical_accuracy: 0.5321 - val_loss: 1.4691 - val_sparse_categorical_accuracy: 0.4760\n",
      "Epoch 21/50\n",
      "\u001b[1m938/938\u001b[0m \u001b[32m━━━━━━━━━━━━━━━━━━━━\u001b[0m\u001b[37m\u001b[0m \u001b[1m2s\u001b[0m 2ms/step - loss: 1.2904 - sparse_categorical_accuracy: 0.5453 - val_loss: 1.5075 - val_sparse_categorical_accuracy: 0.4707\n",
      "Epoch 22/50\n",
      "\u001b[1m938/938\u001b[0m \u001b[32m━━━━━━━━━━━━━━━━━━━━\u001b[0m\u001b[37m\u001b[0m \u001b[1m2s\u001b[0m 2ms/step - loss: 1.2875 - sparse_categorical_accuracy: 0.5422 - val_loss: 1.5460 - val_sparse_categorical_accuracy: 0.4576\n",
      "Epoch 23/50\n",
      "\u001b[1m938/938\u001b[0m \u001b[32m━━━━━━━━━━━━━━━━━━━━\u001b[0m\u001b[37m\u001b[0m \u001b[1m2s\u001b[0m 2ms/step - loss: 1.2746 - sparse_categorical_accuracy: 0.5498 - val_loss: 1.6279 - val_sparse_categorical_accuracy: 0.4394\n",
      "Epoch 24/50\n",
      "\u001b[1m938/938\u001b[0m \u001b[32m━━━━━━━━━━━━━━━━━━━━\u001b[0m\u001b[37m\u001b[0m \u001b[1m2s\u001b[0m 2ms/step - loss: 1.2756 - sparse_categorical_accuracy: 0.5462 - val_loss: 1.5132 - val_sparse_categorical_accuracy: 0.4696\n",
      "Epoch 25/50\n",
      "\u001b[1m938/938\u001b[0m \u001b[32m━━━━━━━━━━━━━━━━━━━━\u001b[0m\u001b[37m\u001b[0m \u001b[1m2s\u001b[0m 2ms/step - loss: 1.2582 - sparse_categorical_accuracy: 0.5562 - val_loss: 1.4809 - val_sparse_categorical_accuracy: 0.4742\n",
      "Epoch 26/50\n",
      "\u001b[1m938/938\u001b[0m \u001b[32m━━━━━━━━━━━━━━━━━━━━\u001b[0m\u001b[37m\u001b[0m \u001b[1m2s\u001b[0m 2ms/step - loss: 1.2426 - sparse_categorical_accuracy: 0.5580 - val_loss: 1.4842 - val_sparse_categorical_accuracy: 0.4813\n",
      "Epoch 27/50\n",
      "\u001b[1m938/938\u001b[0m \u001b[32m━━━━━━━━━━━━━━━━━━━━\u001b[0m\u001b[37m\u001b[0m \u001b[1m2s\u001b[0m 2ms/step - loss: 1.2211 - sparse_categorical_accuracy: 0.5698 - val_loss: 1.5020 - val_sparse_categorical_accuracy: 0.4685\n",
      "Epoch 28/50\n",
      "\u001b[1m938/938\u001b[0m \u001b[32m━━━━━━━━━━━━━━━━━━━━\u001b[0m\u001b[37m\u001b[0m \u001b[1m2s\u001b[0m 2ms/step - loss: 1.2202 - sparse_categorical_accuracy: 0.5666 - val_loss: 1.4819 - val_sparse_categorical_accuracy: 0.4848\n",
      "Epoch 29/50\n",
      "\u001b[1m938/938\u001b[0m \u001b[32m━━━━━━━━━━━━━━━━━━━━\u001b[0m\u001b[37m\u001b[0m \u001b[1m2s\u001b[0m 2ms/step - loss: 1.2157 - sparse_categorical_accuracy: 0.5748 - val_loss: 1.4594 - val_sparse_categorical_accuracy: 0.4887\n",
      "Epoch 30/50\n",
      "\u001b[1m938/938\u001b[0m \u001b[32m━━━━━━━━━━━━━━━━━━━━\u001b[0m\u001b[37m\u001b[0m \u001b[1m2s\u001b[0m 2ms/step - loss: 1.1884 - sparse_categorical_accuracy: 0.5799 - val_loss: 1.5909 - val_sparse_categorical_accuracy: 0.4553\n",
      "Epoch 31/50\n",
      "\u001b[1m938/938\u001b[0m \u001b[32m━━━━━━━━━━━━━━━━━━━━\u001b[0m\u001b[37m\u001b[0m \u001b[1m2s\u001b[0m 2ms/step - loss: 1.1813 - sparse_categorical_accuracy: 0.5831 - val_loss: 1.5068 - val_sparse_categorical_accuracy: 0.4802\n",
      "Epoch 32/50\n",
      "\u001b[1m938/938\u001b[0m \u001b[32m━━━━━━━━━━━━━━━━━━━━\u001b[0m\u001b[37m\u001b[0m \u001b[1m2s\u001b[0m 2ms/step - loss: 1.1844 - sparse_categorical_accuracy: 0.5829 - val_loss: 1.4961 - val_sparse_categorical_accuracy: 0.4805\n",
      "Epoch 33/50\n",
      "\u001b[1m938/938\u001b[0m \u001b[32m━━━━━━━━━━━━━━━━━━━━\u001b[0m\u001b[37m\u001b[0m \u001b[1m2s\u001b[0m 2ms/step - loss: 1.1662 - sparse_categorical_accuracy: 0.5852 - val_loss: 1.4729 - val_sparse_categorical_accuracy: 0.4897\n",
      "Epoch 34/50\n",
      "\u001b[1m938/938\u001b[0m \u001b[32m━━━━━━━━━━━━━━━━━━━━\u001b[0m\u001b[37m\u001b[0m \u001b[1m2s\u001b[0m 2ms/step - loss: 1.1602 - sparse_categorical_accuracy: 0.5894 - val_loss: 1.4786 - val_sparse_categorical_accuracy: 0.4874\n",
      "Epoch 35/50\n",
      "\u001b[1m938/938\u001b[0m \u001b[32m━━━━━━━━━━━━━━━━━━━━\u001b[0m\u001b[37m\u001b[0m \u001b[1m2s\u001b[0m 2ms/step - loss: 1.1441 - sparse_categorical_accuracy: 0.5934 - val_loss: 1.4834 - val_sparse_categorical_accuracy: 0.4889\n",
      "Epoch 36/50\n",
      "\u001b[1m938/938\u001b[0m \u001b[32m━━━━━━━━━━━━━━━━━━━━\u001b[0m\u001b[37m\u001b[0m \u001b[1m2s\u001b[0m 2ms/step - loss: 1.1483 - sparse_categorical_accuracy: 0.5964 - val_loss: 1.5304 - val_sparse_categorical_accuracy: 0.4727\n",
      "Epoch 37/50\n",
      "\u001b[1m938/938\u001b[0m \u001b[32m━━━━━━━━━━━━━━━━━━━━\u001b[0m\u001b[37m\u001b[0m \u001b[1m2s\u001b[0m 2ms/step - loss: 1.1285 - sparse_categorical_accuracy: 0.5998 - val_loss: 1.5243 - val_sparse_categorical_accuracy: 0.4683\n",
      "Epoch 38/50\n",
      "\u001b[1m938/938\u001b[0m \u001b[32m━━━━━━━━━━━━━━━━━━━━\u001b[0m\u001b[37m\u001b[0m \u001b[1m2s\u001b[0m 2ms/step - loss: 1.1167 - sparse_categorical_accuracy: 0.6056 - val_loss: 1.5408 - val_sparse_categorical_accuracy: 0.4715\n",
      "Epoch 39/50\n",
      "\u001b[1m938/938\u001b[0m \u001b[32m━━━━━━━━━━━━━━━━━━━━\u001b[0m\u001b[37m\u001b[0m \u001b[1m2s\u001b[0m 2ms/step - loss: 1.1251 - sparse_categorical_accuracy: 0.6051 - val_loss: 1.5092 - val_sparse_categorical_accuracy: 0.4831\n",
      "Epoch 40/50\n",
      "\u001b[1m938/938\u001b[0m \u001b[32m━━━━━━━━━━━━━━━━━━━━\u001b[0m\u001b[37m\u001b[0m \u001b[1m2s\u001b[0m 2ms/step - loss: 1.0935 - sparse_categorical_accuracy: 0.6141 - val_loss: 1.5203 - val_sparse_categorical_accuracy: 0.4702\n",
      "Epoch 41/50\n",
      "\u001b[1m938/938\u001b[0m \u001b[32m━━━━━━━━━━━━━━━━━━━━\u001b[0m\u001b[37m\u001b[0m \u001b[1m2s\u001b[0m 2ms/step - loss: 1.0912 - sparse_categorical_accuracy: 0.6159 - val_loss: 1.5826 - val_sparse_categorical_accuracy: 0.4761\n",
      "Epoch 42/50\n",
      "\u001b[1m938/938\u001b[0m \u001b[32m━━━━━━━━━━━━━━━━━━━━\u001b[0m\u001b[37m\u001b[0m \u001b[1m2s\u001b[0m 2ms/step - loss: 1.0700 - sparse_categorical_accuracy: 0.6208 - val_loss: 1.5486 - val_sparse_categorical_accuracy: 0.4830\n",
      "Epoch 43/50\n",
      "\u001b[1m938/938\u001b[0m \u001b[32m━━━━━━━━━━━━━━━━━━━━\u001b[0m\u001b[37m\u001b[0m \u001b[1m2s\u001b[0m 2ms/step - loss: 1.0658 - sparse_categorical_accuracy: 0.6217 - val_loss: 1.5162 - val_sparse_categorical_accuracy: 0.4883\n",
      "Epoch 44/50\n",
      "\u001b[1m938/938\u001b[0m \u001b[32m━━━━━━━━━━━━━━━━━━━━\u001b[0m\u001b[37m\u001b[0m \u001b[1m2s\u001b[0m 2ms/step - loss: 1.0645 - sparse_categorical_accuracy: 0.6245 - val_loss: 1.6914 - val_sparse_categorical_accuracy: 0.4515\n",
      "Epoch 45/50\n",
      "\u001b[1m938/938\u001b[0m \u001b[32m━━━━━━━━━━━━━━━━━━━━\u001b[0m\u001b[37m\u001b[0m \u001b[1m2s\u001b[0m 2ms/step - loss: 1.0547 - sparse_categorical_accuracy: 0.6267 - val_loss: 1.5535 - val_sparse_categorical_accuracy: 0.4875\n",
      "Epoch 46/50\n",
      "\u001b[1m938/938\u001b[0m \u001b[32m━━━━━━━━━━━━━━━━━━━━\u001b[0m\u001b[37m\u001b[0m \u001b[1m2s\u001b[0m 2ms/step - loss: 1.0494 - sparse_categorical_accuracy: 0.6277 - val_loss: 1.5421 - val_sparse_categorical_accuracy: 0.4861\n",
      "Epoch 47/50\n",
      "\u001b[1m938/938\u001b[0m \u001b[32m━━━━━━━━━━━━━━━━━━━━\u001b[0m\u001b[37m\u001b[0m \u001b[1m2s\u001b[0m 2ms/step - loss: 1.0522 - sparse_categorical_accuracy: 0.6257 - val_loss: 1.6082 - val_sparse_categorical_accuracy: 0.4723\n",
      "Epoch 48/50\n",
      "\u001b[1m938/938\u001b[0m \u001b[32m━━━━━━━━━━━━━━━━━━━━\u001b[0m\u001b[37m\u001b[0m \u001b[1m2s\u001b[0m 2ms/step - loss: 1.0239 - sparse_categorical_accuracy: 0.6388 - val_loss: 1.5817 - val_sparse_categorical_accuracy: 0.4715\n",
      "Epoch 49/50\n",
      "\u001b[1m938/938\u001b[0m \u001b[32m━━━━━━━━━━━━━━━━━━━━\u001b[0m\u001b[37m\u001b[0m \u001b[1m2s\u001b[0m 2ms/step - loss: 1.0271 - sparse_categorical_accuracy: 0.6376 - val_loss: 1.5863 - val_sparse_categorical_accuracy: 0.4705\n",
      "Epoch 50/50\n",
      "\u001b[1m938/938\u001b[0m \u001b[32m━━━━━━━━━━━━━━━━━━━━\u001b[0m\u001b[37m\u001b[0m \u001b[1m2s\u001b[0m 2ms/step - loss: 1.0047 - sparse_categorical_accuracy: 0.6478 - val_loss: 1.5069 - val_sparse_categorical_accuracy: 0.4957\n",
      "Model took 102.652 seconds to train.\n"
     ]
    }
   ],
   "source": [
    "optimizer = tf.keras.optimizers.SGD(learning_rate=0.01)\n",
    "model = create_model(optimizer=optimizer)\n",
    "train(model,\n",
    "    name='Mini-Batch SGD',\n",
    "    train_data=train_data,\n",
    "    val_data=val_data,\n",
    ")"
   ]
  },
  {
   "cell_type": "markdown",
   "metadata": {
    "id": "ok1koOV1-r6Q"
   },
   "source": [
    "## Mini Batch SGD With Early Stopping"
   ]
  },
  {
   "cell_type": "code",
   "execution_count": 10,
   "metadata": {
    "execution": {
     "iopub.execute_input": "2024-03-12T20:54:33.707193Z",
     "iopub.status.busy": "2024-03-12T20:54:33.706904Z",
     "iopub.status.idle": "2024-03-12T20:55:31.465330Z",
     "shell.execute_reply": "2024-03-12T20:55:31.464296Z",
     "shell.execute_reply.started": "2024-03-12T20:54:33.707167Z"
    },
    "executionInfo": {
     "elapsed": 137864,
     "status": "ok",
     "timestamp": 1710075617523,
     "user": {
      "displayName": "FELLAH ABDELNOUR",
      "userId": "11816603921684129089"
     },
     "user_tz": -60
    },
    "id": "-TQ1_lF4-vaw",
    "outputId": "35ff20a1-3370-42d0-9d59-2f13c1d2321e"
   },
   "outputs": [
    {
     "name": "stdout",
     "output_type": "stream",
     "text": [
      "Epoch 1/50\n",
      "\u001b[1m 95/938\u001b[0m \u001b[32m━━\u001b[0m\u001b[37m━━━━━━━━━━━━━━━━━━\u001b[0m \u001b[1m1s\u001b[0m 2ms/step - loss: 2.2330 - sparse_categorical_accuracy: 0.1812"
     ]
    },
    {
     "name": "stderr",
     "output_type": "stream",
     "text": [
      "W0000 00:00:1710276875.738473      98 graph_launch.cc:671] Fallback to op-by-op mode because memset node breaks graph update\n"
     ]
    },
    {
     "name": "stdout",
     "output_type": "stream",
     "text": [
      "\u001b[1m938/938\u001b[0m \u001b[32m━━━━━━━━━━━━━━━━━━━━\u001b[0m\u001b[37m\u001b[0m \u001b[1m0s\u001b[0m 2ms/step - loss: 2.0601 - sparse_categorical_accuracy: 0.2493"
     ]
    },
    {
     "name": "stderr",
     "output_type": "stream",
     "text": [
      "W0000 00:00:1710276878.202985      98 graph_launch.cc:671] Fallback to op-by-op mode because memset node breaks graph update\n"
     ]
    },
    {
     "name": "stdout",
     "output_type": "stream",
     "text": [
      "\u001b[1m938/938\u001b[0m \u001b[32m━━━━━━━━━━━━━━━━━━━━\u001b[0m\u001b[37m\u001b[0m \u001b[1m4s\u001b[0m 3ms/step - loss: 2.0600 - sparse_categorical_accuracy: 0.2493 - val_loss: 1.8904 - val_sparse_categorical_accuracy: 0.2975\n",
      "Epoch 2/50\n",
      "\u001b[1m938/938\u001b[0m \u001b[32m━━━━━━━━━━━━━━━━━━━━\u001b[0m\u001b[37m\u001b[0m \u001b[1m2s\u001b[0m 2ms/step - loss: 1.8202 - sparse_categorical_accuracy: 0.3496 - val_loss: 1.9048 - val_sparse_categorical_accuracy: 0.3172\n",
      "Epoch 3/50\n",
      "\u001b[1m938/938\u001b[0m \u001b[32m━━━━━━━━━━━━━━━━━━━━\u001b[0m\u001b[37m\u001b[0m \u001b[1m2s\u001b[0m 2ms/step - loss: 1.7313 - sparse_categorical_accuracy: 0.3862 - val_loss: 1.7614 - val_sparse_categorical_accuracy: 0.3767\n",
      "Epoch 4/50\n",
      "\u001b[1m938/938\u001b[0m \u001b[32m━━━━━━━━━━━━━━━━━━━━\u001b[0m\u001b[37m\u001b[0m \u001b[1m2s\u001b[0m 2ms/step - loss: 1.6711 - sparse_categorical_accuracy: 0.4099 - val_loss: 1.7469 - val_sparse_categorical_accuracy: 0.3811\n",
      "Epoch 5/50\n",
      "\u001b[1m938/938\u001b[0m \u001b[32m━━━━━━━━━━━━━━━━━━━━\u001b[0m\u001b[37m\u001b[0m \u001b[1m2s\u001b[0m 2ms/step - loss: 1.6316 - sparse_categorical_accuracy: 0.4226 - val_loss: 1.6276 - val_sparse_categorical_accuracy: 0.4194\n",
      "Epoch 6/50\n",
      "\u001b[1m938/938\u001b[0m \u001b[32m━━━━━━━━━━━━━━━━━━━━\u001b[0m\u001b[37m\u001b[0m \u001b[1m2s\u001b[0m 2ms/step - loss: 1.5912 - sparse_categorical_accuracy: 0.4376 - val_loss: 1.6350 - val_sparse_categorical_accuracy: 0.4244\n",
      "Epoch 7/50\n",
      "\u001b[1m938/938\u001b[0m \u001b[32m━━━━━━━━━━━━━━━━━━━━\u001b[0m\u001b[37m\u001b[0m \u001b[1m2s\u001b[0m 2ms/step - loss: 1.5655 - sparse_categorical_accuracy: 0.4496 - val_loss: 1.6495 - val_sparse_categorical_accuracy: 0.4203\n",
      "Epoch 8/50\n",
      "\u001b[1m938/938\u001b[0m \u001b[32m━━━━━━━━━━━━━━━━━━━━\u001b[0m\u001b[37m\u001b[0m \u001b[1m2s\u001b[0m 2ms/step - loss: 1.5286 - sparse_categorical_accuracy: 0.4623 - val_loss: 1.5905 - val_sparse_categorical_accuracy: 0.4325\n",
      "Epoch 9/50\n",
      "\u001b[1m938/938\u001b[0m \u001b[32m━━━━━━━━━━━━━━━━━━━━\u001b[0m\u001b[37m\u001b[0m \u001b[1m2s\u001b[0m 2ms/step - loss: 1.5098 - sparse_categorical_accuracy: 0.4685 - val_loss: 1.6137 - val_sparse_categorical_accuracy: 0.4299\n",
      "Epoch 10/50\n",
      "\u001b[1m938/938\u001b[0m \u001b[32m━━━━━━━━━━━━━━━━━━━━\u001b[0m\u001b[37m\u001b[0m \u001b[1m2s\u001b[0m 2ms/step - loss: 1.4873 - sparse_categorical_accuracy: 0.4764 - val_loss: 1.5793 - val_sparse_categorical_accuracy: 0.4361\n",
      "Epoch 11/50\n",
      "\u001b[1m938/938\u001b[0m \u001b[32m━━━━━━━━━━━━━━━━━━━━\u001b[0m\u001b[37m\u001b[0m \u001b[1m2s\u001b[0m 2ms/step - loss: 1.4714 - sparse_categorical_accuracy: 0.4784 - val_loss: 1.5702 - val_sparse_categorical_accuracy: 0.4371\n",
      "Epoch 12/50\n",
      "\u001b[1m938/938\u001b[0m \u001b[32m━━━━━━━━━━━━━━━━━━━━\u001b[0m\u001b[37m\u001b[0m \u001b[1m2s\u001b[0m 2ms/step - loss: 1.4417 - sparse_categorical_accuracy: 0.4911 - val_loss: 1.5687 - val_sparse_categorical_accuracy: 0.4369\n",
      "Epoch 13/50\n",
      "\u001b[1m938/938\u001b[0m \u001b[32m━━━━━━━━━━━━━━━━━━━━\u001b[0m\u001b[37m\u001b[0m \u001b[1m2s\u001b[0m 2ms/step - loss: 1.4155 - sparse_categorical_accuracy: 0.5041 - val_loss: 1.5518 - val_sparse_categorical_accuracy: 0.4479\n",
      "Epoch 14/50\n",
      "\u001b[1m938/938\u001b[0m \u001b[32m━━━━━━━━━━━━━━━━━━━━\u001b[0m\u001b[37m\u001b[0m \u001b[1m2s\u001b[0m 2ms/step - loss: 1.4046 - sparse_categorical_accuracy: 0.5032 - val_loss: 1.5340 - val_sparse_categorical_accuracy: 0.4614\n",
      "Epoch 15/50\n",
      "\u001b[1m938/938\u001b[0m \u001b[32m━━━━━━━━━━━━━━━━━━━━\u001b[0m\u001b[37m\u001b[0m \u001b[1m2s\u001b[0m 2ms/step - loss: 1.3823 - sparse_categorical_accuracy: 0.5086 - val_loss: 1.5258 - val_sparse_categorical_accuracy: 0.4570\n",
      "Epoch 16/50\n",
      "\u001b[1m938/938\u001b[0m \u001b[32m━━━━━━━━━━━━━━━━━━━━\u001b[0m\u001b[37m\u001b[0m \u001b[1m2s\u001b[0m 2ms/step - loss: 1.3766 - sparse_categorical_accuracy: 0.5138 - val_loss: 1.5235 - val_sparse_categorical_accuracy: 0.4598\n",
      "Epoch 17/50\n",
      "\u001b[1m938/938\u001b[0m \u001b[32m━━━━━━━━━━━━━━━━━━━━\u001b[0m\u001b[37m\u001b[0m \u001b[1m2s\u001b[0m 2ms/step - loss: 1.3588 - sparse_categorical_accuracy: 0.5196 - val_loss: 1.5173 - val_sparse_categorical_accuracy: 0.4683\n",
      "Epoch 18/50\n",
      "\u001b[1m938/938\u001b[0m \u001b[32m━━━━━━━━━━━━━━━━━━━━\u001b[0m\u001b[37m\u001b[0m \u001b[1m2s\u001b[0m 2ms/step - loss: 1.3411 - sparse_categorical_accuracy: 0.5252 - val_loss: 1.5027 - val_sparse_categorical_accuracy: 0.4677\n",
      "Epoch 19/50\n",
      "\u001b[1m938/938\u001b[0m \u001b[32m━━━━━━━━━━━━━━━━━━━━\u001b[0m\u001b[37m\u001b[0m \u001b[1m2s\u001b[0m 2ms/step - loss: 1.3305 - sparse_categorical_accuracy: 0.5332 - val_loss: 1.5444 - val_sparse_categorical_accuracy: 0.4591\n",
      "Epoch 20/50\n",
      "\u001b[1m938/938\u001b[0m \u001b[32m━━━━━━━━━━━━━━━━━━━━\u001b[0m\u001b[37m\u001b[0m \u001b[1m2s\u001b[0m 2ms/step - loss: 1.3158 - sparse_categorical_accuracy: 0.5389 - val_loss: 1.4768 - val_sparse_categorical_accuracy: 0.4761\n",
      "Epoch 21/50\n",
      "\u001b[1m938/938\u001b[0m \u001b[32m━━━━━━━━━━━━━━━━━━━━\u001b[0m\u001b[37m\u001b[0m \u001b[1m2s\u001b[0m 2ms/step - loss: 1.3037 - sparse_categorical_accuracy: 0.5423 - val_loss: 1.5495 - val_sparse_categorical_accuracy: 0.4576\n",
      "Epoch 22/50\n",
      "\u001b[1m938/938\u001b[0m \u001b[32m━━━━━━━━━━━━━━━━━━━━\u001b[0m\u001b[37m\u001b[0m \u001b[1m2s\u001b[0m 2ms/step - loss: 1.2955 - sparse_categorical_accuracy: 0.5459 - val_loss: 1.5270 - val_sparse_categorical_accuracy: 0.4578\n",
      "Epoch 23/50\n",
      "\u001b[1m938/938\u001b[0m \u001b[32m━━━━━━━━━━━━━━━━━━━━\u001b[0m\u001b[37m\u001b[0m \u001b[1m2s\u001b[0m 2ms/step - loss: 1.2888 - sparse_categorical_accuracy: 0.5466 - val_loss: 1.4500 - val_sparse_categorical_accuracy: 0.4895\n",
      "Epoch 24/50\n",
      "\u001b[1m938/938\u001b[0m \u001b[32m━━━━━━━━━━━━━━━━━━━━\u001b[0m\u001b[37m\u001b[0m \u001b[1m2s\u001b[0m 2ms/step - loss: 1.2673 - sparse_categorical_accuracy: 0.5517 - val_loss: 1.5111 - val_sparse_categorical_accuracy: 0.4783\n",
      "Epoch 25/50\n",
      "\u001b[1m938/938\u001b[0m \u001b[32m━━━━━━━━━━━━━━━━━━━━\u001b[0m\u001b[37m\u001b[0m \u001b[1m2s\u001b[0m 2ms/step - loss: 1.2604 - sparse_categorical_accuracy: 0.5548 - val_loss: 1.5288 - val_sparse_categorical_accuracy: 0.4699\n",
      "Epoch 26/50\n",
      "\u001b[1m938/938\u001b[0m \u001b[32m━━━━━━━━━━━━━━━━━━━━\u001b[0m\u001b[37m\u001b[0m \u001b[1m2s\u001b[0m 2ms/step - loss: 1.2475 - sparse_categorical_accuracy: 0.5606 - val_loss: 1.6812 - val_sparse_categorical_accuracy: 0.4450\n",
      "Epoch 27/50\n",
      "\u001b[1m938/938\u001b[0m \u001b[32m━━━━━━━━━━━━━━━━━━━━\u001b[0m\u001b[37m\u001b[0m \u001b[1m2s\u001b[0m 2ms/step - loss: 1.2332 - sparse_categorical_accuracy: 0.5680 - val_loss: 1.4831 - val_sparse_categorical_accuracy: 0.4833\n",
      "Epoch 28/50\n",
      "\u001b[1m938/938\u001b[0m \u001b[32m━━━━━━━━━━━━━━━━━━━━\u001b[0m\u001b[37m\u001b[0m \u001b[1m2s\u001b[0m 2ms/step - loss: 1.2184 - sparse_categorical_accuracy: 0.5742 - val_loss: 1.4668 - val_sparse_categorical_accuracy: 0.4882\n",
      "Model took 57.743 seconds to train.\n"
     ]
    }
   ],
   "source": [
    "optimizer = tf.keras.optimizers.SGD(learning_rate=0.01)\n",
    "model = create_model(optimizer=optimizer)\n",
    "train(model,\n",
    "    name='Mini-Batch SGD + Early Stopping',\n",
    "    train_data=train_data,\n",
    "    val_data=val_data,\n",
    "    callbacks=[\n",
    "        tf.keras.callbacks.EarlyStopping(\n",
    "            min_delta=0.001,\n",
    "            patience=5,\n",
    "            verbose=0\n",
    "        )\n",
    "    ]\n",
    ")"
   ]
  },
  {
   "cell_type": "markdown",
   "metadata": {
    "id": "2YNtYWvi6Zt0"
   },
   "source": [
    "## Mini batch SGD With L2 norm regularization"
   ]
  },
  {
   "cell_type": "code",
   "execution_count": 11,
   "metadata": {
    "execution": {
     "iopub.execute_input": "2024-03-12T20:55:31.467460Z",
     "iopub.status.busy": "2024-03-12T20:55:31.467172Z",
     "iopub.status.idle": "2024-03-12T20:57:12.406748Z",
     "shell.execute_reply": "2024-03-12T20:57:12.405709Z",
     "shell.execute_reply.started": "2024-03-12T20:55:31.467435Z"
    },
    "executionInfo": {
     "elapsed": 281914,
     "status": "ok",
     "timestamp": 1710075917500,
     "user": {
      "displayName": "FELLAH ABDELNOUR",
      "userId": "11816603921684129089"
     },
     "user_tz": -60
    },
    "id": "izAUynRT6egG",
    "outputId": "930436bf-e003-4e1c-a73f-be7e8873b4c7"
   },
   "outputs": [
    {
     "name": "stdout",
     "output_type": "stream",
     "text": [
      "Epoch 1/50\n",
      "\u001b[1m 98/938\u001b[0m \u001b[32m━━\u001b[0m\u001b[37m━━━━━━━━━━━━━━━━━━\u001b[0m \u001b[1m1s\u001b[0m 2ms/step - loss: 6.3427 - sparse_categorical_accuracy: 0.1389"
     ]
    },
    {
     "name": "stderr",
     "output_type": "stream",
     "text": [
      "W0000 00:00:1710276933.494158     100 graph_launch.cc:671] Fallback to op-by-op mode because memset node breaks graph update\n"
     ]
    },
    {
     "name": "stdout",
     "output_type": "stream",
     "text": [
      "\u001b[1m938/938\u001b[0m \u001b[32m━━━━━━━━━━━━━━━━━━━━\u001b[0m\u001b[37m\u001b[0m \u001b[1m0s\u001b[0m 2ms/step - loss: 4.9865 - sparse_categorical_accuracy: 0.2306"
     ]
    },
    {
     "name": "stderr",
     "output_type": "stream",
     "text": [
      "W0000 00:00:1710276936.117149     100 graph_launch.cc:671] Fallback to op-by-op mode because memset node breaks graph update\n"
     ]
    },
    {
     "name": "stdout",
     "output_type": "stream",
     "text": [
      "\u001b[1m938/938\u001b[0m \u001b[32m━━━━━━━━━━━━━━━━━━━━\u001b[0m\u001b[37m\u001b[0m \u001b[1m4s\u001b[0m 4ms/step - loss: 4.9854 - sparse_categorical_accuracy: 0.2306 - val_loss: 2.5910 - val_sparse_categorical_accuracy: 0.3354\n",
      "Epoch 2/50\n",
      "\u001b[1m938/938\u001b[0m \u001b[32m━━━━━━━━━━━━━━━━━━━━\u001b[0m\u001b[37m\u001b[0m \u001b[1m2s\u001b[0m 2ms/step - loss: 2.3755 - sparse_categorical_accuracy: 0.3305 - val_loss: 2.0161 - val_sparse_categorical_accuracy: 0.3354\n",
      "Epoch 3/50\n",
      "\u001b[1m938/938\u001b[0m \u001b[32m━━━━━━━━━━━━━━━━━━━━\u001b[0m\u001b[37m\u001b[0m \u001b[1m2s\u001b[0m 2ms/step - loss: 1.9678 - sparse_categorical_accuracy: 0.3434 - val_loss: 1.8822 - val_sparse_categorical_accuracy: 0.3530\n",
      "Epoch 4/50\n",
      "\u001b[1m938/938\u001b[0m \u001b[32m━━━━━━━━━━━━━━━━━━━━\u001b[0m\u001b[37m\u001b[0m \u001b[1m2s\u001b[0m 2ms/step - loss: 1.8760 - sparse_categorical_accuracy: 0.3575 - val_loss: 1.8450 - val_sparse_categorical_accuracy: 0.3610\n",
      "Epoch 5/50\n",
      "\u001b[1m938/938\u001b[0m \u001b[32m━━━━━━━━━━━━━━━━━━━━\u001b[0m\u001b[37m\u001b[0m \u001b[1m2s\u001b[0m 2ms/step - loss: 1.8258 - sparse_categorical_accuracy: 0.3714 - val_loss: 1.8344 - val_sparse_categorical_accuracy: 0.3592\n",
      "Epoch 6/50\n",
      "\u001b[1m938/938\u001b[0m \u001b[32m━━━━━━━━━━━━━━━━━━━━\u001b[0m\u001b[37m\u001b[0m \u001b[1m2s\u001b[0m 2ms/step - loss: 1.7988 - sparse_categorical_accuracy: 0.3805 - val_loss: 1.7907 - val_sparse_categorical_accuracy: 0.3667\n",
      "Epoch 7/50\n",
      "\u001b[1m938/938\u001b[0m \u001b[32m━━━━━━━━━━━━━━━━━━━━\u001b[0m\u001b[37m\u001b[0m \u001b[1m2s\u001b[0m 2ms/step - loss: 1.7746 - sparse_categorical_accuracy: 0.3901 - val_loss: 1.8062 - val_sparse_categorical_accuracy: 0.3645\n",
      "Epoch 8/50\n",
      "\u001b[1m938/938\u001b[0m \u001b[32m━━━━━━━━━━━━━━━━━━━━\u001b[0m\u001b[37m\u001b[0m \u001b[1m2s\u001b[0m 2ms/step - loss: 1.7476 - sparse_categorical_accuracy: 0.3989 - val_loss: 1.7424 - val_sparse_categorical_accuracy: 0.3957\n",
      "Epoch 9/50\n",
      "\u001b[1m938/938\u001b[0m \u001b[32m━━━━━━━━━━━━━━━━━━━━\u001b[0m\u001b[37m\u001b[0m \u001b[1m2s\u001b[0m 2ms/step - loss: 1.7262 - sparse_categorical_accuracy: 0.4092 - val_loss: 1.7443 - val_sparse_categorical_accuracy: 0.4016\n",
      "Epoch 10/50\n",
      "\u001b[1m938/938\u001b[0m \u001b[32m━━━━━━━━━━━━━━━━━━━━\u001b[0m\u001b[37m\u001b[0m \u001b[1m2s\u001b[0m 2ms/step - loss: 1.7059 - sparse_categorical_accuracy: 0.4187 - val_loss: 1.7694 - val_sparse_categorical_accuracy: 0.3845\n",
      "Epoch 11/50\n",
      "\u001b[1m938/938\u001b[0m \u001b[32m━━━━━━━━━━━━━━━━━━━━\u001b[0m\u001b[37m\u001b[0m \u001b[1m2s\u001b[0m 2ms/step - loss: 1.6935 - sparse_categorical_accuracy: 0.4246 - val_loss: 1.7481 - val_sparse_categorical_accuracy: 0.4002\n",
      "Epoch 12/50\n",
      "\u001b[1m938/938\u001b[0m \u001b[32m━━━━━━━━━━━━━━━━━━━━\u001b[0m\u001b[37m\u001b[0m \u001b[1m2s\u001b[0m 2ms/step - loss: 1.6617 - sparse_categorical_accuracy: 0.4294 - val_loss: 1.6952 - val_sparse_categorical_accuracy: 0.4251\n",
      "Epoch 13/50\n",
      "\u001b[1m938/938\u001b[0m \u001b[32m━━━━━━━━━━━━━━━━━━━━\u001b[0m\u001b[37m\u001b[0m \u001b[1m2s\u001b[0m 2ms/step - loss: 1.6582 - sparse_categorical_accuracy: 0.4363 - val_loss: 1.6800 - val_sparse_categorical_accuracy: 0.4190\n",
      "Epoch 14/50\n",
      "\u001b[1m938/938\u001b[0m \u001b[32m━━━━━━━━━━━━━━━━━━━━\u001b[0m\u001b[37m\u001b[0m \u001b[1m2s\u001b[0m 2ms/step - loss: 1.6515 - sparse_categorical_accuracy: 0.4392 - val_loss: 1.6563 - val_sparse_categorical_accuracy: 0.4350\n",
      "Epoch 15/50\n",
      "\u001b[1m938/938\u001b[0m \u001b[32m━━━━━━━━━━━━━━━━━━━━\u001b[0m\u001b[37m\u001b[0m \u001b[1m2s\u001b[0m 2ms/step - loss: 1.6398 - sparse_categorical_accuracy: 0.4406 - val_loss: 1.6961 - val_sparse_categorical_accuracy: 0.4166\n",
      "Epoch 16/50\n",
      "\u001b[1m938/938\u001b[0m \u001b[32m━━━━━━━━━━━━━━━━━━━━\u001b[0m\u001b[37m\u001b[0m \u001b[1m2s\u001b[0m 2ms/step - loss: 1.6227 - sparse_categorical_accuracy: 0.4488 - val_loss: 1.6754 - val_sparse_categorical_accuracy: 0.4259\n",
      "Epoch 17/50\n",
      "\u001b[1m938/938\u001b[0m \u001b[32m━━━━━━━━━━━━━━━━━━━━\u001b[0m\u001b[37m\u001b[0m \u001b[1m2s\u001b[0m 2ms/step - loss: 1.6133 - sparse_categorical_accuracy: 0.4526 - val_loss: 1.6597 - val_sparse_categorical_accuracy: 0.4361\n",
      "Epoch 18/50\n",
      "\u001b[1m938/938\u001b[0m \u001b[32m━━━━━━━━━━━━━━━━━━━━\u001b[0m\u001b[37m\u001b[0m \u001b[1m2s\u001b[0m 2ms/step - loss: 1.5977 - sparse_categorical_accuracy: 0.4564 - val_loss: 1.6361 - val_sparse_categorical_accuracy: 0.4378\n",
      "Epoch 19/50\n",
      "\u001b[1m938/938\u001b[0m \u001b[32m━━━━━━━━━━━━━━━━━━━━\u001b[0m\u001b[37m\u001b[0m \u001b[1m2s\u001b[0m 2ms/step - loss: 1.5898 - sparse_categorical_accuracy: 0.4624 - val_loss: 1.6228 - val_sparse_categorical_accuracy: 0.4468\n",
      "Epoch 20/50\n",
      "\u001b[1m938/938\u001b[0m \u001b[32m━━━━━━━━━━━━━━━━━━━━\u001b[0m\u001b[37m\u001b[0m \u001b[1m2s\u001b[0m 2ms/step - loss: 1.5686 - sparse_categorical_accuracy: 0.4676 - val_loss: 1.6307 - val_sparse_categorical_accuracy: 0.4357\n",
      "Epoch 21/50\n",
      "\u001b[1m938/938\u001b[0m \u001b[32m━━━━━━━━━━━━━━━━━━━━\u001b[0m\u001b[37m\u001b[0m \u001b[1m2s\u001b[0m 2ms/step - loss: 1.5649 - sparse_categorical_accuracy: 0.4689 - val_loss: 1.6625 - val_sparse_categorical_accuracy: 0.4234\n",
      "Epoch 22/50\n",
      "\u001b[1m938/938\u001b[0m \u001b[32m━━━━━━━━━━━━━━━━━━━━\u001b[0m\u001b[37m\u001b[0m \u001b[1m2s\u001b[0m 2ms/step - loss: 1.5573 - sparse_categorical_accuracy: 0.4681 - val_loss: 1.6042 - val_sparse_categorical_accuracy: 0.4474\n",
      "Epoch 23/50\n",
      "\u001b[1m938/938\u001b[0m \u001b[32m━━━━━━━━━━━━━━━━━━━━\u001b[0m\u001b[37m\u001b[0m \u001b[1m2s\u001b[0m 2ms/step - loss: 1.5535 - sparse_categorical_accuracy: 0.4712 - val_loss: 1.6123 - val_sparse_categorical_accuracy: 0.4474\n",
      "Epoch 24/50\n",
      "\u001b[1m938/938\u001b[0m \u001b[32m━━━━━━━━━━━━━━━━━━━━\u001b[0m\u001b[37m\u001b[0m \u001b[1m2s\u001b[0m 2ms/step - loss: 1.5435 - sparse_categorical_accuracy: 0.4762 - val_loss: 1.6492 - val_sparse_categorical_accuracy: 0.4388\n",
      "Epoch 25/50\n",
      "\u001b[1m938/938\u001b[0m \u001b[32m━━━━━━━━━━━━━━━━━━━━\u001b[0m\u001b[37m\u001b[0m \u001b[1m2s\u001b[0m 2ms/step - loss: 1.5422 - sparse_categorical_accuracy: 0.4784 - val_loss: 1.5774 - val_sparse_categorical_accuracy: 0.4585\n",
      "Epoch 26/50\n",
      "\u001b[1m938/938\u001b[0m \u001b[32m━━━━━━━━━━━━━━━━━━━━\u001b[0m\u001b[37m\u001b[0m \u001b[1m2s\u001b[0m 2ms/step - loss: 1.5294 - sparse_categorical_accuracy: 0.4821 - val_loss: 1.6066 - val_sparse_categorical_accuracy: 0.4515\n",
      "Epoch 27/50\n",
      "\u001b[1m938/938\u001b[0m \u001b[32m━━━━━━━━━━━━━━━━━━━━\u001b[0m\u001b[37m\u001b[0m \u001b[1m2s\u001b[0m 2ms/step - loss: 1.5215 - sparse_categorical_accuracy: 0.4844 - val_loss: 1.5958 - val_sparse_categorical_accuracy: 0.4529\n",
      "Epoch 28/50\n",
      "\u001b[1m938/938\u001b[0m \u001b[32m━━━━━━━━━━━━━━━━━━━━\u001b[0m\u001b[37m\u001b[0m \u001b[1m2s\u001b[0m 2ms/step - loss: 1.5079 - sparse_categorical_accuracy: 0.4864 - val_loss: 1.6133 - val_sparse_categorical_accuracy: 0.4498\n",
      "Epoch 29/50\n",
      "\u001b[1m938/938\u001b[0m \u001b[32m━━━━━━━━━━━━━━━━━━━━\u001b[0m\u001b[37m\u001b[0m \u001b[1m2s\u001b[0m 2ms/step - loss: 1.5022 - sparse_categorical_accuracy: 0.4886 - val_loss: 1.6011 - val_sparse_categorical_accuracy: 0.4563\n",
      "Epoch 30/50\n",
      "\u001b[1m938/938\u001b[0m \u001b[32m━━━━━━━━━━━━━━━━━━━━\u001b[0m\u001b[37m\u001b[0m \u001b[1m2s\u001b[0m 2ms/step - loss: 1.4920 - sparse_categorical_accuracy: 0.4936 - val_loss: 1.5853 - val_sparse_categorical_accuracy: 0.4599\n",
      "Epoch 31/50\n",
      "\u001b[1m938/938\u001b[0m \u001b[32m━━━━━━━━━━━━━━━━━━━━\u001b[0m\u001b[37m\u001b[0m \u001b[1m2s\u001b[0m 2ms/step - loss: 1.4990 - sparse_categorical_accuracy: 0.4915 - val_loss: 1.5980 - val_sparse_categorical_accuracy: 0.4539\n",
      "Epoch 32/50\n",
      "\u001b[1m938/938\u001b[0m \u001b[32m━━━━━━━━━━━━━━━━━━━━\u001b[0m\u001b[37m\u001b[0m \u001b[1m2s\u001b[0m 2ms/step - loss: 1.4883 - sparse_categorical_accuracy: 0.4947 - val_loss: 1.6165 - val_sparse_categorical_accuracy: 0.4374\n",
      "Epoch 33/50\n",
      "\u001b[1m938/938\u001b[0m \u001b[32m━━━━━━━━━━━━━━━━━━━━\u001b[0m\u001b[37m\u001b[0m \u001b[1m2s\u001b[0m 2ms/step - loss: 1.4873 - sparse_categorical_accuracy: 0.4976 - val_loss: 1.5893 - val_sparse_categorical_accuracy: 0.4557\n",
      "Epoch 34/50\n",
      "\u001b[1m938/938\u001b[0m \u001b[32m━━━━━━━━━━━━━━━━━━━━\u001b[0m\u001b[37m\u001b[0m \u001b[1m2s\u001b[0m 2ms/step - loss: 1.4799 - sparse_categorical_accuracy: 0.5031 - val_loss: 1.5929 - val_sparse_categorical_accuracy: 0.4644\n",
      "Epoch 35/50\n",
      "\u001b[1m938/938\u001b[0m \u001b[32m━━━━━━━━━━━━━━━━━━━━\u001b[0m\u001b[37m\u001b[0m \u001b[1m2s\u001b[0m 2ms/step - loss: 1.4692 - sparse_categorical_accuracy: 0.5019 - val_loss: 1.6832 - val_sparse_categorical_accuracy: 0.4372\n",
      "Epoch 36/50\n",
      "\u001b[1m938/938\u001b[0m \u001b[32m━━━━━━━━━━━━━━━━━━━━\u001b[0m\u001b[37m\u001b[0m \u001b[1m2s\u001b[0m 2ms/step - loss: 1.4654 - sparse_categorical_accuracy: 0.5059 - val_loss: 1.5499 - val_sparse_categorical_accuracy: 0.4724\n",
      "Epoch 37/50\n",
      "\u001b[1m938/938\u001b[0m \u001b[32m━━━━━━━━━━━━━━━━━━━━\u001b[0m\u001b[37m\u001b[0m \u001b[1m2s\u001b[0m 2ms/step - loss: 1.4551 - sparse_categorical_accuracy: 0.5108 - val_loss: 1.5661 - val_sparse_categorical_accuracy: 0.4656\n",
      "Epoch 38/50\n",
      "\u001b[1m938/938\u001b[0m \u001b[32m━━━━━━━━━━━━━━━━━━━━\u001b[0m\u001b[37m\u001b[0m \u001b[1m2s\u001b[0m 2ms/step - loss: 1.4446 - sparse_categorical_accuracy: 0.5139 - val_loss: 1.6288 - val_sparse_categorical_accuracy: 0.4432\n",
      "Epoch 39/50\n",
      "\u001b[1m938/938\u001b[0m \u001b[32m━━━━━━━━━━━━━━━━━━━━\u001b[0m\u001b[37m\u001b[0m \u001b[1m2s\u001b[0m 2ms/step - loss: 1.4366 - sparse_categorical_accuracy: 0.5129 - val_loss: 1.5473 - val_sparse_categorical_accuracy: 0.4778\n",
      "Epoch 40/50\n",
      "\u001b[1m938/938\u001b[0m \u001b[32m━━━━━━━━━━━━━━━━━━━━\u001b[0m\u001b[37m\u001b[0m \u001b[1m2s\u001b[0m 2ms/step - loss: 1.4489 - sparse_categorical_accuracy: 0.5112 - val_loss: 1.5757 - val_sparse_categorical_accuracy: 0.4614\n",
      "Epoch 41/50\n",
      "\u001b[1m938/938\u001b[0m \u001b[32m━━━━━━━━━━━━━━━━━━━━\u001b[0m\u001b[37m\u001b[0m \u001b[1m2s\u001b[0m 2ms/step - loss: 1.4382 - sparse_categorical_accuracy: 0.5085 - val_loss: 1.5744 - val_sparse_categorical_accuracy: 0.4725\n",
      "Epoch 42/50\n",
      "\u001b[1m938/938\u001b[0m \u001b[32m━━━━━━━━━━━━━━━━━━━━\u001b[0m\u001b[37m\u001b[0m \u001b[1m2s\u001b[0m 2ms/step - loss: 1.4303 - sparse_categorical_accuracy: 0.5158 - val_loss: 1.5684 - val_sparse_categorical_accuracy: 0.4606\n",
      "Epoch 43/50\n",
      "\u001b[1m938/938\u001b[0m \u001b[32m━━━━━━━━━━━━━━━━━━━━\u001b[0m\u001b[37m\u001b[0m \u001b[1m2s\u001b[0m 2ms/step - loss: 1.4199 - sparse_categorical_accuracy: 0.5218 - val_loss: 1.5521 - val_sparse_categorical_accuracy: 0.4716\n",
      "Epoch 44/50\n",
      "\u001b[1m938/938\u001b[0m \u001b[32m━━━━━━━━━━━━━━━━━━━━\u001b[0m\u001b[37m\u001b[0m \u001b[1m2s\u001b[0m 2ms/step - loss: 1.4112 - sparse_categorical_accuracy: 0.5216 - val_loss: 1.5570 - val_sparse_categorical_accuracy: 0.4776\n",
      "Epoch 45/50\n",
      "\u001b[1m938/938\u001b[0m \u001b[32m━━━━━━━━━━━━━━━━━━━━\u001b[0m\u001b[37m\u001b[0m \u001b[1m2s\u001b[0m 2ms/step - loss: 1.4173 - sparse_categorical_accuracy: 0.5241 - val_loss: 1.5511 - val_sparse_categorical_accuracy: 0.4639\n",
      "Epoch 46/50\n",
      "\u001b[1m938/938\u001b[0m \u001b[32m━━━━━━━━━━━━━━━━━━━━\u001b[0m\u001b[37m\u001b[0m \u001b[1m2s\u001b[0m 2ms/step - loss: 1.4183 - sparse_categorical_accuracy: 0.5245 - val_loss: 1.5754 - val_sparse_categorical_accuracy: 0.4591\n",
      "Epoch 47/50\n",
      "\u001b[1m938/938\u001b[0m \u001b[32m━━━━━━━━━━━━━━━━━━━━\u001b[0m\u001b[37m\u001b[0m \u001b[1m2s\u001b[0m 2ms/step - loss: 1.4115 - sparse_categorical_accuracy: 0.5240 - val_loss: 1.5333 - val_sparse_categorical_accuracy: 0.4842\n",
      "Epoch 48/50\n",
      "\u001b[1m938/938\u001b[0m \u001b[32m━━━━━━━━━━━━━━━━━━━━\u001b[0m\u001b[37m\u001b[0m \u001b[1m2s\u001b[0m 2ms/step - loss: 1.3987 - sparse_categorical_accuracy: 0.5272 - val_loss: 1.5610 - val_sparse_categorical_accuracy: 0.4710\n",
      "Epoch 49/50\n",
      "\u001b[1m938/938\u001b[0m \u001b[32m━━━━━━━━━━━━━━━━━━━━\u001b[0m\u001b[37m\u001b[0m \u001b[1m2s\u001b[0m 2ms/step - loss: 1.3989 - sparse_categorical_accuracy: 0.5255 - val_loss: 1.5346 - val_sparse_categorical_accuracy: 0.4809\n",
      "Epoch 50/50\n",
      "\u001b[1m938/938\u001b[0m \u001b[32m━━━━━━━━━━━━━━━━━━━━\u001b[0m\u001b[37m\u001b[0m \u001b[1m2s\u001b[0m 2ms/step - loss: 1.3948 - sparse_categorical_accuracy: 0.5298 - val_loss: 1.5281 - val_sparse_categorical_accuracy: 0.4837\n",
      "Model took 100.923 seconds to train.\n"
     ]
    }
   ],
   "source": [
    "optimizer = tf.keras.optimizers.SGD(learning_rate=0.01)\n",
    "model = create_model(optimizer=optimizer,lambda_=0.05)\n",
    "train(model,\n",
    "    name='Mini-Batch SGD With L2 Nomralization',\n",
    "    train_data=train_data,\n",
    "    val_data=val_data,\n",
    ")"
   ]
  },
  {
   "cell_type": "markdown",
   "metadata": {
    "id": "NtHgDlYF60ha"
   },
   "source": [
    "## Mini Batch SGD With Dropout=0.2"
   ]
  },
  {
   "cell_type": "code",
   "execution_count": 12,
   "metadata": {
    "execution": {
     "iopub.execute_input": "2024-03-12T20:57:12.408856Z",
     "iopub.status.busy": "2024-03-12T20:57:12.408543Z",
     "iopub.status.idle": "2024-03-12T20:58:57.837202Z",
     "shell.execute_reply": "2024-03-12T20:58:57.836228Z",
     "shell.execute_reply.started": "2024-03-12T20:57:12.408830Z"
    },
    "executionInfo": {
     "elapsed": 296585,
     "status": "ok",
     "timestamp": 1710076224457,
     "user": {
      "displayName": "FELLAH ABDELNOUR",
      "userId": "11816603921684129089"
     },
     "user_tz": -60
    },
    "id": "AkhXyQv7671_",
    "outputId": "82cf944f-5a7c-45d1-ae1d-760043a50ffd"
   },
   "outputs": [
    {
     "name": "stdout",
     "output_type": "stream",
     "text": [
      "Epoch 1/50\n",
      "\u001b[1m 94/938\u001b[0m \u001b[32m━━\u001b[0m\u001b[37m━━━━━━━━━━━━━━━━━━\u001b[0m \u001b[1m1s\u001b[0m 2ms/step - loss: 2.3134 - sparse_categorical_accuracy: 0.1210"
     ]
    },
    {
     "name": "stderr",
     "output_type": "stream",
     "text": [
      "W0000 00:00:1710277035.652785     101 graph_launch.cc:671] Fallback to op-by-op mode because memset node breaks graph update\n"
     ]
    },
    {
     "name": "stdout",
     "output_type": "stream",
     "text": [
      "\u001b[1m938/938\u001b[0m \u001b[32m━━━━━━━━━━━━━━━━━━━━\u001b[0m\u001b[37m\u001b[0m \u001b[1m0s\u001b[0m 3ms/step - loss: 2.1173 - sparse_categorical_accuracy: 0.2177"
     ]
    },
    {
     "name": "stderr",
     "output_type": "stream",
     "text": [
      "W0000 00:00:1710277039.168577     101 graph_launch.cc:671] Fallback to op-by-op mode because memset node breaks graph update\n"
     ]
    },
    {
     "name": "stdout",
     "output_type": "stream",
     "text": [
      "\u001b[1m938/938\u001b[0m \u001b[32m━━━━━━━━━━━━━━━━━━━━\u001b[0m\u001b[37m\u001b[0m \u001b[1m6s\u001b[0m 4ms/step - loss: 2.1172 - sparse_categorical_accuracy: 0.2178 - val_loss: 1.8835 - val_sparse_categorical_accuracy: 0.3315\n",
      "Epoch 2/50\n",
      "\u001b[1m938/938\u001b[0m \u001b[32m━━━━━━━━━━━━━━━━━━━━\u001b[0m\u001b[37m\u001b[0m \u001b[1m2s\u001b[0m 2ms/step - loss: 1.8756 - sparse_categorical_accuracy: 0.3260 - val_loss: 1.8328 - val_sparse_categorical_accuracy: 0.3345\n",
      "Epoch 3/50\n",
      "\u001b[1m938/938\u001b[0m \u001b[32m━━━━━━━━━━━━━━━━━━━━\u001b[0m\u001b[37m\u001b[0m \u001b[1m2s\u001b[0m 2ms/step - loss: 1.8038 - sparse_categorical_accuracy: 0.3559 - val_loss: 1.8475 - val_sparse_categorical_accuracy: 0.3373\n",
      "Epoch 4/50\n",
      "\u001b[1m938/938\u001b[0m \u001b[32m━━━━━━━━━━━━━━━━━━━━\u001b[0m\u001b[37m\u001b[0m \u001b[1m2s\u001b[0m 2ms/step - loss: 1.7458 - sparse_categorical_accuracy: 0.3813 - val_loss: 1.7014 - val_sparse_categorical_accuracy: 0.3901\n",
      "Epoch 5/50\n",
      "\u001b[1m938/938\u001b[0m \u001b[32m━━━━━━━━━━━━━━━━━━━━\u001b[0m\u001b[37m\u001b[0m \u001b[1m2s\u001b[0m 2ms/step - loss: 1.7104 - sparse_categorical_accuracy: 0.3952 - val_loss: 1.6982 - val_sparse_categorical_accuracy: 0.3970\n",
      "Epoch 6/50\n",
      "\u001b[1m938/938\u001b[0m \u001b[32m━━━━━━━━━━━━━━━━━━━━\u001b[0m\u001b[37m\u001b[0m \u001b[1m2s\u001b[0m 2ms/step - loss: 1.6829 - sparse_categorical_accuracy: 0.3998 - val_loss: 1.6412 - val_sparse_categorical_accuracy: 0.4127\n",
      "Epoch 7/50\n",
      "\u001b[1m938/938\u001b[0m \u001b[32m━━━━━━━━━━━━━━━━━━━━\u001b[0m\u001b[37m\u001b[0m \u001b[1m2s\u001b[0m 2ms/step - loss: 1.6588 - sparse_categorical_accuracy: 0.4090 - val_loss: 1.7149 - val_sparse_categorical_accuracy: 0.3861\n",
      "Epoch 8/50\n",
      "\u001b[1m938/938\u001b[0m \u001b[32m━━━━━━━━━━━━━━━━━━━━\u001b[0m\u001b[37m\u001b[0m \u001b[1m2s\u001b[0m 2ms/step - loss: 1.6328 - sparse_categorical_accuracy: 0.4172 - val_loss: 1.6528 - val_sparse_categorical_accuracy: 0.4095\n",
      "Epoch 9/50\n",
      "\u001b[1m938/938\u001b[0m \u001b[32m━━━━━━━━━━━━━━━━━━━━\u001b[0m\u001b[37m\u001b[0m \u001b[1m2s\u001b[0m 2ms/step - loss: 1.6036 - sparse_categorical_accuracy: 0.4308 - val_loss: 1.6068 - val_sparse_categorical_accuracy: 0.4229\n",
      "Epoch 10/50\n",
      "\u001b[1m938/938\u001b[0m \u001b[32m━━━━━━━━━━━━━━━━━━━━\u001b[0m\u001b[37m\u001b[0m \u001b[1m2s\u001b[0m 2ms/step - loss: 1.5870 - sparse_categorical_accuracy: 0.4424 - val_loss: 1.5665 - val_sparse_categorical_accuracy: 0.4368\n",
      "Epoch 11/50\n",
      "\u001b[1m938/938\u001b[0m \u001b[32m━━━━━━━━━━━━━━━━━━━━\u001b[0m\u001b[37m\u001b[0m \u001b[1m2s\u001b[0m 2ms/step - loss: 1.5587 - sparse_categorical_accuracy: 0.4471 - val_loss: 1.5762 - val_sparse_categorical_accuracy: 0.4346\n",
      "Epoch 12/50\n",
      "\u001b[1m938/938\u001b[0m \u001b[32m━━━━━━━━━━━━━━━━━━━━\u001b[0m\u001b[37m\u001b[0m \u001b[1m2s\u001b[0m 2ms/step - loss: 1.5418 - sparse_categorical_accuracy: 0.4535 - val_loss: 1.5718 - val_sparse_categorical_accuracy: 0.4428\n",
      "Epoch 13/50\n",
      "\u001b[1m938/938\u001b[0m \u001b[32m━━━━━━━━━━━━━━━━━━━━\u001b[0m\u001b[37m\u001b[0m \u001b[1m2s\u001b[0m 2ms/step - loss: 1.5214 - sparse_categorical_accuracy: 0.4613 - val_loss: 1.5356 - val_sparse_categorical_accuracy: 0.4543\n",
      "Epoch 14/50\n",
      "\u001b[1m938/938\u001b[0m \u001b[32m━━━━━━━━━━━━━━━━━━━━\u001b[0m\u001b[37m\u001b[0m \u001b[1m2s\u001b[0m 2ms/step - loss: 1.5093 - sparse_categorical_accuracy: 0.4629 - val_loss: 1.5567 - val_sparse_categorical_accuracy: 0.4466\n",
      "Epoch 15/50\n",
      "\u001b[1m938/938\u001b[0m \u001b[32m━━━━━━━━━━━━━━━━━━━━\u001b[0m\u001b[37m\u001b[0m \u001b[1m2s\u001b[0m 2ms/step - loss: 1.4981 - sparse_categorical_accuracy: 0.4706 - val_loss: 1.5290 - val_sparse_categorical_accuracy: 0.4521\n",
      "Epoch 16/50\n",
      "\u001b[1m938/938\u001b[0m \u001b[32m━━━━━━━━━━━━━━━━━━━━\u001b[0m\u001b[37m\u001b[0m \u001b[1m2s\u001b[0m 2ms/step - loss: 1.4793 - sparse_categorical_accuracy: 0.4792 - val_loss: 1.5311 - val_sparse_categorical_accuracy: 0.4592\n",
      "Epoch 17/50\n",
      "\u001b[1m938/938\u001b[0m \u001b[32m━━━━━━━━━━━━━━━━━━━━\u001b[0m\u001b[37m\u001b[0m \u001b[1m2s\u001b[0m 2ms/step - loss: 1.4761 - sparse_categorical_accuracy: 0.4777 - val_loss: 1.5366 - val_sparse_categorical_accuracy: 0.4494\n",
      "Epoch 18/50\n",
      "\u001b[1m938/938\u001b[0m \u001b[32m━━━━━━━━━━━━━━━━━━━━\u001b[0m\u001b[37m\u001b[0m \u001b[1m2s\u001b[0m 2ms/step - loss: 1.4539 - sparse_categorical_accuracy: 0.4851 - val_loss: 1.5426 - val_sparse_categorical_accuracy: 0.4414\n",
      "Epoch 19/50\n",
      "\u001b[1m938/938\u001b[0m \u001b[32m━━━━━━━━━━━━━━━━━━━━\u001b[0m\u001b[37m\u001b[0m \u001b[1m2s\u001b[0m 2ms/step - loss: 1.4501 - sparse_categorical_accuracy: 0.4859 - val_loss: 1.6738 - val_sparse_categorical_accuracy: 0.4057\n",
      "Epoch 20/50\n",
      "\u001b[1m938/938\u001b[0m \u001b[32m━━━━━━━━━━━━━━━━━━━━\u001b[0m\u001b[37m\u001b[0m \u001b[1m2s\u001b[0m 2ms/step - loss: 1.4378 - sparse_categorical_accuracy: 0.4909 - val_loss: 1.5640 - val_sparse_categorical_accuracy: 0.4488\n",
      "Epoch 21/50\n",
      "\u001b[1m938/938\u001b[0m \u001b[32m━━━━━━━━━━━━━━━━━━━━\u001b[0m\u001b[37m\u001b[0m \u001b[1m2s\u001b[0m 2ms/step - loss: 1.4173 - sparse_categorical_accuracy: 0.4936 - val_loss: 1.5163 - val_sparse_categorical_accuracy: 0.4640\n",
      "Epoch 22/50\n",
      "\u001b[1m938/938\u001b[0m \u001b[32m━━━━━━━━━━━━━━━━━━━━\u001b[0m\u001b[37m\u001b[0m \u001b[1m2s\u001b[0m 2ms/step - loss: 1.4215 - sparse_categorical_accuracy: 0.4961 - val_loss: 1.4896 - val_sparse_categorical_accuracy: 0.4680\n",
      "Epoch 23/50\n",
      "\u001b[1m938/938\u001b[0m \u001b[32m━━━━━━━━━━━━━━━━━━━━\u001b[0m\u001b[37m\u001b[0m \u001b[1m2s\u001b[0m 2ms/step - loss: 1.4029 - sparse_categorical_accuracy: 0.5046 - val_loss: 1.5408 - val_sparse_categorical_accuracy: 0.4490\n",
      "Epoch 24/50\n",
      "\u001b[1m938/938\u001b[0m \u001b[32m━━━━━━━━━━━━━━━━━━━━\u001b[0m\u001b[37m\u001b[0m \u001b[1m2s\u001b[0m 2ms/step - loss: 1.3931 - sparse_categorical_accuracy: 0.5052 - val_loss: 1.5109 - val_sparse_categorical_accuracy: 0.4590\n",
      "Epoch 25/50\n",
      "\u001b[1m938/938\u001b[0m \u001b[32m━━━━━━━━━━━━━━━━━━━━\u001b[0m\u001b[37m\u001b[0m \u001b[1m2s\u001b[0m 2ms/step - loss: 1.3897 - sparse_categorical_accuracy: 0.5038 - val_loss: 1.6574 - val_sparse_categorical_accuracy: 0.4132\n",
      "Epoch 26/50\n",
      "\u001b[1m938/938\u001b[0m \u001b[32m━━━━━━━━━━━━━━━━━━━━\u001b[0m\u001b[37m\u001b[0m \u001b[1m2s\u001b[0m 2ms/step - loss: 1.3777 - sparse_categorical_accuracy: 0.5096 - val_loss: 1.5493 - val_sparse_categorical_accuracy: 0.4486\n",
      "Epoch 27/50\n",
      "\u001b[1m938/938\u001b[0m \u001b[32m━━━━━━━━━━━━━━━━━━━━\u001b[0m\u001b[37m\u001b[0m \u001b[1m2s\u001b[0m 2ms/step - loss: 1.3657 - sparse_categorical_accuracy: 0.5201 - val_loss: 1.5112 - val_sparse_categorical_accuracy: 0.4593\n",
      "Epoch 28/50\n",
      "\u001b[1m938/938\u001b[0m \u001b[32m━━━━━━━━━━━━━━━━━━━━\u001b[0m\u001b[37m\u001b[0m \u001b[1m2s\u001b[0m 2ms/step - loss: 1.3500 - sparse_categorical_accuracy: 0.5161 - val_loss: 1.4778 - val_sparse_categorical_accuracy: 0.4743\n",
      "Epoch 29/50\n",
      "\u001b[1m938/938\u001b[0m \u001b[32m━━━━━━━━━━━━━━━━━━━━\u001b[0m\u001b[37m\u001b[0m \u001b[1m2s\u001b[0m 2ms/step - loss: 1.3513 - sparse_categorical_accuracy: 0.5213 - val_loss: 1.5185 - val_sparse_categorical_accuracy: 0.4566\n",
      "Epoch 30/50\n",
      "\u001b[1m938/938\u001b[0m \u001b[32m━━━━━━━━━━━━━━━━━━━━\u001b[0m\u001b[37m\u001b[0m \u001b[1m2s\u001b[0m 2ms/step - loss: 1.3354 - sparse_categorical_accuracy: 0.5242 - val_loss: 1.4740 - val_sparse_categorical_accuracy: 0.4713\n",
      "Epoch 31/50\n",
      "\u001b[1m938/938\u001b[0m \u001b[32m━━━━━━━━━━━━━━━━━━━━\u001b[0m\u001b[37m\u001b[0m \u001b[1m2s\u001b[0m 2ms/step - loss: 1.3319 - sparse_categorical_accuracy: 0.5316 - val_loss: 1.5306 - val_sparse_categorical_accuracy: 0.4558\n",
      "Epoch 32/50\n",
      "\u001b[1m938/938\u001b[0m \u001b[32m━━━━━━━━━━━━━━━━━━━━\u001b[0m\u001b[37m\u001b[0m \u001b[1m2s\u001b[0m 2ms/step - loss: 1.3142 - sparse_categorical_accuracy: 0.5340 - val_loss: 1.4893 - val_sparse_categorical_accuracy: 0.4622\n",
      "Epoch 33/50\n",
      "\u001b[1m938/938\u001b[0m \u001b[32m━━━━━━━━━━━━━━━━━━━━\u001b[0m\u001b[37m\u001b[0m \u001b[1m2s\u001b[0m 2ms/step - loss: 1.3142 - sparse_categorical_accuracy: 0.5305 - val_loss: 1.5615 - val_sparse_categorical_accuracy: 0.4590\n",
      "Epoch 34/50\n",
      "\u001b[1m938/938\u001b[0m \u001b[32m━━━━━━━━━━━━━━━━━━━━\u001b[0m\u001b[37m\u001b[0m \u001b[1m2s\u001b[0m 2ms/step - loss: 1.3044 - sparse_categorical_accuracy: 0.5342 - val_loss: 1.7081 - val_sparse_categorical_accuracy: 0.4223\n",
      "Epoch 35/50\n",
      "\u001b[1m938/938\u001b[0m \u001b[32m━━━━━━━━━━━━━━━━━━━━\u001b[0m\u001b[37m\u001b[0m \u001b[1m2s\u001b[0m 2ms/step - loss: 1.3003 - sparse_categorical_accuracy: 0.5371 - val_loss: 1.5069 - val_sparse_categorical_accuracy: 0.4618\n",
      "Epoch 36/50\n",
      "\u001b[1m938/938\u001b[0m \u001b[32m━━━━━━━━━━━━━━━━━━━━\u001b[0m\u001b[37m\u001b[0m \u001b[1m2s\u001b[0m 2ms/step - loss: 1.2906 - sparse_categorical_accuracy: 0.5423 - val_loss: 1.4949 - val_sparse_categorical_accuracy: 0.4706\n",
      "Epoch 37/50\n",
      "\u001b[1m938/938\u001b[0m \u001b[32m━━━━━━━━━━━━━━━━━━━━\u001b[0m\u001b[37m\u001b[0m \u001b[1m2s\u001b[0m 2ms/step - loss: 1.2793 - sparse_categorical_accuracy: 0.5399 - val_loss: 1.5071 - val_sparse_categorical_accuracy: 0.4664\n",
      "Epoch 38/50\n",
      "\u001b[1m938/938\u001b[0m \u001b[32m━━━━━━━━━━━━━━━━━━━━\u001b[0m\u001b[37m\u001b[0m \u001b[1m2s\u001b[0m 2ms/step - loss: 1.2636 - sparse_categorical_accuracy: 0.5463 - val_loss: 1.5094 - val_sparse_categorical_accuracy: 0.4689\n",
      "Epoch 39/50\n",
      "\u001b[1m938/938\u001b[0m \u001b[32m━━━━━━━━━━━━━━━━━━━━\u001b[0m\u001b[37m\u001b[0m \u001b[1m2s\u001b[0m 2ms/step - loss: 1.2565 - sparse_categorical_accuracy: 0.5536 - val_loss: 1.4599 - val_sparse_categorical_accuracy: 0.4808\n",
      "Epoch 40/50\n",
      "\u001b[1m938/938\u001b[0m \u001b[32m━━━━━━━━━━━━━━━━━━━━\u001b[0m\u001b[37m\u001b[0m \u001b[1m2s\u001b[0m 2ms/step - loss: 1.2594 - sparse_categorical_accuracy: 0.5526 - val_loss: 1.4575 - val_sparse_categorical_accuracy: 0.4868\n",
      "Epoch 41/50\n",
      "\u001b[1m938/938\u001b[0m \u001b[32m━━━━━━━━━━━━━━━━━━━━\u001b[0m\u001b[37m\u001b[0m \u001b[1m2s\u001b[0m 2ms/step - loss: 1.2434 - sparse_categorical_accuracy: 0.5564 - val_loss: 1.5122 - val_sparse_categorical_accuracy: 0.4643\n",
      "Epoch 42/50\n",
      "\u001b[1m938/938\u001b[0m \u001b[32m━━━━━━━━━━━━━━━━━━━━\u001b[0m\u001b[37m\u001b[0m \u001b[1m2s\u001b[0m 2ms/step - loss: 1.2407 - sparse_categorical_accuracy: 0.5552 - val_loss: 1.4479 - val_sparse_categorical_accuracy: 0.4882\n",
      "Epoch 43/50\n",
      "\u001b[1m938/938\u001b[0m \u001b[32m━━━━━━━━━━━━━━━━━━━━\u001b[0m\u001b[37m\u001b[0m \u001b[1m2s\u001b[0m 2ms/step - loss: 1.2377 - sparse_categorical_accuracy: 0.5561 - val_loss: 1.4688 - val_sparse_categorical_accuracy: 0.4775\n",
      "Epoch 44/50\n",
      "\u001b[1m938/938\u001b[0m \u001b[32m━━━━━━━━━━━━━━━━━━━━\u001b[0m\u001b[37m\u001b[0m \u001b[1m2s\u001b[0m 2ms/step - loss: 1.2373 - sparse_categorical_accuracy: 0.5585 - val_loss: 1.4510 - val_sparse_categorical_accuracy: 0.4885\n",
      "Epoch 45/50\n",
      "\u001b[1m938/938\u001b[0m \u001b[32m━━━━━━━━━━━━━━━━━━━━\u001b[0m\u001b[37m\u001b[0m \u001b[1m2s\u001b[0m 2ms/step - loss: 1.2152 - sparse_categorical_accuracy: 0.5704 - val_loss: 1.4772 - val_sparse_categorical_accuracy: 0.4783\n",
      "Epoch 46/50\n",
      "\u001b[1m938/938\u001b[0m \u001b[32m━━━━━━━━━━━━━━━━━━━━\u001b[0m\u001b[37m\u001b[0m \u001b[1m2s\u001b[0m 2ms/step - loss: 1.2217 - sparse_categorical_accuracy: 0.5602 - val_loss: 1.4762 - val_sparse_categorical_accuracy: 0.4872\n",
      "Epoch 47/50\n",
      "\u001b[1m938/938\u001b[0m \u001b[32m━━━━━━━━━━━━━━━━━━━━\u001b[0m\u001b[37m\u001b[0m \u001b[1m2s\u001b[0m 2ms/step - loss: 1.2045 - sparse_categorical_accuracy: 0.5691 - val_loss: 1.4971 - val_sparse_categorical_accuracy: 0.4779\n",
      "Epoch 48/50\n",
      "\u001b[1m938/938\u001b[0m \u001b[32m━━━━━━━━━━━━━━━━━━━━\u001b[0m\u001b[37m\u001b[0m \u001b[1m2s\u001b[0m 2ms/step - loss: 1.1890 - sparse_categorical_accuracy: 0.5732 - val_loss: 1.4850 - val_sparse_categorical_accuracy: 0.4783\n",
      "Epoch 49/50\n",
      "\u001b[1m938/938\u001b[0m \u001b[32m━━━━━━━━━━━━━━━━━━━━\u001b[0m\u001b[37m\u001b[0m \u001b[1m2s\u001b[0m 2ms/step - loss: 1.1968 - sparse_categorical_accuracy: 0.5729 - val_loss: 1.5580 - val_sparse_categorical_accuracy: 0.4626\n",
      "Epoch 50/50\n",
      "\u001b[1m938/938\u001b[0m \u001b[32m━━━━━━━━━━━━━━━━━━━━\u001b[0m\u001b[37m\u001b[0m \u001b[1m2s\u001b[0m 2ms/step - loss: 1.1992 - sparse_categorical_accuracy: 0.5700 - val_loss: 1.4956 - val_sparse_categorical_accuracy: 0.4828\n",
      "Model took 105.407 seconds to train.\n"
     ]
    }
   ],
   "source": [
    "optimizer = tf.keras.optimizers.SGD(learning_rate=0.01)\n",
    "model = create_model(optimizer=optimizer,drop_out_rate=0.2)\n",
    "train(model,\n",
    "    name='Mini-Batch SGD With Dropout Rate = 0.2',\n",
    "    train_data=train_data,\n",
    "    val_data=val_data,\n",
    ")"
   ]
  },
  {
   "cell_type": "markdown",
   "metadata": {
    "id": "JCQlnYTt7A5O"
   },
   "source": [
    "## Mini Batch SGD With Dropout=0.3"
   ]
  },
  {
   "cell_type": "code",
   "execution_count": 13,
   "metadata": {
    "execution": {
     "iopub.execute_input": "2024-03-12T20:58:57.839845Z",
     "iopub.status.busy": "2024-03-12T20:58:57.839090Z",
     "iopub.status.idle": "2024-03-12T21:00:43.096338Z",
     "shell.execute_reply": "2024-03-12T21:00:43.095297Z",
     "shell.execute_reply.started": "2024-03-12T20:58:57.839813Z"
    },
    "executionInfo": {
     "elapsed": 322911,
     "status": "ok",
     "timestamp": 1710076557504,
     "user": {
      "displayName": "FELLAH ABDELNOUR",
      "userId": "11816603921684129089"
     },
     "user_tz": -60
    },
    "id": "wJmBnzdg7EMM",
    "outputId": "883a5cb0-0ba7-4222-d05f-ced8e96e5df4"
   },
   "outputs": [
    {
     "name": "stdout",
     "output_type": "stream",
     "text": [
      "Epoch 1/50\n",
      "\u001b[1m 96/938\u001b[0m \u001b[32m━━\u001b[0m\u001b[37m━━━━━━━━━━━━━━━━━━\u001b[0m \u001b[1m1s\u001b[0m 2ms/step - loss: 2.3048 - sparse_categorical_accuracy: 0.1470"
     ]
    },
    {
     "name": "stderr",
     "output_type": "stream",
     "text": [
      "W0000 00:00:1710277140.843427      99 graph_launch.cc:671] Fallback to op-by-op mode because memset node breaks graph update\n"
     ]
    },
    {
     "name": "stdout",
     "output_type": "stream",
     "text": [
      "\u001b[1m938/938\u001b[0m \u001b[32m━━━━━━━━━━━━━━━━━━━━\u001b[0m\u001b[37m\u001b[0m \u001b[1m0s\u001b[0m 3ms/step - loss: 2.1368 - sparse_categorical_accuracy: 0.2158"
     ]
    },
    {
     "name": "stderr",
     "output_type": "stream",
     "text": [
      "W0000 00:00:1710277144.453710     101 graph_launch.cc:671] Fallback to op-by-op mode because memset node breaks graph update\n"
     ]
    },
    {
     "name": "stdout",
     "output_type": "stream",
     "text": [
      "\u001b[1m938/938\u001b[0m \u001b[32m━━━━━━━━━━━━━━━━━━━━\u001b[0m\u001b[37m\u001b[0m \u001b[1m6s\u001b[0m 5ms/step - loss: 2.1367 - sparse_categorical_accuracy: 0.2159 - val_loss: 1.8959 - val_sparse_categorical_accuracy: 0.3279\n",
      "Epoch 2/50\n",
      "\u001b[1m938/938\u001b[0m \u001b[32m━━━━━━━━━━━━━━━━━━━━\u001b[0m\u001b[37m\u001b[0m \u001b[1m2s\u001b[0m 2ms/step - loss: 1.9048 - sparse_categorical_accuracy: 0.3205 - val_loss: 1.8344 - val_sparse_categorical_accuracy: 0.3345\n",
      "Epoch 3/50\n",
      "\u001b[1m938/938\u001b[0m \u001b[32m━━━━━━━━━━━━━━━━━━━━\u001b[0m\u001b[37m\u001b[0m \u001b[1m2s\u001b[0m 2ms/step - loss: 1.8216 - sparse_categorical_accuracy: 0.3494 - val_loss: 1.7802 - val_sparse_categorical_accuracy: 0.3647\n",
      "Epoch 4/50\n",
      "\u001b[1m938/938\u001b[0m \u001b[32m━━━━━━━━━━━━━━━━━━━━\u001b[0m\u001b[37m\u001b[0m \u001b[1m2s\u001b[0m 2ms/step - loss: 1.7770 - sparse_categorical_accuracy: 0.3675 - val_loss: 1.7132 - val_sparse_categorical_accuracy: 0.3956\n",
      "Epoch 5/50\n",
      "\u001b[1m938/938\u001b[0m \u001b[32m━━━━━━━━━━━━━━━━━━━━\u001b[0m\u001b[37m\u001b[0m \u001b[1m3s\u001b[0m 2ms/step - loss: 1.7374 - sparse_categorical_accuracy: 0.3845 - val_loss: 1.6899 - val_sparse_categorical_accuracy: 0.4025\n",
      "Epoch 6/50\n",
      "\u001b[1m938/938\u001b[0m \u001b[32m━━━━━━━━━━━━━━━━━━━━\u001b[0m\u001b[37m\u001b[0m \u001b[1m2s\u001b[0m 2ms/step - loss: 1.6889 - sparse_categorical_accuracy: 0.3957 - val_loss: 1.6397 - val_sparse_categorical_accuracy: 0.4162\n",
      "Epoch 7/50\n",
      "\u001b[1m938/938\u001b[0m \u001b[32m━━━━━━━━━━━━━━━━━━━━\u001b[0m\u001b[37m\u001b[0m \u001b[1m2s\u001b[0m 2ms/step - loss: 1.6770 - sparse_categorical_accuracy: 0.4108 - val_loss: 1.6315 - val_sparse_categorical_accuracy: 0.4187\n",
      "Epoch 8/50\n",
      "\u001b[1m938/938\u001b[0m \u001b[32m━━━━━━━━━━━━━━━━━━━━\u001b[0m\u001b[37m\u001b[0m \u001b[1m2s\u001b[0m 2ms/step - loss: 1.6438 - sparse_categorical_accuracy: 0.4210 - val_loss: 1.6093 - val_sparse_categorical_accuracy: 0.4295\n",
      "Epoch 9/50\n",
      "\u001b[1m938/938\u001b[0m \u001b[32m━━━━━━━━━━━━━━━━━━━━\u001b[0m\u001b[37m\u001b[0m \u001b[1m2s\u001b[0m 2ms/step - loss: 1.6304 - sparse_categorical_accuracy: 0.4233 - val_loss: 1.5990 - val_sparse_categorical_accuracy: 0.4239\n",
      "Epoch 10/50\n",
      "\u001b[1m938/938\u001b[0m \u001b[32m━━━━━━━━━━━━━━━━━━━━\u001b[0m\u001b[37m\u001b[0m \u001b[1m2s\u001b[0m 2ms/step - loss: 1.6011 - sparse_categorical_accuracy: 0.4309 - val_loss: 1.6180 - val_sparse_categorical_accuracy: 0.4226\n",
      "Epoch 11/50\n",
      "\u001b[1m938/938\u001b[0m \u001b[32m━━━━━━━━━━━━━━━━━━━━\u001b[0m\u001b[37m\u001b[0m \u001b[1m2s\u001b[0m 2ms/step - loss: 1.6008 - sparse_categorical_accuracy: 0.4375 - val_loss: 1.5993 - val_sparse_categorical_accuracy: 0.4277\n",
      "Epoch 12/50\n",
      "\u001b[1m938/938\u001b[0m \u001b[32m━━━━━━━━━━━━━━━━━━━━\u001b[0m\u001b[37m\u001b[0m \u001b[1m2s\u001b[0m 2ms/step - loss: 1.5752 - sparse_categorical_accuracy: 0.4392 - val_loss: 1.5675 - val_sparse_categorical_accuracy: 0.4388\n",
      "Epoch 13/50\n",
      "\u001b[1m938/938\u001b[0m \u001b[32m━━━━━━━━━━━━━━━━━━━━\u001b[0m\u001b[37m\u001b[0m \u001b[1m2s\u001b[0m 2ms/step - loss: 1.5520 - sparse_categorical_accuracy: 0.4467 - val_loss: 1.5444 - val_sparse_categorical_accuracy: 0.4528\n",
      "Epoch 14/50\n",
      "\u001b[1m938/938\u001b[0m \u001b[32m━━━━━━━━━━━━━━━━━━━━\u001b[0m\u001b[37m\u001b[0m \u001b[1m2s\u001b[0m 2ms/step - loss: 1.5406 - sparse_categorical_accuracy: 0.4505 - val_loss: 1.5390 - val_sparse_categorical_accuracy: 0.4501\n",
      "Epoch 15/50\n",
      "\u001b[1m938/938\u001b[0m \u001b[32m━━━━━━━━━━━━━━━━━━━━\u001b[0m\u001b[37m\u001b[0m \u001b[1m2s\u001b[0m 2ms/step - loss: 1.5250 - sparse_categorical_accuracy: 0.4614 - val_loss: 1.5187 - val_sparse_categorical_accuracy: 0.4568\n",
      "Epoch 16/50\n",
      "\u001b[1m938/938\u001b[0m \u001b[32m━━━━━━━━━━━━━━━━━━━━\u001b[0m\u001b[37m\u001b[0m \u001b[1m2s\u001b[0m 2ms/step - loss: 1.5002 - sparse_categorical_accuracy: 0.4690 - val_loss: 1.5143 - val_sparse_categorical_accuracy: 0.4619\n",
      "Epoch 17/50\n",
      "\u001b[1m938/938\u001b[0m \u001b[32m━━━━━━━━━━━━━━━━━━━━\u001b[0m\u001b[37m\u001b[0m \u001b[1m2s\u001b[0m 2ms/step - loss: 1.4961 - sparse_categorical_accuracy: 0.4682 - val_loss: 1.5148 - val_sparse_categorical_accuracy: 0.4610\n",
      "Epoch 18/50\n",
      "\u001b[1m938/938\u001b[0m \u001b[32m━━━━━━━━━━━━━━━━━━━━\u001b[0m\u001b[37m\u001b[0m \u001b[1m2s\u001b[0m 2ms/step - loss: 1.4858 - sparse_categorical_accuracy: 0.4742 - val_loss: 1.5114 - val_sparse_categorical_accuracy: 0.4656\n",
      "Epoch 19/50\n",
      "\u001b[1m938/938\u001b[0m \u001b[32m━━━━━━━━━━━━━━━━━━━━\u001b[0m\u001b[37m\u001b[0m \u001b[1m2s\u001b[0m 2ms/step - loss: 1.4748 - sparse_categorical_accuracy: 0.4730 - val_loss: 1.4993 - val_sparse_categorical_accuracy: 0.4629\n",
      "Epoch 20/50\n",
      "\u001b[1m938/938\u001b[0m \u001b[32m━━━━━━━━━━━━━━━━━━━━\u001b[0m\u001b[37m\u001b[0m \u001b[1m2s\u001b[0m 2ms/step - loss: 1.4432 - sparse_categorical_accuracy: 0.4819 - val_loss: 1.5496 - val_sparse_categorical_accuracy: 0.4449\n",
      "Epoch 21/50\n",
      "\u001b[1m938/938\u001b[0m \u001b[32m━━━━━━━━━━━━━━━━━━━━\u001b[0m\u001b[37m\u001b[0m \u001b[1m2s\u001b[0m 2ms/step - loss: 1.4512 - sparse_categorical_accuracy: 0.4832 - val_loss: 1.4946 - val_sparse_categorical_accuracy: 0.4699\n",
      "Epoch 22/50\n",
      "\u001b[1m938/938\u001b[0m \u001b[32m━━━━━━━━━━━━━━━━━━━━\u001b[0m\u001b[37m\u001b[0m \u001b[1m2s\u001b[0m 2ms/step - loss: 1.4506 - sparse_categorical_accuracy: 0.4878 - val_loss: 1.5313 - val_sparse_categorical_accuracy: 0.4558\n",
      "Epoch 23/50\n",
      "\u001b[1m938/938\u001b[0m \u001b[32m━━━━━━━━━━━━━━━━━━━━\u001b[0m\u001b[37m\u001b[0m \u001b[1m2s\u001b[0m 2ms/step - loss: 1.4429 - sparse_categorical_accuracy: 0.4856 - val_loss: 1.5679 - val_sparse_categorical_accuracy: 0.4444\n",
      "Epoch 24/50\n",
      "\u001b[1m938/938\u001b[0m \u001b[32m━━━━━━━━━━━━━━━━━━━━\u001b[0m\u001b[37m\u001b[0m \u001b[1m2s\u001b[0m 2ms/step - loss: 1.4204 - sparse_categorical_accuracy: 0.4961 - val_loss: 1.4972 - val_sparse_categorical_accuracy: 0.4670\n",
      "Epoch 25/50\n",
      "\u001b[1m938/938\u001b[0m \u001b[32m━━━━━━━━━━━━━━━━━━━━\u001b[0m\u001b[37m\u001b[0m \u001b[1m2s\u001b[0m 2ms/step - loss: 1.4115 - sparse_categorical_accuracy: 0.4988 - val_loss: 1.4793 - val_sparse_categorical_accuracy: 0.4743\n",
      "Epoch 26/50\n",
      "\u001b[1m938/938\u001b[0m \u001b[32m━━━━━━━━━━━━━━━━━━━━\u001b[0m\u001b[37m\u001b[0m \u001b[1m2s\u001b[0m 2ms/step - loss: 1.4092 - sparse_categorical_accuracy: 0.4986 - val_loss: 1.4859 - val_sparse_categorical_accuracy: 0.4733\n",
      "Epoch 27/50\n",
      "\u001b[1m938/938\u001b[0m \u001b[32m━━━━━━━━━━━━━━━━━━━━\u001b[0m\u001b[37m\u001b[0m \u001b[1m2s\u001b[0m 2ms/step - loss: 1.3904 - sparse_categorical_accuracy: 0.5011 - val_loss: 1.5491 - val_sparse_categorical_accuracy: 0.4490\n",
      "Epoch 28/50\n",
      "\u001b[1m938/938\u001b[0m \u001b[32m━━━━━━━━━━━━━━━━━━━━\u001b[0m\u001b[37m\u001b[0m \u001b[1m2s\u001b[0m 2ms/step - loss: 1.3739 - sparse_categorical_accuracy: 0.5116 - val_loss: 1.4943 - val_sparse_categorical_accuracy: 0.4709\n",
      "Epoch 29/50\n",
      "\u001b[1m938/938\u001b[0m \u001b[32m━━━━━━━━━━━━━━━━━━━━\u001b[0m\u001b[37m\u001b[0m \u001b[1m2s\u001b[0m 2ms/step - loss: 1.3686 - sparse_categorical_accuracy: 0.5091 - val_loss: 1.4687 - val_sparse_categorical_accuracy: 0.4775\n",
      "Epoch 30/50\n",
      "\u001b[1m938/938\u001b[0m \u001b[32m━━━━━━━━━━━━━━━━━━━━\u001b[0m\u001b[37m\u001b[0m \u001b[1m2s\u001b[0m 2ms/step - loss: 1.3592 - sparse_categorical_accuracy: 0.5127 - val_loss: 1.4975 - val_sparse_categorical_accuracy: 0.4766\n",
      "Epoch 31/50\n",
      "\u001b[1m938/938\u001b[0m \u001b[32m━━━━━━━━━━━━━━━━━━━━\u001b[0m\u001b[37m\u001b[0m \u001b[1m2s\u001b[0m 2ms/step - loss: 1.3531 - sparse_categorical_accuracy: 0.5175 - val_loss: 1.5575 - val_sparse_categorical_accuracy: 0.4470\n",
      "Epoch 32/50\n",
      "\u001b[1m938/938\u001b[0m \u001b[32m━━━━━━━━━━━━━━━━━━━━\u001b[0m\u001b[37m\u001b[0m \u001b[1m2s\u001b[0m 2ms/step - loss: 1.3539 - sparse_categorical_accuracy: 0.5143 - val_loss: 1.5206 - val_sparse_categorical_accuracy: 0.4656\n",
      "Epoch 33/50\n",
      "\u001b[1m938/938\u001b[0m \u001b[32m━━━━━━━━━━━━━━━━━━━━\u001b[0m\u001b[37m\u001b[0m \u001b[1m2s\u001b[0m 2ms/step - loss: 1.3434 - sparse_categorical_accuracy: 0.5241 - val_loss: 1.4627 - val_sparse_categorical_accuracy: 0.4718\n",
      "Epoch 34/50\n",
      "\u001b[1m938/938\u001b[0m \u001b[32m━━━━━━━━━━━━━━━━━━━━\u001b[0m\u001b[37m\u001b[0m \u001b[1m2s\u001b[0m 2ms/step - loss: 1.3371 - sparse_categorical_accuracy: 0.5225 - val_loss: 1.4720 - val_sparse_categorical_accuracy: 0.4816\n",
      "Epoch 35/50\n",
      "\u001b[1m938/938\u001b[0m \u001b[32m━━━━━━━━━━━━━━━━━━━━\u001b[0m\u001b[37m\u001b[0m \u001b[1m2s\u001b[0m 2ms/step - loss: 1.3269 - sparse_categorical_accuracy: 0.5261 - val_loss: 1.5125 - val_sparse_categorical_accuracy: 0.4619\n",
      "Epoch 36/50\n",
      "\u001b[1m938/938\u001b[0m \u001b[32m━━━━━━━━━━━━━━━━━━━━\u001b[0m\u001b[37m\u001b[0m \u001b[1m2s\u001b[0m 2ms/step - loss: 1.3176 - sparse_categorical_accuracy: 0.5323 - val_loss: 1.5052 - val_sparse_categorical_accuracy: 0.4730\n",
      "Epoch 37/50\n",
      "\u001b[1m938/938\u001b[0m \u001b[32m━━━━━━━━━━━━━━━━━━━━\u001b[0m\u001b[37m\u001b[0m \u001b[1m2s\u001b[0m 2ms/step - loss: 1.3138 - sparse_categorical_accuracy: 0.5334 - val_loss: 1.4661 - val_sparse_categorical_accuracy: 0.4851\n",
      "Epoch 38/50\n",
      "\u001b[1m938/938\u001b[0m \u001b[32m━━━━━━━━━━━━━━━━━━━━\u001b[0m\u001b[37m\u001b[0m \u001b[1m2s\u001b[0m 2ms/step - loss: 1.2929 - sparse_categorical_accuracy: 0.5359 - val_loss: 1.4797 - val_sparse_categorical_accuracy: 0.4788\n",
      "Epoch 39/50\n",
      "\u001b[1m938/938\u001b[0m \u001b[32m━━━━━━━━━━━━━━━━━━━━\u001b[0m\u001b[37m\u001b[0m \u001b[1m2s\u001b[0m 2ms/step - loss: 1.2786 - sparse_categorical_accuracy: 0.5438 - val_loss: 1.5140 - val_sparse_categorical_accuracy: 0.4725\n",
      "Epoch 40/50\n",
      "\u001b[1m938/938\u001b[0m \u001b[32m━━━━━━━━━━━━━━━━━━━━\u001b[0m\u001b[37m\u001b[0m \u001b[1m2s\u001b[0m 2ms/step - loss: 1.2936 - sparse_categorical_accuracy: 0.5378 - val_loss: 1.5212 - val_sparse_categorical_accuracy: 0.4708\n",
      "Epoch 41/50\n",
      "\u001b[1m938/938\u001b[0m \u001b[32m━━━━━━━━━━━━━━━━━━━━\u001b[0m\u001b[37m\u001b[0m \u001b[1m2s\u001b[0m 2ms/step - loss: 1.2785 - sparse_categorical_accuracy: 0.5479 - val_loss: 1.4343 - val_sparse_categorical_accuracy: 0.4934\n",
      "Epoch 42/50\n",
      "\u001b[1m938/938\u001b[0m \u001b[32m━━━━━━━━━━━━━━━━━━━━\u001b[0m\u001b[37m\u001b[0m \u001b[1m2s\u001b[0m 2ms/step - loss: 1.2709 - sparse_categorical_accuracy: 0.5426 - val_loss: 1.6181 - val_sparse_categorical_accuracy: 0.4583\n",
      "Epoch 43/50\n",
      "\u001b[1m938/938\u001b[0m \u001b[32m━━━━━━━━━━━━━━━━━━━━\u001b[0m\u001b[37m\u001b[0m \u001b[1m2s\u001b[0m 2ms/step - loss: 1.2576 - sparse_categorical_accuracy: 0.5462 - val_loss: 1.4712 - val_sparse_categorical_accuracy: 0.4761\n",
      "Epoch 44/50\n",
      "\u001b[1m938/938\u001b[0m \u001b[32m━━━━━━━━━━━━━━━━━━━━\u001b[0m\u001b[37m\u001b[0m \u001b[1m2s\u001b[0m 2ms/step - loss: 1.2540 - sparse_categorical_accuracy: 0.5507 - val_loss: 1.5052 - val_sparse_categorical_accuracy: 0.4694\n",
      "Epoch 45/50\n",
      "\u001b[1m938/938\u001b[0m \u001b[32m━━━━━━━━━━━━━━━━━━━━\u001b[0m\u001b[37m\u001b[0m \u001b[1m2s\u001b[0m 2ms/step - loss: 1.2501 - sparse_categorical_accuracy: 0.5539 - val_loss: 1.4789 - val_sparse_categorical_accuracy: 0.4821\n",
      "Epoch 46/50\n",
      "\u001b[1m938/938\u001b[0m \u001b[32m━━━━━━━━━━━━━━━━━━━━\u001b[0m\u001b[37m\u001b[0m \u001b[1m2s\u001b[0m 2ms/step - loss: 1.2383 - sparse_categorical_accuracy: 0.5574 - val_loss: 1.4722 - val_sparse_categorical_accuracy: 0.4844\n",
      "Epoch 47/50\n",
      "\u001b[1m938/938\u001b[0m \u001b[32m━━━━━━━━━━━━━━━━━━━━\u001b[0m\u001b[37m\u001b[0m \u001b[1m2s\u001b[0m 2ms/step - loss: 1.2411 - sparse_categorical_accuracy: 0.5527 - val_loss: 1.4844 - val_sparse_categorical_accuracy: 0.4848\n",
      "Epoch 48/50\n",
      "\u001b[1m938/938\u001b[0m \u001b[32m━━━━━━━━━━━━━━━━━━━━\u001b[0m\u001b[37m\u001b[0m \u001b[1m2s\u001b[0m 2ms/step - loss: 1.2240 - sparse_categorical_accuracy: 0.5639 - val_loss: 1.5272 - val_sparse_categorical_accuracy: 0.4686\n",
      "Epoch 49/50\n",
      "\u001b[1m938/938\u001b[0m \u001b[32m━━━━━━━━━━━━━━━━━━━━\u001b[0m\u001b[37m\u001b[0m \u001b[1m2s\u001b[0m 2ms/step - loss: 1.2263 - sparse_categorical_accuracy: 0.5552 - val_loss: 1.4484 - val_sparse_categorical_accuracy: 0.4930\n",
      "Epoch 50/50\n",
      "\u001b[1m938/938\u001b[0m \u001b[32m━━━━━━━━━━━━━━━━━━━━\u001b[0m\u001b[37m\u001b[0m \u001b[1m2s\u001b[0m 2ms/step - loss: 1.2204 - sparse_categorical_accuracy: 0.5592 - val_loss: 1.4553 - val_sparse_categorical_accuracy: 0.4884\n",
      "Model took 105.240 seconds to train.\n"
     ]
    }
   ],
   "source": [
    "optimizer = tf.keras.optimizers.SGD(learning_rate=0.01)\n",
    "model = create_model(optimizer=optimizer,drop_out_rate=0.3)\n",
    "train(model,\n",
    "    name='Mini-Batch SGD With Dropout Rate = 0.3',\n",
    "    train_data=train_data,\n",
    "    val_data=val_data,\n",
    ")"
   ]
  },
  {
   "cell_type": "markdown",
   "metadata": {
    "id": "EUphFg0b7HtE"
   },
   "source": [
    "## Mini Batch SGD With Dropout=0.5"
   ]
  },
  {
   "cell_type": "code",
   "execution_count": 14,
   "metadata": {
    "execution": {
     "iopub.execute_input": "2024-03-12T21:00:43.098464Z",
     "iopub.status.busy": "2024-03-12T21:00:43.098176Z",
     "iopub.status.idle": "2024-03-12T21:02:29.156131Z",
     "shell.execute_reply": "2024-03-12T21:02:29.155118Z",
     "shell.execute_reply.started": "2024-03-12T21:00:43.098439Z"
    },
    "executionInfo": {
     "elapsed": 287792,
     "status": "ok",
     "timestamp": 1710076848351,
     "user": {
      "displayName": "FELLAH ABDELNOUR",
      "userId": "11816603921684129089"
     },
     "user_tz": -60
    },
    "id": "LQZ-qDLd7LuZ",
    "outputId": "e4adf8b2-c5ca-4d99-a32a-07824c786116"
   },
   "outputs": [
    {
     "name": "stdout",
     "output_type": "stream",
     "text": [
      "Epoch 1/50\n",
      "\u001b[1m 97/938\u001b[0m \u001b[32m━━\u001b[0m\u001b[37m━━━━━━━━━━━━━━━━━━\u001b[0m \u001b[1m1s\u001b[0m 2ms/step - loss: 2.3249 - sparse_categorical_accuracy: 0.1325"
     ]
    },
    {
     "name": "stderr",
     "output_type": "stream",
     "text": [
      "W0000 00:00:1710277246.212178     100 graph_launch.cc:671] Fallback to op-by-op mode because memset node breaks graph update\n"
     ]
    },
    {
     "name": "stdout",
     "output_type": "stream",
     "text": [
      "\u001b[1m938/938\u001b[0m \u001b[32m━━━━━━━━━━━━━━━━━━━━\u001b[0m\u001b[37m\u001b[0m \u001b[1m0s\u001b[0m 3ms/step - loss: 2.1911 - sparse_categorical_accuracy: 0.1836"
     ]
    },
    {
     "name": "stderr",
     "output_type": "stream",
     "text": [
      "W0000 00:00:1710277249.746556      99 graph_launch.cc:671] Fallback to op-by-op mode because memset node breaks graph update\n"
     ]
    },
    {
     "name": "stdout",
     "output_type": "stream",
     "text": [
      "\u001b[1m938/938\u001b[0m \u001b[32m━━━━━━━━━━━━━━━━━━━━\u001b[0m\u001b[37m\u001b[0m \u001b[1m6s\u001b[0m 4ms/step - loss: 2.1910 - sparse_categorical_accuracy: 0.1836 - val_loss: 1.9312 - val_sparse_categorical_accuracy: 0.3333\n",
      "Epoch 2/50\n",
      "\u001b[1m938/938\u001b[0m \u001b[32m━━━━━━━━━━━━━━━━━━━━\u001b[0m\u001b[37m\u001b[0m \u001b[1m2s\u001b[0m 2ms/step - loss: 1.9725 - sparse_categorical_accuracy: 0.2864 - val_loss: 1.8350 - val_sparse_categorical_accuracy: 0.3531\n",
      "Epoch 3/50\n",
      "\u001b[1m938/938\u001b[0m \u001b[32m━━━━━━━━━━━━━━━━━━━━\u001b[0m\u001b[37m\u001b[0m \u001b[1m2s\u001b[0m 2ms/step - loss: 1.8923 - sparse_categorical_accuracy: 0.3219 - val_loss: 1.7931 - val_sparse_categorical_accuracy: 0.3578\n",
      "Epoch 4/50\n",
      "\u001b[1m938/938\u001b[0m \u001b[32m━━━━━━━━━━━━━━━━━━━━\u001b[0m\u001b[37m\u001b[0m \u001b[1m2s\u001b[0m 2ms/step - loss: 1.8474 - sparse_categorical_accuracy: 0.3389 - val_loss: 1.7997 - val_sparse_categorical_accuracy: 0.3448\n",
      "Epoch 5/50\n",
      "\u001b[1m938/938\u001b[0m \u001b[32m━━━━━━━━━━━━━━━━━━━━\u001b[0m\u001b[37m\u001b[0m \u001b[1m2s\u001b[0m 2ms/step - loss: 1.8101 - sparse_categorical_accuracy: 0.3536 - val_loss: 1.7238 - val_sparse_categorical_accuracy: 0.3905\n",
      "Epoch 6/50\n",
      "\u001b[1m938/938\u001b[0m \u001b[32m━━━━━━━━━━━━━━━━━━━━\u001b[0m\u001b[37m\u001b[0m \u001b[1m2s\u001b[0m 2ms/step - loss: 1.7828 - sparse_categorical_accuracy: 0.3644 - val_loss: 1.7090 - val_sparse_categorical_accuracy: 0.3869\n",
      "Epoch 7/50\n",
      "\u001b[1m938/938\u001b[0m \u001b[32m━━━━━━━━━━━━━━━━━━━━\u001b[0m\u001b[37m\u001b[0m \u001b[1m2s\u001b[0m 2ms/step - loss: 1.7568 - sparse_categorical_accuracy: 0.3729 - val_loss: 1.6825 - val_sparse_categorical_accuracy: 0.4028\n",
      "Epoch 8/50\n",
      "\u001b[1m938/938\u001b[0m \u001b[32m━━━━━━━━━━━━━━━━━━━━\u001b[0m\u001b[37m\u001b[0m \u001b[1m2s\u001b[0m 2ms/step - loss: 1.7378 - sparse_categorical_accuracy: 0.3847 - val_loss: 1.6852 - val_sparse_categorical_accuracy: 0.4050\n",
      "Epoch 9/50\n",
      "\u001b[1m938/938\u001b[0m \u001b[32m━━━━━━━━━━━━━━━━━━━━\u001b[0m\u001b[37m\u001b[0m \u001b[1m2s\u001b[0m 2ms/step - loss: 1.7154 - sparse_categorical_accuracy: 0.3928 - val_loss: 1.6344 - val_sparse_categorical_accuracy: 0.4263\n",
      "Epoch 10/50\n",
      "\u001b[1m938/938\u001b[0m \u001b[32m━━━━━━━━━━━━━━━━━━━━\u001b[0m\u001b[37m\u001b[0m \u001b[1m2s\u001b[0m 2ms/step - loss: 1.7019 - sparse_categorical_accuracy: 0.4002 - val_loss: 1.6729 - val_sparse_categorical_accuracy: 0.3915\n",
      "Epoch 11/50\n",
      "\u001b[1m938/938\u001b[0m \u001b[32m━━━━━━━━━━━━━━━━━━━━\u001b[0m\u001b[37m\u001b[0m \u001b[1m2s\u001b[0m 2ms/step - loss: 1.6824 - sparse_categorical_accuracy: 0.4050 - val_loss: 1.6177 - val_sparse_categorical_accuracy: 0.4210\n",
      "Epoch 12/50\n",
      "\u001b[1m938/938\u001b[0m \u001b[32m━━━━━━━━━━━━━━━━━━━━\u001b[0m\u001b[37m\u001b[0m \u001b[1m2s\u001b[0m 2ms/step - loss: 1.6604 - sparse_categorical_accuracy: 0.4131 - val_loss: 1.5961 - val_sparse_categorical_accuracy: 0.4374\n",
      "Epoch 13/50\n",
      "\u001b[1m938/938\u001b[0m \u001b[32m━━━━━━━━━━━━━━━━━━━━\u001b[0m\u001b[37m\u001b[0m \u001b[1m2s\u001b[0m 2ms/step - loss: 1.6375 - sparse_categorical_accuracy: 0.4226 - val_loss: 1.6481 - val_sparse_categorical_accuracy: 0.4143\n",
      "Epoch 14/50\n",
      "\u001b[1m938/938\u001b[0m \u001b[32m━━━━━━━━━━━━━━━━━━━━\u001b[0m\u001b[37m\u001b[0m \u001b[1m2s\u001b[0m 2ms/step - loss: 1.6438 - sparse_categorical_accuracy: 0.4211 - val_loss: 1.5897 - val_sparse_categorical_accuracy: 0.4341\n",
      "Epoch 15/50\n",
      "\u001b[1m938/938\u001b[0m \u001b[32m━━━━━━━━━━━━━━━━━━━━\u001b[0m\u001b[37m\u001b[0m \u001b[1m2s\u001b[0m 2ms/step - loss: 1.6122 - sparse_categorical_accuracy: 0.4317 - val_loss: 1.6067 - val_sparse_categorical_accuracy: 0.4224\n",
      "Epoch 16/50\n",
      "\u001b[1m938/938\u001b[0m \u001b[32m━━━━━━━━━━━━━━━━━━━━\u001b[0m\u001b[37m\u001b[0m \u001b[1m2s\u001b[0m 2ms/step - loss: 1.6113 - sparse_categorical_accuracy: 0.4306 - val_loss: 1.5582 - val_sparse_categorical_accuracy: 0.4408\n",
      "Epoch 17/50\n",
      "\u001b[1m938/938\u001b[0m \u001b[32m━━━━━━━━━━━━━━━━━━━━\u001b[0m\u001b[37m\u001b[0m \u001b[1m2s\u001b[0m 2ms/step - loss: 1.5990 - sparse_categorical_accuracy: 0.4316 - val_loss: 1.5629 - val_sparse_categorical_accuracy: 0.4317\n",
      "Epoch 18/50\n",
      "\u001b[1m938/938\u001b[0m \u001b[32m━━━━━━━━━━━━━━━━━━━━\u001b[0m\u001b[37m\u001b[0m \u001b[1m2s\u001b[0m 2ms/step - loss: 1.5887 - sparse_categorical_accuracy: 0.4359 - val_loss: 1.5804 - val_sparse_categorical_accuracy: 0.4375\n",
      "Epoch 19/50\n",
      "\u001b[1m938/938\u001b[0m \u001b[32m━━━━━━━━━━━━━━━━━━━━\u001b[0m\u001b[37m\u001b[0m \u001b[1m2s\u001b[0m 2ms/step - loss: 1.5739 - sparse_categorical_accuracy: 0.4468 - val_loss: 1.5512 - val_sparse_categorical_accuracy: 0.4461\n",
      "Epoch 20/50\n",
      "\u001b[1m938/938\u001b[0m \u001b[32m━━━━━━━━━━━━━━━━━━━━\u001b[0m\u001b[37m\u001b[0m \u001b[1m2s\u001b[0m 2ms/step - loss: 1.5494 - sparse_categorical_accuracy: 0.4512 - val_loss: 1.5823 - val_sparse_categorical_accuracy: 0.4381\n",
      "Epoch 21/50\n",
      "\u001b[1m938/938\u001b[0m \u001b[32m━━━━━━━━━━━━━━━━━━━━\u001b[0m\u001b[37m\u001b[0m \u001b[1m2s\u001b[0m 2ms/step - loss: 1.5558 - sparse_categorical_accuracy: 0.4449 - val_loss: 1.5595 - val_sparse_categorical_accuracy: 0.4458\n",
      "Epoch 22/50\n",
      "\u001b[1m938/938\u001b[0m \u001b[32m━━━━━━━━━━━━━━━━━━━━\u001b[0m\u001b[37m\u001b[0m \u001b[1m2s\u001b[0m 2ms/step - loss: 1.5378 - sparse_categorical_accuracy: 0.4490 - val_loss: 1.5503 - val_sparse_categorical_accuracy: 0.4447\n",
      "Epoch 23/50\n",
      "\u001b[1m938/938\u001b[0m \u001b[32m━━━━━━━━━━━━━━━━━━━━\u001b[0m\u001b[37m\u001b[0m \u001b[1m2s\u001b[0m 2ms/step - loss: 1.5459 - sparse_categorical_accuracy: 0.4536 - val_loss: 1.6315 - val_sparse_categorical_accuracy: 0.4163\n",
      "Epoch 24/50\n",
      "\u001b[1m938/938\u001b[0m \u001b[32m━━━━━━━━━━━━━━━━━━━━\u001b[0m\u001b[37m\u001b[0m \u001b[1m2s\u001b[0m 2ms/step - loss: 1.5317 - sparse_categorical_accuracy: 0.4601 - val_loss: 1.5360 - val_sparse_categorical_accuracy: 0.4526\n",
      "Epoch 25/50\n",
      "\u001b[1m938/938\u001b[0m \u001b[32m━━━━━━━━━━━━━━━━━━━━\u001b[0m\u001b[37m\u001b[0m \u001b[1m2s\u001b[0m 2ms/step - loss: 1.5058 - sparse_categorical_accuracy: 0.4643 - val_loss: 1.5391 - val_sparse_categorical_accuracy: 0.4473\n",
      "Epoch 26/50\n",
      "\u001b[1m938/938\u001b[0m \u001b[32m━━━━━━━━━━━━━━━━━━━━\u001b[0m\u001b[37m\u001b[0m \u001b[1m2s\u001b[0m 2ms/step - loss: 1.5129 - sparse_categorical_accuracy: 0.4649 - val_loss: 1.5131 - val_sparse_categorical_accuracy: 0.4625\n",
      "Epoch 27/50\n",
      "\u001b[1m938/938\u001b[0m \u001b[32m━━━━━━━━━━━━━━━━━━━━\u001b[0m\u001b[37m\u001b[0m \u001b[1m2s\u001b[0m 2ms/step - loss: 1.4899 - sparse_categorical_accuracy: 0.4756 - val_loss: 1.4983 - val_sparse_categorical_accuracy: 0.4612\n",
      "Epoch 28/50\n",
      "\u001b[1m938/938\u001b[0m \u001b[32m━━━━━━━━━━━━━━━━━━━━\u001b[0m\u001b[37m\u001b[0m \u001b[1m2s\u001b[0m 2ms/step - loss: 1.4904 - sparse_categorical_accuracy: 0.4725 - val_loss: 1.5009 - val_sparse_categorical_accuracy: 0.4596\n",
      "Epoch 29/50\n",
      "\u001b[1m938/938\u001b[0m \u001b[32m━━━━━━━━━━━━━━━━━━━━\u001b[0m\u001b[37m\u001b[0m \u001b[1m2s\u001b[0m 2ms/step - loss: 1.4848 - sparse_categorical_accuracy: 0.4735 - val_loss: 1.5432 - val_sparse_categorical_accuracy: 0.4518\n",
      "Epoch 30/50\n",
      "\u001b[1m938/938\u001b[0m \u001b[32m━━━━━━━━━━━━━━━━━━━━\u001b[0m\u001b[37m\u001b[0m \u001b[1m2s\u001b[0m 2ms/step - loss: 1.4789 - sparse_categorical_accuracy: 0.4729 - val_loss: 1.5200 - val_sparse_categorical_accuracy: 0.4550\n",
      "Epoch 31/50\n",
      "\u001b[1m938/938\u001b[0m \u001b[32m━━━━━━━━━━━━━━━━━━━━\u001b[0m\u001b[37m\u001b[0m \u001b[1m2s\u001b[0m 2ms/step - loss: 1.4638 - sparse_categorical_accuracy: 0.4865 - val_loss: 1.4707 - val_sparse_categorical_accuracy: 0.4663\n",
      "Epoch 32/50\n",
      "\u001b[1m938/938\u001b[0m \u001b[32m━━━━━━━━━━━━━━━━━━━━\u001b[0m\u001b[37m\u001b[0m \u001b[1m2s\u001b[0m 2ms/step - loss: 1.4556 - sparse_categorical_accuracy: 0.4826 - val_loss: 1.5052 - val_sparse_categorical_accuracy: 0.4578\n",
      "Epoch 33/50\n",
      "\u001b[1m938/938\u001b[0m \u001b[32m━━━━━━━━━━━━━━━━━━━━\u001b[0m\u001b[37m\u001b[0m \u001b[1m2s\u001b[0m 2ms/step - loss: 1.4481 - sparse_categorical_accuracy: 0.4868 - val_loss: 1.5212 - val_sparse_categorical_accuracy: 0.4612\n",
      "Epoch 34/50\n",
      "\u001b[1m938/938\u001b[0m \u001b[32m━━━━━━━━━━━━━━━━━━━━\u001b[0m\u001b[37m\u001b[0m \u001b[1m2s\u001b[0m 2ms/step - loss: 1.4488 - sparse_categorical_accuracy: 0.4903 - val_loss: 1.5142 - val_sparse_categorical_accuracy: 0.4535\n",
      "Epoch 35/50\n",
      "\u001b[1m938/938\u001b[0m \u001b[32m━━━━━━━━━━━━━━━━━━━━\u001b[0m\u001b[37m\u001b[0m \u001b[1m2s\u001b[0m 2ms/step - loss: 1.4413 - sparse_categorical_accuracy: 0.4875 - val_loss: 1.4947 - val_sparse_categorical_accuracy: 0.4674\n",
      "Epoch 36/50\n",
      "\u001b[1m938/938\u001b[0m \u001b[32m━━━━━━━━━━━━━━━━━━━━\u001b[0m\u001b[37m\u001b[0m \u001b[1m2s\u001b[0m 2ms/step - loss: 1.4122 - sparse_categorical_accuracy: 0.4940 - val_loss: 1.4842 - val_sparse_categorical_accuracy: 0.4736\n",
      "Epoch 37/50\n",
      "\u001b[1m938/938\u001b[0m \u001b[32m━━━━━━━━━━━━━━━━━━━━\u001b[0m\u001b[37m\u001b[0m \u001b[1m2s\u001b[0m 2ms/step - loss: 1.4218 - sparse_categorical_accuracy: 0.4975 - val_loss: 1.4845 - val_sparse_categorical_accuracy: 0.4634\n",
      "Epoch 38/50\n",
      "\u001b[1m938/938\u001b[0m \u001b[32m━━━━━━━━━━━━━━━━━━━━\u001b[0m\u001b[37m\u001b[0m \u001b[1m2s\u001b[0m 2ms/step - loss: 1.4137 - sparse_categorical_accuracy: 0.4959 - val_loss: 1.5093 - val_sparse_categorical_accuracy: 0.4649\n",
      "Epoch 39/50\n",
      "\u001b[1m938/938\u001b[0m \u001b[32m━━━━━━━━━━━━━━━━━━━━\u001b[0m\u001b[37m\u001b[0m \u001b[1m2s\u001b[0m 2ms/step - loss: 1.4077 - sparse_categorical_accuracy: 0.4958 - val_loss: 1.5211 - val_sparse_categorical_accuracy: 0.4656\n",
      "Epoch 40/50\n",
      "\u001b[1m938/938\u001b[0m \u001b[32m━━━━━━━━━━━━━━━━━━━━\u001b[0m\u001b[37m\u001b[0m \u001b[1m2s\u001b[0m 2ms/step - loss: 1.3994 - sparse_categorical_accuracy: 0.5052 - val_loss: 1.5367 - val_sparse_categorical_accuracy: 0.4491\n",
      "Epoch 41/50\n",
      "\u001b[1m938/938\u001b[0m \u001b[32m━━━━━━━━━━━━━━━━━━━━\u001b[0m\u001b[37m\u001b[0m \u001b[1m2s\u001b[0m 2ms/step - loss: 1.3835 - sparse_categorical_accuracy: 0.5097 - val_loss: 1.5492 - val_sparse_categorical_accuracy: 0.4436\n",
      "Epoch 42/50\n",
      "\u001b[1m938/938\u001b[0m \u001b[32m━━━━━━━━━━━━━━━━━━━━\u001b[0m\u001b[37m\u001b[0m \u001b[1m2s\u001b[0m 2ms/step - loss: 1.3944 - sparse_categorical_accuracy: 0.5060 - val_loss: 1.4826 - val_sparse_categorical_accuracy: 0.4701\n",
      "Epoch 43/50\n",
      "\u001b[1m938/938\u001b[0m \u001b[32m━━━━━━━━━━━━━━━━━━━━\u001b[0m\u001b[37m\u001b[0m \u001b[1m2s\u001b[0m 2ms/step - loss: 1.3808 - sparse_categorical_accuracy: 0.5051 - val_loss: 1.4527 - val_sparse_categorical_accuracy: 0.4782\n",
      "Epoch 44/50\n",
      "\u001b[1m938/938\u001b[0m \u001b[32m━━━━━━━━━━━━━━━━━━━━\u001b[0m\u001b[37m\u001b[0m \u001b[1m2s\u001b[0m 2ms/step - loss: 1.3754 - sparse_categorical_accuracy: 0.5067 - val_loss: 1.4885 - val_sparse_categorical_accuracy: 0.4699\n",
      "Epoch 45/50\n",
      "\u001b[1m938/938\u001b[0m \u001b[32m━━━━━━━━━━━━━━━━━━━━\u001b[0m\u001b[37m\u001b[0m \u001b[1m2s\u001b[0m 2ms/step - loss: 1.3654 - sparse_categorical_accuracy: 0.5130 - val_loss: 1.4608 - val_sparse_categorical_accuracy: 0.4685\n",
      "Epoch 46/50\n",
      "\u001b[1m938/938\u001b[0m \u001b[32m━━━━━━━━━━━━━━━━━━━━\u001b[0m\u001b[37m\u001b[0m \u001b[1m2s\u001b[0m 2ms/step - loss: 1.3637 - sparse_categorical_accuracy: 0.5119 - val_loss: 1.4640 - val_sparse_categorical_accuracy: 0.4835\n",
      "Epoch 47/50\n",
      "\u001b[1m938/938\u001b[0m \u001b[32m━━━━━━━━━━━━━━━━━━━━\u001b[0m\u001b[37m\u001b[0m \u001b[1m2s\u001b[0m 2ms/step - loss: 1.3573 - sparse_categorical_accuracy: 0.5159 - val_loss: 1.5144 - val_sparse_categorical_accuracy: 0.4721\n",
      "Epoch 48/50\n",
      "\u001b[1m938/938\u001b[0m \u001b[32m━━━━━━━━━━━━━━━━━━━━\u001b[0m\u001b[37m\u001b[0m \u001b[1m2s\u001b[0m 2ms/step - loss: 1.3507 - sparse_categorical_accuracy: 0.5146 - val_loss: 1.4589 - val_sparse_categorical_accuracy: 0.4796\n",
      "Epoch 49/50\n",
      "\u001b[1m938/938\u001b[0m \u001b[32m━━━━━━━━━━━━━━━━━━━━\u001b[0m\u001b[37m\u001b[0m \u001b[1m2s\u001b[0m 2ms/step - loss: 1.3581 - sparse_categorical_accuracy: 0.5154 - val_loss: 1.5084 - val_sparse_categorical_accuracy: 0.4677\n",
      "Epoch 50/50\n",
      "\u001b[1m938/938\u001b[0m \u001b[32m━━━━━━━━━━━━━━━━━━━━\u001b[0m\u001b[37m\u001b[0m \u001b[1m2s\u001b[0m 2ms/step - loss: 1.3511 - sparse_categorical_accuracy: 0.5217 - val_loss: 1.4911 - val_sparse_categorical_accuracy: 0.4762\n",
      "Model took 106.039 seconds to train.\n"
     ]
    }
   ],
   "source": [
    "optimizer = tf.keras.optimizers.SGD(learning_rate=0.01)\n",
    "model = create_model(optimizer=optimizer,drop_out_rate=0.5)\n",
    "train(model,\n",
    "    name='Mini-Batch SGD With Dropout Rate = 0.5',\n",
    "    train_data=train_data,\n",
    "    val_data=val_data,\n",
    ")"
   ]
  },
  {
   "cell_type": "markdown",
   "metadata": {
    "id": "GqNXlWOt7Psn"
   },
   "source": [
    "## Mini Batch SGD With Batch Normalization"
   ]
  },
  {
   "cell_type": "code",
   "execution_count": 15,
   "metadata": {
    "execution": {
     "iopub.execute_input": "2024-03-12T21:02:29.158615Z",
     "iopub.status.busy": "2024-03-12T21:02:29.158238Z",
     "iopub.status.idle": "2024-03-12T21:04:16.400619Z",
     "shell.execute_reply": "2024-03-12T21:04:16.399544Z",
     "shell.execute_reply.started": "2024-03-12T21:02:29.158580Z"
    },
    "executionInfo": {
     "elapsed": 313938,
     "status": "ok",
     "timestamp": 1710077166403,
     "user": {
      "displayName": "FELLAH ABDELNOUR",
      "userId": "11816603921684129089"
     },
     "user_tz": -60
    },
    "id": "_JbjjDpp7YLR",
    "outputId": "78148b15-a183-4a49-bc35-f1d4fd610c58"
   },
   "outputs": [
    {
     "name": "stdout",
     "output_type": "stream",
     "text": [
      "Epoch 1/50\n",
      "\u001b[1m 95/938\u001b[0m \u001b[32m━━\u001b[0m\u001b[37m━━━━━━━━━━━━━━━━━━\u001b[0m \u001b[1m1s\u001b[0m 2ms/step - loss: 2.2365 - sparse_categorical_accuracy: 0.2299"
     ]
    },
    {
     "name": "stderr",
     "output_type": "stream",
     "text": [
      "W0000 00:00:1710277351.571516     100 graph_launch.cc:671] Fallback to op-by-op mode because memset node breaks graph update\n"
     ]
    },
    {
     "name": "stdout",
     "output_type": "stream",
     "text": [
      "\u001b[1m938/938\u001b[0m \u001b[32m━━━━━━━━━━━━━━━━━━━━\u001b[0m\u001b[37m\u001b[0m \u001b[1m0s\u001b[0m 2ms/step - loss: 1.9626 - sparse_categorical_accuracy: 0.3073"
     ]
    },
    {
     "name": "stderr",
     "output_type": "stream",
     "text": [
      "W0000 00:00:1710277354.412401      98 graph_launch.cc:671] Fallback to op-by-op mode because memset node breaks graph update\n"
     ]
    },
    {
     "name": "stdout",
     "output_type": "stream",
     "text": [
      "\u001b[1m938/938\u001b[0m \u001b[32m━━━━━━━━━━━━━━━━━━━━\u001b[0m\u001b[37m\u001b[0m \u001b[1m5s\u001b[0m 4ms/step - loss: 1.9625 - sparse_categorical_accuracy: 0.3073 - val_loss: 1.9083 - val_sparse_categorical_accuracy: 0.3317\n",
      "Epoch 2/50\n",
      "\u001b[1m938/938\u001b[0m \u001b[32m━━━━━━━━━━━━━━━━━━━━\u001b[0m\u001b[37m\u001b[0m \u001b[1m2s\u001b[0m 2ms/step - loss: 1.7378 - sparse_categorical_accuracy: 0.3897 - val_loss: 1.8839 - val_sparse_categorical_accuracy: 0.3267\n",
      "Epoch 3/50\n",
      "\u001b[1m938/938\u001b[0m \u001b[32m━━━━━━━━━━━━━━━━━━━━\u001b[0m\u001b[37m\u001b[0m \u001b[1m2s\u001b[0m 2ms/step - loss: 1.6707 - sparse_categorical_accuracy: 0.4128 - val_loss: 1.7339 - val_sparse_categorical_accuracy: 0.3822\n",
      "Epoch 4/50\n",
      "\u001b[1m938/938\u001b[0m \u001b[32m━━━━━━━━━━━━━━━━━━━━\u001b[0m\u001b[37m\u001b[0m \u001b[1m2s\u001b[0m 2ms/step - loss: 1.6157 - sparse_categorical_accuracy: 0.4375 - val_loss: 1.6957 - val_sparse_categorical_accuracy: 0.4081\n",
      "Epoch 5/50\n",
      "\u001b[1m938/938\u001b[0m \u001b[32m━━━━━━━━━━━━━━━━━━━━\u001b[0m\u001b[37m\u001b[0m \u001b[1m2s\u001b[0m 2ms/step - loss: 1.5705 - sparse_categorical_accuracy: 0.4467 - val_loss: 1.6946 - val_sparse_categorical_accuracy: 0.4062\n",
      "Epoch 6/50\n",
      "\u001b[1m938/938\u001b[0m \u001b[32m━━━━━━━━━━━━━━━━━━━━\u001b[0m\u001b[37m\u001b[0m \u001b[1m2s\u001b[0m 2ms/step - loss: 1.5250 - sparse_categorical_accuracy: 0.4623 - val_loss: 1.6370 - val_sparse_categorical_accuracy: 0.4251\n",
      "Epoch 7/50\n",
      "\u001b[1m938/938\u001b[0m \u001b[32m━━━━━━━━━━━━━━━━━━━━\u001b[0m\u001b[37m\u001b[0m \u001b[1m2s\u001b[0m 2ms/step - loss: 1.5140 - sparse_categorical_accuracy: 0.4680 - val_loss: 1.6089 - val_sparse_categorical_accuracy: 0.4266\n",
      "Epoch 8/50\n",
      "\u001b[1m938/938\u001b[0m \u001b[32m━━━━━━━━━━━━━━━━━━━━\u001b[0m\u001b[37m\u001b[0m \u001b[1m2s\u001b[0m 2ms/step - loss: 1.4739 - sparse_categorical_accuracy: 0.4783 - val_loss: 2.0041 - val_sparse_categorical_accuracy: 0.3371\n",
      "Epoch 9/50\n",
      "\u001b[1m938/938\u001b[0m \u001b[32m━━━━━━━━━━━━━━━━━━━━\u001b[0m\u001b[37m\u001b[0m \u001b[1m2s\u001b[0m 2ms/step - loss: 1.4613 - sparse_categorical_accuracy: 0.4899 - val_loss: 2.2121 - val_sparse_categorical_accuracy: 0.3494\n",
      "Epoch 10/50\n",
      "\u001b[1m938/938\u001b[0m \u001b[32m━━━━━━━━━━━━━━━━━━━━\u001b[0m\u001b[37m\u001b[0m \u001b[1m2s\u001b[0m 2ms/step - loss: 1.4323 - sparse_categorical_accuracy: 0.4949 - val_loss: 1.7331 - val_sparse_categorical_accuracy: 0.4066\n",
      "Epoch 11/50\n",
      "\u001b[1m938/938\u001b[0m \u001b[32m━━━━━━━━━━━━━━━━━━━━\u001b[0m\u001b[37m\u001b[0m \u001b[1m2s\u001b[0m 2ms/step - loss: 1.4144 - sparse_categorical_accuracy: 0.5023 - val_loss: 1.6007 - val_sparse_categorical_accuracy: 0.4436\n",
      "Epoch 12/50\n",
      "\u001b[1m938/938\u001b[0m \u001b[32m━━━━━━━━━━━━━━━━━━━━\u001b[0m\u001b[37m\u001b[0m \u001b[1m2s\u001b[0m 2ms/step - loss: 1.3877 - sparse_categorical_accuracy: 0.5106 - val_loss: 1.7082 - val_sparse_categorical_accuracy: 0.4053\n",
      "Epoch 13/50\n",
      "\u001b[1m938/938\u001b[0m \u001b[32m━━━━━━━━━━━━━━━━━━━━\u001b[0m\u001b[37m\u001b[0m \u001b[1m2s\u001b[0m 2ms/step - loss: 1.3996 - sparse_categorical_accuracy: 0.5096 - val_loss: 1.5865 - val_sparse_categorical_accuracy: 0.4482\n",
      "Epoch 14/50\n",
      "\u001b[1m938/938\u001b[0m \u001b[32m━━━━━━━━━━━━━━━━━━━━\u001b[0m\u001b[37m\u001b[0m \u001b[1m2s\u001b[0m 2ms/step - loss: 1.3686 - sparse_categorical_accuracy: 0.5182 - val_loss: 1.6924 - val_sparse_categorical_accuracy: 0.4255\n",
      "Epoch 15/50\n",
      "\u001b[1m938/938\u001b[0m \u001b[32m━━━━━━━━━━━━━━━━━━━━\u001b[0m\u001b[37m\u001b[0m \u001b[1m2s\u001b[0m 2ms/step - loss: 1.3482 - sparse_categorical_accuracy: 0.5276 - val_loss: 1.7300 - val_sparse_categorical_accuracy: 0.4187\n",
      "Epoch 16/50\n",
      "\u001b[1m938/938\u001b[0m \u001b[32m━━━━━━━━━━━━━━━━━━━━\u001b[0m\u001b[37m\u001b[0m \u001b[1m2s\u001b[0m 2ms/step - loss: 1.3400 - sparse_categorical_accuracy: 0.5284 - val_loss: 1.7787 - val_sparse_categorical_accuracy: 0.4195\n",
      "Epoch 17/50\n",
      "\u001b[1m938/938\u001b[0m \u001b[32m━━━━━━━━━━━━━━━━━━━━\u001b[0m\u001b[37m\u001b[0m \u001b[1m2s\u001b[0m 2ms/step - loss: 1.3299 - sparse_categorical_accuracy: 0.5284 - val_loss: 2.0500 - val_sparse_categorical_accuracy: 0.3763\n",
      "Epoch 18/50\n",
      "\u001b[1m938/938\u001b[0m \u001b[32m━━━━━━━━━━━━━━━━━━━━\u001b[0m\u001b[37m\u001b[0m \u001b[1m2s\u001b[0m 2ms/step - loss: 1.3087 - sparse_categorical_accuracy: 0.5359 - val_loss: 1.6496 - val_sparse_categorical_accuracy: 0.4472\n",
      "Epoch 19/50\n",
      "\u001b[1m938/938\u001b[0m \u001b[32m━━━━━━━━━━━━━━━━━━━━\u001b[0m\u001b[37m\u001b[0m \u001b[1m2s\u001b[0m 2ms/step - loss: 1.2967 - sparse_categorical_accuracy: 0.5454 - val_loss: 1.8244 - val_sparse_categorical_accuracy: 0.3934\n",
      "Epoch 20/50\n",
      "\u001b[1m938/938\u001b[0m \u001b[32m━━━━━━━━━━━━━━━━━━━━\u001b[0m\u001b[37m\u001b[0m \u001b[1m2s\u001b[0m 2ms/step - loss: 1.2874 - sparse_categorical_accuracy: 0.5508 - val_loss: 1.6829 - val_sparse_categorical_accuracy: 0.4420\n",
      "Epoch 21/50\n",
      "\u001b[1m938/938\u001b[0m \u001b[32m━━━━━━━━━━━━━━━━━━━━\u001b[0m\u001b[37m\u001b[0m \u001b[1m3s\u001b[0m 2ms/step - loss: 1.2881 - sparse_categorical_accuracy: 0.5438 - val_loss: 1.5959 - val_sparse_categorical_accuracy: 0.4511\n",
      "Epoch 22/50\n",
      "\u001b[1m938/938\u001b[0m \u001b[32m━━━━━━━━━━━━━━━━━━━━\u001b[0m\u001b[37m\u001b[0m \u001b[1m2s\u001b[0m 2ms/step - loss: 1.2709 - sparse_categorical_accuracy: 0.5532 - val_loss: 1.8139 - val_sparse_categorical_accuracy: 0.3990\n",
      "Epoch 23/50\n",
      "\u001b[1m938/938\u001b[0m \u001b[32m━━━━━━━━━━━━━━━━━━━━\u001b[0m\u001b[37m\u001b[0m \u001b[1m3s\u001b[0m 2ms/step - loss: 1.2458 - sparse_categorical_accuracy: 0.5625 - val_loss: 1.8175 - val_sparse_categorical_accuracy: 0.4170\n",
      "Epoch 24/50\n",
      "\u001b[1m938/938\u001b[0m \u001b[32m━━━━━━━━━━━━━━━━━━━━\u001b[0m\u001b[37m\u001b[0m \u001b[1m2s\u001b[0m 2ms/step - loss: 1.2305 - sparse_categorical_accuracy: 0.5632 - val_loss: 1.7006 - val_sparse_categorical_accuracy: 0.4425\n",
      "Epoch 25/50\n",
      "\u001b[1m938/938\u001b[0m \u001b[32m━━━━━━━━━━━━━━━━━━━━\u001b[0m\u001b[37m\u001b[0m \u001b[1m2s\u001b[0m 2ms/step - loss: 1.2372 - sparse_categorical_accuracy: 0.5659 - val_loss: 1.5453 - val_sparse_categorical_accuracy: 0.4682\n",
      "Epoch 26/50\n",
      "\u001b[1m938/938\u001b[0m \u001b[32m━━━━━━━━━━━━━━━━━━━━\u001b[0m\u001b[37m\u001b[0m \u001b[1m2s\u001b[0m 2ms/step - loss: 1.2262 - sparse_categorical_accuracy: 0.5677 - val_loss: 1.7029 - val_sparse_categorical_accuracy: 0.4315\n",
      "Epoch 27/50\n",
      "\u001b[1m938/938\u001b[0m \u001b[32m━━━━━━━━━━━━━━━━━━━━\u001b[0m\u001b[37m\u001b[0m \u001b[1m2s\u001b[0m 2ms/step - loss: 1.2118 - sparse_categorical_accuracy: 0.5764 - val_loss: 1.6699 - val_sparse_categorical_accuracy: 0.4563\n",
      "Epoch 28/50\n",
      "\u001b[1m938/938\u001b[0m \u001b[32m━━━━━━━━━━━━━━━━━━━━\u001b[0m\u001b[37m\u001b[0m \u001b[1m2s\u001b[0m 2ms/step - loss: 1.1957 - sparse_categorical_accuracy: 0.5775 - val_loss: 1.6663 - val_sparse_categorical_accuracy: 0.4517\n",
      "Epoch 29/50\n",
      "\u001b[1m938/938\u001b[0m \u001b[32m━━━━━━━━━━━━━━━━━━━━\u001b[0m\u001b[37m\u001b[0m \u001b[1m2s\u001b[0m 2ms/step - loss: 1.1998 - sparse_categorical_accuracy: 0.5786 - val_loss: 1.6549 - val_sparse_categorical_accuracy: 0.4436\n",
      "Epoch 30/50\n",
      "\u001b[1m938/938\u001b[0m \u001b[32m━━━━━━━━━━━━━━━━━━━━\u001b[0m\u001b[37m\u001b[0m \u001b[1m2s\u001b[0m 2ms/step - loss: 1.1792 - sparse_categorical_accuracy: 0.5833 - val_loss: 1.6349 - val_sparse_categorical_accuracy: 0.4445\n",
      "Epoch 31/50\n",
      "\u001b[1m938/938\u001b[0m \u001b[32m━━━━━━━━━━━━━━━━━━━━\u001b[0m\u001b[37m\u001b[0m \u001b[1m2s\u001b[0m 2ms/step - loss: 1.1739 - sparse_categorical_accuracy: 0.5838 - val_loss: 1.7528 - val_sparse_categorical_accuracy: 0.4376\n",
      "Epoch 32/50\n",
      "\u001b[1m938/938\u001b[0m \u001b[32m━━━━━━━━━━━━━━━━━━━━\u001b[0m\u001b[37m\u001b[0m \u001b[1m2s\u001b[0m 2ms/step - loss: 1.1527 - sparse_categorical_accuracy: 0.5894 - val_loss: 2.0339 - val_sparse_categorical_accuracy: 0.3815\n",
      "Epoch 33/50\n",
      "\u001b[1m938/938\u001b[0m \u001b[32m━━━━━━━━━━━━━━━━━━━━\u001b[0m\u001b[37m\u001b[0m \u001b[1m2s\u001b[0m 2ms/step - loss: 1.1473 - sparse_categorical_accuracy: 0.5947 - val_loss: 1.7888 - val_sparse_categorical_accuracy: 0.4286\n",
      "Epoch 34/50\n",
      "\u001b[1m938/938\u001b[0m \u001b[32m━━━━━━━━━━━━━━━━━━━━\u001b[0m\u001b[37m\u001b[0m \u001b[1m2s\u001b[0m 2ms/step - loss: 1.1433 - sparse_categorical_accuracy: 0.5992 - val_loss: 1.7022 - val_sparse_categorical_accuracy: 0.4392\n",
      "Epoch 35/50\n",
      "\u001b[1m938/938\u001b[0m \u001b[32m━━━━━━━━━━━━━━━━━━━━\u001b[0m\u001b[37m\u001b[0m \u001b[1m2s\u001b[0m 2ms/step - loss: 1.1311 - sparse_categorical_accuracy: 0.6035 - val_loss: 1.5666 - val_sparse_categorical_accuracy: 0.4807\n",
      "Epoch 36/50\n",
      "\u001b[1m938/938\u001b[0m \u001b[32m━━━━━━━━━━━━━━━━━━━━\u001b[0m\u001b[37m\u001b[0m \u001b[1m2s\u001b[0m 2ms/step - loss: 1.1157 - sparse_categorical_accuracy: 0.6096 - val_loss: 1.6877 - val_sparse_categorical_accuracy: 0.4505\n",
      "Epoch 37/50\n",
      "\u001b[1m938/938\u001b[0m \u001b[32m━━━━━━━━━━━━━━━━━━━━\u001b[0m\u001b[37m\u001b[0m \u001b[1m2s\u001b[0m 2ms/step - loss: 1.1219 - sparse_categorical_accuracy: 0.6062 - val_loss: 1.9272 - val_sparse_categorical_accuracy: 0.4096\n",
      "Epoch 38/50\n",
      "\u001b[1m938/938\u001b[0m \u001b[32m━━━━━━━━━━━━━━━━━━━━\u001b[0m\u001b[37m\u001b[0m \u001b[1m2s\u001b[0m 2ms/step - loss: 1.1058 - sparse_categorical_accuracy: 0.6097 - val_loss: 1.7201 - val_sparse_categorical_accuracy: 0.4502\n",
      "Epoch 39/50\n",
      "\u001b[1m938/938\u001b[0m \u001b[32m━━━━━━━━━━━━━━━━━━━━\u001b[0m\u001b[37m\u001b[0m \u001b[1m2s\u001b[0m 2ms/step - loss: 1.1044 - sparse_categorical_accuracy: 0.6102 - val_loss: 1.7182 - val_sparse_categorical_accuracy: 0.4506\n",
      "Epoch 40/50\n",
      "\u001b[1m938/938\u001b[0m \u001b[32m━━━━━━━━━━━━━━━━━━━━\u001b[0m\u001b[37m\u001b[0m \u001b[1m2s\u001b[0m 2ms/step - loss: 1.0947 - sparse_categorical_accuracy: 0.6095 - val_loss: 1.7024 - val_sparse_categorical_accuracy: 0.4492\n",
      "Epoch 41/50\n",
      "\u001b[1m938/938\u001b[0m \u001b[32m━━━━━━━━━━━━━━━━━━━━\u001b[0m\u001b[37m\u001b[0m \u001b[1m2s\u001b[0m 2ms/step - loss: 1.0855 - sparse_categorical_accuracy: 0.6149 - val_loss: 1.8309 - val_sparse_categorical_accuracy: 0.4416\n",
      "Epoch 42/50\n",
      "\u001b[1m938/938\u001b[0m \u001b[32m━━━━━━━━━━━━━━━━━━━━\u001b[0m\u001b[37m\u001b[0m \u001b[1m2s\u001b[0m 2ms/step - loss: 1.0917 - sparse_categorical_accuracy: 0.6194 - val_loss: 1.7165 - val_sparse_categorical_accuracy: 0.4507\n",
      "Epoch 43/50\n",
      "\u001b[1m938/938\u001b[0m \u001b[32m━━━━━━━━━━━━━━━━━━━━\u001b[0m\u001b[37m\u001b[0m \u001b[1m2s\u001b[0m 2ms/step - loss: 1.0748 - sparse_categorical_accuracy: 0.6230 - val_loss: 1.6960 - val_sparse_categorical_accuracy: 0.4541\n",
      "Epoch 44/50\n",
      "\u001b[1m938/938\u001b[0m \u001b[32m━━━━━━━━━━━━━━━━━━━━\u001b[0m\u001b[37m\u001b[0m \u001b[1m2s\u001b[0m 2ms/step - loss: 1.0703 - sparse_categorical_accuracy: 0.6233 - val_loss: 1.8985 - val_sparse_categorical_accuracy: 0.4189\n",
      "Epoch 45/50\n",
      "\u001b[1m938/938\u001b[0m \u001b[32m━━━━━━━━━━━━━━━━━━━━\u001b[0m\u001b[37m\u001b[0m \u001b[1m2s\u001b[0m 2ms/step - loss: 1.0544 - sparse_categorical_accuracy: 0.6296 - val_loss: 1.6553 - val_sparse_categorical_accuracy: 0.4593\n",
      "Epoch 46/50\n",
      "\u001b[1m938/938\u001b[0m \u001b[32m━━━━━━━━━━━━━━━━━━━━\u001b[0m\u001b[37m\u001b[0m \u001b[1m2s\u001b[0m 2ms/step - loss: 1.0510 - sparse_categorical_accuracy: 0.6277 - val_loss: 1.8323 - val_sparse_categorical_accuracy: 0.4431\n",
      "Epoch 47/50\n",
      "\u001b[1m938/938\u001b[0m \u001b[32m━━━━━━━━━━━━━━━━━━━━\u001b[0m\u001b[37m\u001b[0m \u001b[1m2s\u001b[0m 2ms/step - loss: 1.0571 - sparse_categorical_accuracy: 0.6249 - val_loss: 2.1050 - val_sparse_categorical_accuracy: 0.3955\n",
      "Epoch 48/50\n",
      "\u001b[1m938/938\u001b[0m \u001b[32m━━━━━━━━━━━━━━━━━━━━\u001b[0m\u001b[37m\u001b[0m \u001b[1m2s\u001b[0m 2ms/step - loss: 1.0472 - sparse_categorical_accuracy: 0.6214 - val_loss: 1.7492 - val_sparse_categorical_accuracy: 0.4490\n",
      "Epoch 49/50\n",
      "\u001b[1m938/938\u001b[0m \u001b[32m━━━━━━━━━━━━━━━━━━━━\u001b[0m\u001b[37m\u001b[0m \u001b[1m2s\u001b[0m 2ms/step - loss: 1.0404 - sparse_categorical_accuracy: 0.6313 - val_loss: 1.5907 - val_sparse_categorical_accuracy: 0.4779\n",
      "Epoch 50/50\n",
      "\u001b[1m938/938\u001b[0m \u001b[32m━━━━━━━━━━━━━━━━━━━━\u001b[0m\u001b[37m\u001b[0m \u001b[1m2s\u001b[0m 2ms/step - loss: 1.0282 - sparse_categorical_accuracy: 0.6392 - val_loss: 1.7403 - val_sparse_categorical_accuracy: 0.4395\n",
      "Model took 107.225 seconds to train.\n"
     ]
    }
   ],
   "source": [
    "optimizer = tf.keras.optimizers.SGD(learning_rate=0.01)\n",
    "model = create_model(optimizer=optimizer,batch_normalization=True)\n",
    "train(model,\n",
    "    name='Mini-Batch SGD With Batch Normalization',\n",
    "    train_data=train_data,\n",
    "    val_data=val_data,\n",
    ")"
   ]
  },
  {
   "cell_type": "markdown",
   "metadata": {
    "id": "IG8xDeQlADAp"
   },
   "source": [
    "## Random Search"
   ]
  },
  {
   "cell_type": "code",
   "execution_count": 16,
   "metadata": {
    "execution": {
     "iopub.execute_input": "2024-03-12T21:04:16.402864Z",
     "iopub.status.busy": "2024-03-12T21:04:16.402507Z",
     "iopub.status.idle": "2024-03-12T21:04:16.410447Z",
     "shell.execute_reply": "2024-03-12T21:04:16.409521Z",
     "shell.execute_reply.started": "2024-03-12T21:04:16.402834Z"
    },
    "executionInfo": {
     "elapsed": 376,
     "status": "ok",
     "timestamp": 1710077756599,
     "user": {
      "displayName": "FELLAH ABDELNOUR",
      "userId": "11816603921684129089"
     },
     "user_tz": -60
    },
    "id": "J2YL2CjwAFFY"
   },
   "outputs": [],
   "source": [
    "def objective(trial : optuna.trial.Trial):\n",
    "\n",
    "  lr = trial.suggest_float(\"lr\", low=0.001,high=0.1,log=True)\n",
    "  dropout_rate = trial.suggest_float(\"dropout_rate\", low=0.2,high=0.6,log=True)\n",
    "  batch_size = trial.suggest_categorical(\"batch_size\", choices=[16,32,64,128])\n",
    "\n",
    "  optimizer = tf.keras.optimizers.SGD(learning_rate=lr)\n",
    "  model = create_model(\n",
    "      optimizer=optimizer,\n",
    "      drop_out_rate=dropout_rate,\n",
    "  )\n",
    "\n",
    "  print(f\"lr = {lr},dropout_rate = {dropout_rate},batch_size = {batch_size}\")\n",
    "\n",
    "  train(model,\n",
    "      name='Random Search',\n",
    "      train_data=train_data,\n",
    "      val_data=val_data,\n",
    "      verbose=0,\n",
    "      batch_size=batch_size\n",
    "  )\n",
    "\n",
    "  loss, accuracy = model.evaluate(val_data[0],val_data[1])\n",
    "\n",
    "  return accuracy"
   ]
  },
  {
   "cell_type": "code",
   "execution_count": 17,
   "metadata": {
    "execution": {
     "iopub.execute_input": "2024-03-12T21:04:16.411916Z",
     "iopub.status.busy": "2024-03-12T21:04:16.411649Z",
     "iopub.status.idle": "2024-03-12T21:04:16.424627Z",
     "shell.execute_reply": "2024-03-12T21:04:16.423684Z",
     "shell.execute_reply.started": "2024-03-12T21:04:16.411893Z"
    },
    "executionInfo": {
     "elapsed": 408,
     "status": "ok",
     "timestamp": 1710077759466,
     "user": {
      "displayName": "FELLAH ABDELNOUR",
      "userId": "11816603921684129089"
     },
     "user_tz": -60
    },
    "id": "vCArLNe2BPRu",
    "outputId": "4de58ec2-835f-4442-fd8e-7411178409f6"
   },
   "outputs": [
    {
     "name": "stderr",
     "output_type": "stream",
     "text": [
      "[I 2024-03-12 21:04:16,421] A new study created in memory with name: no-name-0b08dafb-2567-43a3-834e-4c2293f14cff\n"
     ]
    }
   ],
   "source": [
    "study = optuna.create_study(direction=\"maximize\")"
   ]
  },
  {
   "cell_type": "code",
   "execution_count": 18,
   "metadata": {
    "execution": {
     "iopub.execute_input": "2024-03-12T21:04:16.426268Z",
     "iopub.status.busy": "2024-03-12T21:04:16.425871Z",
     "iopub.status.idle": "2024-03-12T21:45:06.756388Z",
     "shell.execute_reply": "2024-03-12T21:45:06.755419Z",
     "shell.execute_reply.started": "2024-03-12T21:04:16.426236Z"
    },
    "id": "qqNwtwqMBWvj",
    "outputId": "a3e66066-5f4d-4e68-80c0-7eb211369693"
   },
   "outputs": [
    {
     "name": "stdout",
     "output_type": "stream",
     "text": [
      "lr = 0.045919882911051556,dropout_rate = 0.4482451610258203,batch_size = 32\n"
     ]
    },
    {
     "name": "stderr",
     "output_type": "stream",
     "text": [
      "W0000 00:00:1710277459.478531     100 graph_launch.cc:671] Fallback to op-by-op mode because memset node breaks graph update\n",
      "W0000 00:00:1710277462.957107      98 graph_launch.cc:671] Fallback to op-by-op mode because memset node breaks graph update\n"
     ]
    },
    {
     "name": "stdout",
     "output_type": "stream",
     "text": [
      "Model took 99.489 seconds to train.\n",
      "\u001b[1m313/313\u001b[0m \u001b[32m━━━━━━━━━━━━━━━━━━━━\u001b[0m\u001b[37m\u001b[0m \u001b[1m0s\u001b[0m 1ms/step - loss: 1.7449 - sparse_categorical_accuracy: 0.4026\n"
     ]
    },
    {
     "name": "stderr",
     "output_type": "stream",
     "text": [
      "[I 2024-03-12 21:05:56,770] Trial 0 finished with value: 0.39800000190734863 and parameters: {'lr': 0.045919882911051556, 'dropout_rate': 0.4482451610258203, 'batch_size': 32}. Best is trial 0 with value: 0.39800000190734863.\n"
     ]
    },
    {
     "name": "stdout",
     "output_type": "stream",
     "text": [
      "lr = 0.003415080812938203,dropout_rate = 0.433990781281712,batch_size = 128\n",
      "Model took 39.214 seconds to train.\n",
      "\u001b[1m104/313\u001b[0m \u001b[32m━━━━━━\u001b[0m\u001b[37m━━━━━━━━━━━━━━\u001b[0m \u001b[1m0s\u001b[0m 1ms/step - loss: 1.6094 - sparse_categorical_accuracy: 0.4269  "
     ]
    },
    {
     "name": "stderr",
     "output_type": "stream",
     "text": [
      "W0000 00:00:1710277596.554039      98 graph_launch.cc:671] Fallback to op-by-op mode because memset node breaks graph update\n"
     ]
    },
    {
     "name": "stdout",
     "output_type": "stream",
     "text": [
      "\u001b[1m313/313\u001b[0m \u001b[32m━━━━━━━━━━━━━━━━━━━━\u001b[0m\u001b[37m\u001b[0m \u001b[1m1s\u001b[0m 1ms/step - loss: 1.6250 - sparse_categorical_accuracy: 0.4218\n"
     ]
    },
    {
     "name": "stderr",
     "output_type": "stream",
     "text": [
      "[I 2024-03-12 21:06:37,018] Trial 1 finished with value: 0.41999998688697815 and parameters: {'lr': 0.003415080812938203, 'dropout_rate': 0.433990781281712, 'batch_size': 128}. Best is trial 1 with value: 0.41999998688697815.\n"
     ]
    },
    {
     "name": "stdout",
     "output_type": "stream",
     "text": [
      "lr = 0.0019389870921142612,dropout_rate = 0.20198084712318837,batch_size = 128\n",
      "Model took 38.208 seconds to train.\n",
      "\u001b[1m103/313\u001b[0m \u001b[32m━━━━━━\u001b[0m\u001b[37m━━━━━━━━━━━━━━\u001b[0m \u001b[1m0s\u001b[0m 1ms/step - loss: 1.6376 - sparse_categorical_accuracy: 0.4263  "
     ]
    },
    {
     "name": "stderr",
     "output_type": "stream",
     "text": [
      "W0000 00:00:1710277635.804626     100 graph_launch.cc:671] Fallback to op-by-op mode because memset node breaks graph update\n"
     ]
    },
    {
     "name": "stdout",
     "output_type": "stream",
     "text": [
      "\u001b[1m313/313\u001b[0m \u001b[32m━━━━━━━━━━━━━━━━━━━━\u001b[0m\u001b[37m\u001b[0m \u001b[1m1s\u001b[0m 1ms/step - loss: 1.6506 - sparse_categorical_accuracy: 0.4228\n"
     ]
    },
    {
     "name": "stderr",
     "output_type": "stream",
     "text": [
      "[I 2024-03-12 21:07:16,280] Trial 2 finished with value: 0.4207000136375427 and parameters: {'lr': 0.0019389870921142612, 'dropout_rate': 0.20198084712318837, 'batch_size': 128}. Best is trial 2 with value: 0.4207000136375427.\n"
     ]
    },
    {
     "name": "stdout",
     "output_type": "stream",
     "text": [
      "lr = 0.023929306397866907,dropout_rate = 0.24479067496258025,batch_size = 64\n",
      "Model took 58.984 seconds to train.\n",
      "\u001b[1m102/313\u001b[0m \u001b[32m━━━━━━\u001b[0m\u001b[37m━━━━━━━━━━━━━━\u001b[0m \u001b[1m0s\u001b[0m 2ms/step - loss: 1.4114 - sparse_categorical_accuracy: 0.4985  "
     ]
    },
    {
     "name": "stderr",
     "output_type": "stream",
     "text": [
      "W0000 00:00:1710277695.852002      98 graph_launch.cc:671] Fallback to op-by-op mode because memset node breaks graph update\n"
     ]
    },
    {
     "name": "stdout",
     "output_type": "stream",
     "text": [
      "\u001b[1m313/313\u001b[0m \u001b[32m━━━━━━━━━━━━━━━━━━━━\u001b[0m\u001b[37m\u001b[0m \u001b[1m1s\u001b[0m 1ms/step - loss: 1.4383 - sparse_categorical_accuracy: 0.4914\n"
     ]
    },
    {
     "name": "stderr",
     "output_type": "stream",
     "text": [
      "[I 2024-03-12 21:08:16,327] Trial 3 finished with value: 0.48840001225471497 and parameters: {'lr': 0.023929306397866907, 'dropout_rate': 0.24479067496258025, 'batch_size': 64}. Best is trial 3 with value: 0.48840001225471497.\n"
     ]
    },
    {
     "name": "stdout",
     "output_type": "stream",
     "text": [
      "lr = 0.004338513458334932,dropout_rate = 0.35518989065467266,batch_size = 16\n",
      "Model took 183.501 seconds to train.\n",
      "\u001b[1m100/313\u001b[0m \u001b[32m━━━━━━\u001b[0m\u001b[37m━━━━━━━━━━━━━━\u001b[0m \u001b[1m0s\u001b[0m 2ms/step - loss: 1.3753 - sparse_categorical_accuracy: 0.5137  "
     ]
    },
    {
     "name": "stderr",
     "output_type": "stream",
     "text": [
      "W0000 00:00:1710277880.542535      99 graph_launch.cc:671] Fallback to op-by-op mode because memset node breaks graph update\n"
     ]
    },
    {
     "name": "stdout",
     "output_type": "stream",
     "text": [
      "\u001b[1m313/313\u001b[0m \u001b[32m━━━━━━━━━━━━━━━━━━━━\u001b[0m\u001b[37m\u001b[0m \u001b[1m1s\u001b[0m 2ms/step - loss: 1.3972 - sparse_categorical_accuracy: 0.5058\n"
     ]
    },
    {
     "name": "stderr",
     "output_type": "stream",
     "text": [
      "[I 2024-03-12 21:11:21,277] Trial 4 finished with value: 0.5024999976158142 and parameters: {'lr': 0.004338513458334932, 'dropout_rate': 0.35518989065467266, 'batch_size': 16}. Best is trial 4 with value: 0.5024999976158142.\n"
     ]
    },
    {
     "name": "stdout",
     "output_type": "stream",
     "text": [
      "lr = 0.012829342764977754,dropout_rate = 0.2636065571621673,batch_size = 64\n",
      "Model took 58.381 seconds to train.\n",
      "\u001b[1m102/313\u001b[0m \u001b[32m━━━━━━\u001b[0m\u001b[37m━━━━━━━━━━━━━━\u001b[0m \u001b[1m0s\u001b[0m 2ms/step - loss: 1.4418 - sparse_categorical_accuracy: 0.4903  "
     ]
    },
    {
     "name": "stderr",
     "output_type": "stream",
     "text": [
      "W0000 00:00:1710277940.241691      99 graph_launch.cc:671] Fallback to op-by-op mode because memset node breaks graph update\n"
     ]
    },
    {
     "name": "stdout",
     "output_type": "stream",
     "text": [
      "\u001b[1m313/313\u001b[0m \u001b[32m━━━━━━━━━━━━━━━━━━━━\u001b[0m\u001b[37m\u001b[0m \u001b[1m1s\u001b[0m 2ms/step - loss: 1.4557 - sparse_categorical_accuracy: 0.4883\n"
     ]
    },
    {
     "name": "stderr",
     "output_type": "stream",
     "text": [
      "[I 2024-03-12 21:12:20,803] Trial 5 finished with value: 0.48579999804496765 and parameters: {'lr': 0.012829342764977754, 'dropout_rate': 0.2636065571621673, 'batch_size': 64}. Best is trial 4 with value: 0.5024999976158142.\n"
     ]
    },
    {
     "name": "stdout",
     "output_type": "stream",
     "text": [
      "lr = 0.005410108019521303,dropout_rate = 0.22791109770449705,batch_size = 32\n"
     ]
    },
    {
     "name": "stderr",
     "output_type": "stream",
     "text": [
      "W0000 00:00:1710277943.881036      99 graph_launch.cc:671] Fallback to op-by-op mode because memset node breaks graph update\n",
      "W0000 00:00:1710277947.312318      99 graph_launch.cc:671] Fallback to op-by-op mode because memset node breaks graph update\n"
     ]
    },
    {
     "name": "stdout",
     "output_type": "stream",
     "text": [
      "Model took 99.638 seconds to train.\n",
      "\u001b[1m313/313\u001b[0m \u001b[32m━━━━━━━━━━━━━━━━━━━━\u001b[0m\u001b[37m\u001b[0m \u001b[1m1s\u001b[0m 2ms/step - loss: 1.4286 - sparse_categorical_accuracy: 0.4965\n"
     ]
    },
    {
     "name": "stderr",
     "output_type": "stream",
     "text": [
      "[I 2024-03-12 21:14:01,338] Trial 6 finished with value: 0.49300000071525574 and parameters: {'lr': 0.005410108019521303, 'dropout_rate': 0.22791109770449705, 'batch_size': 32}. Best is trial 4 with value: 0.5024999976158142.\n"
     ]
    },
    {
     "name": "stdout",
     "output_type": "stream",
     "text": [
      "lr = 0.015495123528291998,dropout_rate = 0.4335083303366494,batch_size = 128\n",
      "Model took 37.776 seconds to train.\n",
      "\u001b[1m104/313\u001b[0m \u001b[32m━━━━━━\u001b[0m\u001b[37m━━━━━━━━━━━━━━\u001b[0m \u001b[1m0s\u001b[0m 1ms/step - loss: 1.6804 - sparse_categorical_accuracy: 0.4101  "
     ]
    },
    {
     "name": "stderr",
     "output_type": "stream",
     "text": [
      "W0000 00:00:1710278079.695976      99 graph_launch.cc:671] Fallback to op-by-op mode because memset node breaks graph update\n"
     ]
    },
    {
     "name": "stdout",
     "output_type": "stream",
     "text": [
      "\u001b[1m313/313\u001b[0m \u001b[32m━━━━━━━━━━━━━━━━━━━━\u001b[0m\u001b[37m\u001b[0m \u001b[1m1s\u001b[0m 1ms/step - loss: 1.6867 - sparse_categorical_accuracy: 0.4096\n"
     ]
    },
    {
     "name": "stderr",
     "output_type": "stream",
     "text": [
      "[I 2024-03-12 21:14:40,174] Trial 7 finished with value: 0.4066999852657318 and parameters: {'lr': 0.015495123528291998, 'dropout_rate': 0.4335083303366494, 'batch_size': 128}. Best is trial 4 with value: 0.5024999976158142.\n"
     ]
    },
    {
     "name": "stdout",
     "output_type": "stream",
     "text": [
      "lr = 0.005991492432121162,dropout_rate = 0.48346864596073263,batch_size = 128\n",
      "Model took 37.554 seconds to train.\n",
      "\u001b[1m105/313\u001b[0m \u001b[32m━━━━━━\u001b[0m\u001b[37m━━━━━━━━━━━━━━\u001b[0m \u001b[1m0s\u001b[0m 1ms/step - loss: 1.5771 - sparse_categorical_accuracy: 0.4371  "
     ]
    },
    {
     "name": "stderr",
     "output_type": "stream",
     "text": [
      "W0000 00:00:1710278118.307019      99 graph_launch.cc:671] Fallback to op-by-op mode because memset node breaks graph update\n"
     ]
    },
    {
     "name": "stdout",
     "output_type": "stream",
     "text": [
      "\u001b[1m313/313\u001b[0m \u001b[32m━━━━━━━━━━━━━━━━━━━━\u001b[0m\u001b[37m\u001b[0m \u001b[1m1s\u001b[0m 1ms/step - loss: 1.5944 - sparse_categorical_accuracy: 0.4350\n"
     ]
    },
    {
     "name": "stderr",
     "output_type": "stream",
     "text": [
      "[I 2024-03-12 21:15:18,775] Trial 8 finished with value: 0.4352000057697296 and parameters: {'lr': 0.005991492432121162, 'dropout_rate': 0.48346864596073263, 'batch_size': 128}. Best is trial 4 with value: 0.5024999976158142.\n"
     ]
    },
    {
     "name": "stdout",
     "output_type": "stream",
     "text": [
      "lr = 0.02514805825276205,dropout_rate = 0.3764762568598376,batch_size = 64\n",
      "Model took 58.552 seconds to train.\n",
      "\u001b[1m103/313\u001b[0m \u001b[32m━━━━━━\u001b[0m\u001b[37m━━━━━━━━━━━━━━\u001b[0m \u001b[1m0s\u001b[0m 1ms/step - loss: 1.4392 - sparse_categorical_accuracy: 0.4889  "
     ]
    },
    {
     "name": "stderr",
     "output_type": "stream",
     "text": [
      "W0000 00:00:1710278177.907863     101 graph_launch.cc:671] Fallback to op-by-op mode because memset node breaks graph update\n"
     ]
    },
    {
     "name": "stdout",
     "output_type": "stream",
     "text": [
      "\u001b[1m313/313\u001b[0m \u001b[32m━━━━━━━━━━━━━━━━━━━━\u001b[0m\u001b[37m\u001b[0m \u001b[1m1s\u001b[0m 1ms/step - loss: 1.4620 - sparse_categorical_accuracy: 0.4855\n"
     ]
    },
    {
     "name": "stderr",
     "output_type": "stream",
     "text": [
      "[I 2024-03-12 21:16:18,390] Trial 9 finished with value: 0.48170000314712524 and parameters: {'lr': 0.02514805825276205, 'dropout_rate': 0.3764762568598376, 'batch_size': 64}. Best is trial 4 with value: 0.5024999976158142.\n"
     ]
    },
    {
     "name": "stdout",
     "output_type": "stream",
     "text": [
      "lr = 0.001050879435422616,dropout_rate = 0.30923356231713717,batch_size = 16\n",
      "Model took 181.575 seconds to train.\n",
      "\u001b[1m104/313\u001b[0m \u001b[32m━━━━━━\u001b[0m\u001b[37m━━━━━━━━━━━━━━\u001b[0m \u001b[1m0s\u001b[0m 1ms/step - loss: 1.4841 - sparse_categorical_accuracy: 0.4657  "
     ]
    },
    {
     "name": "stderr",
     "output_type": "stream",
     "text": [
      "W0000 00:00:1710278360.665875      98 graph_launch.cc:671] Fallback to op-by-op mode because memset node breaks graph update\n"
     ]
    },
    {
     "name": "stdout",
     "output_type": "stream",
     "text": [
      "\u001b[1m313/313\u001b[0m \u001b[32m━━━━━━━━━━━━━━━━━━━━\u001b[0m\u001b[37m\u001b[0m \u001b[1m1s\u001b[0m 2ms/step - loss: 1.4978 - sparse_categorical_accuracy: 0.4669\n"
     ]
    },
    {
     "name": "stderr",
     "output_type": "stream",
     "text": [
      "[I 2024-03-12 21:19:21,382] Trial 10 finished with value: 0.46860000491142273 and parameters: {'lr': 0.001050879435422616, 'dropout_rate': 0.30923356231713717, 'batch_size': 16}. Best is trial 4 with value: 0.5024999976158142.\n"
     ]
    },
    {
     "name": "stdout",
     "output_type": "stream",
     "text": [
      "lr = 0.005439028658606001,dropout_rate = 0.32569689176621575,batch_size = 32\n"
     ]
    },
    {
     "name": "stderr",
     "output_type": "stream",
     "text": [
      "W0000 00:00:1710278364.980114     100 graph_launch.cc:671] Fallback to op-by-op mode because memset node breaks graph update\n",
      "W0000 00:00:1710278368.463695     101 graph_launch.cc:671] Fallback to op-by-op mode because memset node breaks graph update\n"
     ]
    },
    {
     "name": "stdout",
     "output_type": "stream",
     "text": [
      "Model took 99.544 seconds to train.\n",
      "\u001b[1m313/313\u001b[0m \u001b[32m━━━━━━━━━━━━━━━━━━━━\u001b[0m\u001b[37m\u001b[0m \u001b[1m0s\u001b[0m 1ms/step - loss: 1.4219 - sparse_categorical_accuracy: 0.4901\n"
     ]
    },
    {
     "name": "stderr",
     "output_type": "stream",
     "text": [
      "[I 2024-03-12 21:21:01,815] Trial 11 finished with value: 0.492000013589859 and parameters: {'lr': 0.005439028658606001, 'dropout_rate': 0.32569689176621575, 'batch_size': 32}. Best is trial 4 with value: 0.5024999976158142.\n"
     ]
    },
    {
     "name": "stdout",
     "output_type": "stream",
     "text": [
      "lr = 0.0029860698378444974,dropout_rate = 0.5584806773177011,batch_size = 16\n",
      "Model took 178.894 seconds to train.\n",
      "\u001b[1m101/313\u001b[0m \u001b[32m━━━━━━\u001b[0m\u001b[37m━━━━━━━━━━━━━━\u001b[0m \u001b[1m0s\u001b[0m 2ms/step - loss: 1.4802 - sparse_categorical_accuracy: 0.4794  "
     ]
    },
    {
     "name": "stderr",
     "output_type": "stream",
     "text": [
      "W0000 00:00:1710278641.440089     100 graph_launch.cc:671] Fallback to op-by-op mode because memset node breaks graph update\n"
     ]
    },
    {
     "name": "stdout",
     "output_type": "stream",
     "text": [
      "\u001b[1m313/313\u001b[0m \u001b[32m━━━━━━━━━━━━━━━━━━━━\u001b[0m\u001b[37m\u001b[0m \u001b[1m1s\u001b[0m 2ms/step - loss: 1.5016 - sparse_categorical_accuracy: 0.4723\n"
     ]
    },
    {
     "name": "stderr",
     "output_type": "stream",
     "text": [
      "[I 2024-03-12 21:24:02,506] Trial 12 finished with value: 0.4666000008583069 and parameters: {'lr': 0.0029860698378444974, 'dropout_rate': 0.5584806773177011, 'batch_size': 16}. Best is trial 4 with value: 0.5024999976158142.\n"
     ]
    },
    {
     "name": "stdout",
     "output_type": "stream",
     "text": [
      "lr = 0.007457793903840216,dropout_rate = 0.26595616642805986,batch_size = 16\n",
      "Model took 178.578 seconds to train.\n",
      "\u001b[1m105/313\u001b[0m \u001b[32m━━━━━━\u001b[0m\u001b[37m━━━━━━━━━━━━━━\u001b[0m \u001b[1m0s\u001b[0m 1ms/step - loss: 1.3920 - sparse_categorical_accuracy: 0.5110  "
     ]
    },
    {
     "name": "stderr",
     "output_type": "stream",
     "text": [
      "W0000 00:00:1710278821.793759      99 graph_launch.cc:671] Fallback to op-by-op mode because memset node breaks graph update\n"
     ]
    },
    {
     "name": "stdout",
     "output_type": "stream",
     "text": [
      "\u001b[1m313/313\u001b[0m \u001b[32m━━━━━━━━━━━━━━━━━━━━\u001b[0m\u001b[37m\u001b[0m \u001b[1m1s\u001b[0m 2ms/step - loss: 1.4118 - sparse_categorical_accuracy: 0.5074\n"
     ]
    },
    {
     "name": "stderr",
     "output_type": "stream",
     "text": [
      "[I 2024-03-12 21:27:02,472] Trial 13 finished with value: 0.5038999915122986 and parameters: {'lr': 0.007457793903840216, 'dropout_rate': 0.26595616642805986, 'batch_size': 16}. Best is trial 13 with value: 0.5038999915122986.\n"
     ]
    },
    {
     "name": "stdout",
     "output_type": "stream",
     "text": [
      "lr = 0.0966213725897544,dropout_rate = 0.37036321875753647,batch_size = 16\n",
      "Model took 179.813 seconds to train.\n",
      "\u001b[1m104/313\u001b[0m \u001b[32m━━━━━━\u001b[0m\u001b[37m━━━━━━━━━━━━━━\u001b[0m \u001b[1m0s\u001b[0m 1ms/step - loss: 1.6790 - sparse_categorical_accuracy: 0.3930  "
     ]
    },
    {
     "name": "stderr",
     "output_type": "stream",
     "text": [
      "W0000 00:00:1710279002.984243     100 graph_launch.cc:671] Fallback to op-by-op mode because memset node breaks graph update\n"
     ]
    },
    {
     "name": "stdout",
     "output_type": "stream",
     "text": [
      "\u001b[1m313/313\u001b[0m \u001b[32m━━━━━━━━━━━━━━━━━━━━\u001b[0m\u001b[37m\u001b[0m \u001b[1m1s\u001b[0m 2ms/step - loss: 1.7006 - sparse_categorical_accuracy: 0.3920\n"
     ]
    },
    {
     "name": "stderr",
     "output_type": "stream",
     "text": [
      "[I 2024-03-12 21:30:03,671] Trial 14 finished with value: 0.3889000117778778 and parameters: {'lr': 0.0966213725897544, 'dropout_rate': 0.37036321875753647, 'batch_size': 16}. Best is trial 13 with value: 0.5038999915122986.\n"
     ]
    },
    {
     "name": "stdout",
     "output_type": "stream",
     "text": [
      "lr = 0.008257879932965992,dropout_rate = 0.29980467017940343,batch_size = 16\n",
      "Model took 179.088 seconds to train.\n",
      "\u001b[1m107/313\u001b[0m \u001b[32m━━━━━━\u001b[0m\u001b[37m━━━━━━━━━━━━━━\u001b[0m \u001b[1m0s\u001b[0m 1ms/step - loss: 1.4203 - sparse_categorical_accuracy: 0.5088  "
     ]
    },
    {
     "name": "stderr",
     "output_type": "stream",
     "text": [
      "W0000 00:00:1710279183.465594      98 graph_launch.cc:671] Fallback to op-by-op mode because memset node breaks graph update\n"
     ]
    },
    {
     "name": "stdout",
     "output_type": "stream",
     "text": [
      "\u001b[1m313/313\u001b[0m \u001b[32m━━━━━━━━━━━━━━━━━━━━\u001b[0m\u001b[37m\u001b[0m \u001b[1m1s\u001b[0m 2ms/step - loss: 1.4401 - sparse_categorical_accuracy: 0.5004\n"
     ]
    },
    {
     "name": "stderr",
     "output_type": "stream",
     "text": [
      "[I 2024-03-12 21:33:04,144] Trial 15 finished with value: 0.49149999022483826 and parameters: {'lr': 0.008257879932965992, 'dropout_rate': 0.29980467017940343, 'batch_size': 16}. Best is trial 13 with value: 0.5038999915122986.\n"
     ]
    },
    {
     "name": "stdout",
     "output_type": "stream",
     "text": [
      "lr = 0.0016160295279652379,dropout_rate = 0.27849292591318586,batch_size = 16\n",
      "Model took 178.798 seconds to train.\n",
      "\u001b[1m107/313\u001b[0m \u001b[32m━━━━━━\u001b[0m\u001b[37m━━━━━━━━━━━━━━\u001b[0m \u001b[1m0s\u001b[0m 1ms/step - loss: 1.4118 - sparse_categorical_accuracy: 0.4829  "
     ]
    },
    {
     "name": "stderr",
     "output_type": "stream",
     "text": [
      "W0000 00:00:1710279363.640629      99 graph_launch.cc:671] Fallback to op-by-op mode because memset node breaks graph update\n"
     ]
    },
    {
     "name": "stdout",
     "output_type": "stream",
     "text": [
      "\u001b[1m313/313\u001b[0m \u001b[32m━━━━━━━━━━━━━━━━━━━━\u001b[0m\u001b[37m\u001b[0m \u001b[1m1s\u001b[0m 2ms/step - loss: 1.4332 - sparse_categorical_accuracy: 0.4864\n"
     ]
    },
    {
     "name": "stderr",
     "output_type": "stream",
     "text": [
      "[I 2024-03-12 21:36:04,328] Trial 16 finished with value: 0.4885999858379364 and parameters: {'lr': 0.0016160295279652379, 'dropout_rate': 0.27849292591318586, 'batch_size': 16}. Best is trial 13 with value: 0.5038999915122986.\n"
     ]
    },
    {
     "name": "stdout",
     "output_type": "stream",
     "text": [
      "lr = 0.0033678965932214776,dropout_rate = 0.3523556924575965,batch_size = 16\n",
      "Model took 179.104 seconds to train.\n",
      "\u001b[1m103/313\u001b[0m \u001b[32m━━━━━━\u001b[0m\u001b[37m━━━━━━━━━━━━━━\u001b[0m \u001b[1m0s\u001b[0m 2ms/step - loss: 1.4013 - sparse_categorical_accuracy: 0.5062  "
     ]
    },
    {
     "name": "stderr",
     "output_type": "stream",
     "text": [
      "W0000 00:00:1710279544.139644     100 graph_launch.cc:671] Fallback to op-by-op mode because memset node breaks graph update\n"
     ]
    },
    {
     "name": "stdout",
     "output_type": "stream",
     "text": [
      "\u001b[1m313/313\u001b[0m \u001b[32m━━━━━━━━━━━━━━━━━━━━\u001b[0m\u001b[37m\u001b[0m \u001b[1m1s\u001b[0m 2ms/step - loss: 1.4249 - sparse_categorical_accuracy: 0.4944\n"
     ]
    },
    {
     "name": "stderr",
     "output_type": "stream",
     "text": [
      "[I 2024-03-12 21:39:04,839] Trial 17 finished with value: 0.4878999888896942 and parameters: {'lr': 0.0033678965932214776, 'dropout_rate': 0.3523556924575965, 'batch_size': 16}. Best is trial 13 with value: 0.5038999915122986.\n"
     ]
    },
    {
     "name": "stdout",
     "output_type": "stream",
     "text": [
      "lr = 0.008102956401354897,dropout_rate = 0.22126359918082433,batch_size = 16\n",
      "Model took 180.393 seconds to train.\n",
      "\u001b[1m101/313\u001b[0m \u001b[32m━━━━━━\u001b[0m\u001b[37m━━━━━━━━━━━━━━\u001b[0m \u001b[1m0s\u001b[0m 2ms/step - loss: 1.4178 - sparse_categorical_accuracy: 0.5030  "
     ]
    },
    {
     "name": "stderr",
     "output_type": "stream",
     "text": [
      "W0000 00:00:1710279725.945454      98 graph_launch.cc:671] Fallback to op-by-op mode because memset node breaks graph update\n"
     ]
    },
    {
     "name": "stdout",
     "output_type": "stream",
     "text": [
      "\u001b[1m313/313\u001b[0m \u001b[32m━━━━━━━━━━━━━━━━━━━━\u001b[0m\u001b[37m\u001b[0m \u001b[1m1s\u001b[0m 2ms/step - loss: 1.4318 - sparse_categorical_accuracy: 0.4989\n"
     ]
    },
    {
     "name": "stderr",
     "output_type": "stream",
     "text": [
      "[I 2024-03-12 21:42:06,628] Trial 18 finished with value: 0.4964999854564667 and parameters: {'lr': 0.008102956401354897, 'dropout_rate': 0.22126359918082433, 'batch_size': 16}. Best is trial 13 with value: 0.5038999915122986.\n"
     ]
    },
    {
     "name": "stdout",
     "output_type": "stream",
     "text": [
      "lr = 0.015253584596479816,dropout_rate = 0.27731475545745576,batch_size = 16\n",
      "Model took 178.356 seconds to train.\n",
      "\u001b[1m103/313\u001b[0m \u001b[32m━━━━━━\u001b[0m\u001b[37m━━━━━━━━━━━━━━\u001b[0m \u001b[1m0s\u001b[0m 1ms/step - loss: 1.4431 - sparse_categorical_accuracy: 0.4931  "
     ]
    },
    {
     "name": "stderr",
     "output_type": "stream",
     "text": [
      "W0000 00:00:1710279905.690705     100 graph_launch.cc:671] Fallback to op-by-op mode because memset node breaks graph update\n"
     ]
    },
    {
     "name": "stdout",
     "output_type": "stream",
     "text": [
      "\u001b[1m313/313\u001b[0m \u001b[32m━━━━━━━━━━━━━━━━━━━━\u001b[0m\u001b[37m\u001b[0m \u001b[1m1s\u001b[0m 2ms/step - loss: 1.4658 - sparse_categorical_accuracy: 0.4879\n"
     ]
    },
    {
     "name": "stderr",
     "output_type": "stream",
     "text": [
      "[I 2024-03-12 21:45:06,752] Trial 19 finished with value: 0.48539999127388 and parameters: {'lr': 0.015253584596479816, 'dropout_rate': 0.27731475545745576, 'batch_size': 16}. Best is trial 13 with value: 0.5038999915122986.\n"
     ]
    }
   ],
   "source": [
    "study.optimize(func=objective,n_trials=20)"
   ]
  },
  {
   "cell_type": "code",
   "execution_count": 19,
   "metadata": {
    "execution": {
     "iopub.execute_input": "2024-03-12T21:45:06.757861Z",
     "iopub.status.busy": "2024-03-12T21:45:06.757572Z",
     "iopub.status.idle": "2024-03-12T21:45:06.765102Z",
     "shell.execute_reply": "2024-03-12T21:45:06.764209Z",
     "shell.execute_reply.started": "2024-03-12T21:45:06.757836Z"
    },
    "id": "1iA2a2ZmBo5m"
   },
   "outputs": [
    {
     "data": {
      "text/plain": [
       "{'lr': 0.007457793903840216,\n",
       " 'dropout_rate': 0.26595616642805986,\n",
       " 'batch_size': 16}"
      ]
     },
     "execution_count": 19,
     "metadata": {},
     "output_type": "execute_result"
    }
   ],
   "source": [
    "study.best_params"
   ]
  },
  {
   "cell_type": "code",
   "execution_count": 20,
   "metadata": {
    "execution": {
     "iopub.execute_input": "2024-03-12T21:45:06.766469Z",
     "iopub.status.busy": "2024-03-12T21:45:06.766215Z",
     "iopub.status.idle": "2024-03-12T21:45:06.786065Z",
     "shell.execute_reply": "2024-03-12T21:45:06.785376Z",
     "shell.execute_reply.started": "2024-03-12T21:45:06.766447Z"
    },
    "id": "-vV7VumpB3aN"
   },
   "outputs": [],
   "source": [
    "optimizer = tf.keras.optimizers.SGD(learning_rate=study.best_params['lr'])\n",
    "model = create_model(\n",
    "    optimizer=optimizer,\n",
    "    drop_out_rate=study.best_params['dropout_rate'],\n",
    ")"
   ]
  },
  {
   "cell_type": "code",
   "execution_count": 21,
   "metadata": {
    "execution": {
     "iopub.execute_input": "2024-03-12T21:45:06.787761Z",
     "iopub.status.busy": "2024-03-12T21:45:06.787176Z",
     "iopub.status.idle": "2024-03-12T21:48:14.435898Z",
     "shell.execute_reply": "2024-03-12T21:48:14.434953Z",
     "shell.execute_reply.started": "2024-03-12T21:45:06.787730Z"
    },
    "id": "C0aawx-XCYUc"
   },
   "outputs": [
    {
     "name": "stdout",
     "output_type": "stream",
     "text": [
      "Epoch 1/50\n",
      "\u001b[1m1875/1875\u001b[0m \u001b[32m━━━━━━━━━━━━━━━━━━━━\u001b[0m\u001b[37m\u001b[0m \u001b[1m6s\u001b[0m 2ms/step - loss: 2.1218 - sparse_categorical_accuracy: 0.2107 - val_loss: 1.8667 - val_sparse_categorical_accuracy: 0.3313\n",
      "Epoch 2/50\n",
      "\u001b[1m1875/1875\u001b[0m \u001b[32m━━━━━━━━━━━━━━━━━━━━\u001b[0m\u001b[37m\u001b[0m \u001b[1m4s\u001b[0m 2ms/step - loss: 1.8884 - sparse_categorical_accuracy: 0.3192 - val_loss: 1.7818 - val_sparse_categorical_accuracy: 0.3744\n",
      "Epoch 3/50\n",
      "\u001b[1m1875/1875\u001b[0m \u001b[32m━━━━━━━━━━━━━━━━━━━━\u001b[0m\u001b[37m\u001b[0m \u001b[1m4s\u001b[0m 2ms/step - loss: 1.8082 - sparse_categorical_accuracy: 0.3503 - val_loss: 1.7353 - val_sparse_categorical_accuracy: 0.3835\n",
      "Epoch 4/50\n",
      "\u001b[1m1875/1875\u001b[0m \u001b[32m━━━━━━━━━━━━━━━━━━━━\u001b[0m\u001b[37m\u001b[0m \u001b[1m4s\u001b[0m 2ms/step - loss: 1.7497 - sparse_categorical_accuracy: 0.3729 - val_loss: 1.6805 - val_sparse_categorical_accuracy: 0.4019\n",
      "Epoch 5/50\n",
      "\u001b[1m1875/1875\u001b[0m \u001b[32m━━━━━━━━━━━━━━━━━━━━\u001b[0m\u001b[37m\u001b[0m \u001b[1m4s\u001b[0m 2ms/step - loss: 1.7005 - sparse_categorical_accuracy: 0.3892 - val_loss: 1.6387 - val_sparse_categorical_accuracy: 0.4191\n",
      "Epoch 6/50\n",
      "\u001b[1m1875/1875\u001b[0m \u001b[32m━━━━━━━━━━━━━━━━━━━━\u001b[0m\u001b[37m\u001b[0m \u001b[1m4s\u001b[0m 2ms/step - loss: 1.6771 - sparse_categorical_accuracy: 0.4021 - val_loss: 1.6565 - val_sparse_categorical_accuracy: 0.4100\n",
      "Epoch 7/50\n",
      "\u001b[1m1875/1875\u001b[0m \u001b[32m━━━━━━━━━━━━━━━━━━━━\u001b[0m\u001b[37m\u001b[0m \u001b[1m4s\u001b[0m 2ms/step - loss: 1.6348 - sparse_categorical_accuracy: 0.4178 - val_loss: 1.6056 - val_sparse_categorical_accuracy: 0.4293\n",
      "Epoch 8/50\n",
      "\u001b[1m1875/1875\u001b[0m \u001b[32m━━━━━━━━━━━━━━━━━━━━\u001b[0m\u001b[37m\u001b[0m \u001b[1m4s\u001b[0m 2ms/step - loss: 1.6159 - sparse_categorical_accuracy: 0.4284 - val_loss: 1.5772 - val_sparse_categorical_accuracy: 0.4355\n",
      "Epoch 9/50\n",
      "\u001b[1m1875/1875\u001b[0m \u001b[32m━━━━━━━━━━━━━━━━━━━━\u001b[0m\u001b[37m\u001b[0m \u001b[1m4s\u001b[0m 2ms/step - loss: 1.5939 - sparse_categorical_accuracy: 0.4349 - val_loss: 1.6281 - val_sparse_categorical_accuracy: 0.4104\n",
      "Epoch 10/50\n",
      "\u001b[1m1875/1875\u001b[0m \u001b[32m━━━━━━━━━━━━━━━━━━━━\u001b[0m\u001b[37m\u001b[0m \u001b[1m4s\u001b[0m 2ms/step - loss: 1.5684 - sparse_categorical_accuracy: 0.4446 - val_loss: 1.5708 - val_sparse_categorical_accuracy: 0.4442\n",
      "Epoch 11/50\n",
      "\u001b[1m1875/1875\u001b[0m \u001b[32m━━━━━━━━━━━━━━━━━━━━\u001b[0m\u001b[37m\u001b[0m \u001b[1m4s\u001b[0m 2ms/step - loss: 1.5403 - sparse_categorical_accuracy: 0.4510 - val_loss: 1.5625 - val_sparse_categorical_accuracy: 0.4405\n",
      "Epoch 12/50\n",
      "\u001b[1m1875/1875\u001b[0m \u001b[32m━━━━━━━━━━━━━━━━━━━━\u001b[0m\u001b[37m\u001b[0m \u001b[1m4s\u001b[0m 2ms/step - loss: 1.5320 - sparse_categorical_accuracy: 0.4596 - val_loss: 1.5527 - val_sparse_categorical_accuracy: 0.4519\n",
      "Epoch 13/50\n",
      "\u001b[1m1875/1875\u001b[0m \u001b[32m━━━━━━━━━━━━━━━━━━━━\u001b[0m\u001b[37m\u001b[0m \u001b[1m4s\u001b[0m 2ms/step - loss: 1.5199 - sparse_categorical_accuracy: 0.4567 - val_loss: 1.5137 - val_sparse_categorical_accuracy: 0.4603\n",
      "Epoch 14/50\n",
      "\u001b[1m1875/1875\u001b[0m \u001b[32m━━━━━━━━━━━━━━━━━━━━\u001b[0m\u001b[37m\u001b[0m \u001b[1m4s\u001b[0m 2ms/step - loss: 1.5105 - sparse_categorical_accuracy: 0.4608 - val_loss: 1.5440 - val_sparse_categorical_accuracy: 0.4511\n",
      "Epoch 15/50\n",
      "\u001b[1m1875/1875\u001b[0m \u001b[32m━━━━━━━━━━━━━━━━━━━━\u001b[0m\u001b[37m\u001b[0m \u001b[1m4s\u001b[0m 2ms/step - loss: 1.4785 - sparse_categorical_accuracy: 0.4725 - val_loss: 1.5116 - val_sparse_categorical_accuracy: 0.4611\n",
      "Epoch 16/50\n",
      "\u001b[1m1875/1875\u001b[0m \u001b[32m━━━━━━━━━━━━━━━━━━━━\u001b[0m\u001b[37m\u001b[0m \u001b[1m4s\u001b[0m 2ms/step - loss: 1.4781 - sparse_categorical_accuracy: 0.4711 - val_loss: 1.5041 - val_sparse_categorical_accuracy: 0.4648\n",
      "Epoch 17/50\n",
      "\u001b[1m1875/1875\u001b[0m \u001b[32m━━━━━━━━━━━━━━━━━━━━\u001b[0m\u001b[37m\u001b[0m \u001b[1m4s\u001b[0m 2ms/step - loss: 1.4473 - sparse_categorical_accuracy: 0.4844 - val_loss: 1.5219 - val_sparse_categorical_accuracy: 0.4551\n",
      "Epoch 18/50\n",
      "\u001b[1m1875/1875\u001b[0m \u001b[32m━━━━━━━━━━━━━━━━━━━━\u001b[0m\u001b[37m\u001b[0m \u001b[1m4s\u001b[0m 2ms/step - loss: 1.4426 - sparse_categorical_accuracy: 0.4890 - val_loss: 1.4821 - val_sparse_categorical_accuracy: 0.4667\n",
      "Epoch 19/50\n",
      "\u001b[1m1875/1875\u001b[0m \u001b[32m━━━━━━━━━━━━━━━━━━━━\u001b[0m\u001b[37m\u001b[0m \u001b[1m4s\u001b[0m 2ms/step - loss: 1.4374 - sparse_categorical_accuracy: 0.4882 - val_loss: 1.4754 - val_sparse_categorical_accuracy: 0.4765\n",
      "Epoch 20/50\n",
      "\u001b[1m1875/1875\u001b[0m \u001b[32m━━━━━━━━━━━━━━━━━━━━\u001b[0m\u001b[37m\u001b[0m \u001b[1m4s\u001b[0m 2ms/step - loss: 1.4341 - sparse_categorical_accuracy: 0.4890 - val_loss: 1.5164 - val_sparse_categorical_accuracy: 0.4637\n",
      "Epoch 21/50\n",
      "\u001b[1m1875/1875\u001b[0m \u001b[32m━━━━━━━━━━━━━━━━━━━━\u001b[0m\u001b[37m\u001b[0m \u001b[1m4s\u001b[0m 2ms/step - loss: 1.4070 - sparse_categorical_accuracy: 0.4980 - val_loss: 1.4889 - val_sparse_categorical_accuracy: 0.4776\n",
      "Epoch 22/50\n",
      "\u001b[1m1875/1875\u001b[0m \u001b[32m━━━━━━━━━━━━━━━━━━━━\u001b[0m\u001b[37m\u001b[0m \u001b[1m4s\u001b[0m 2ms/step - loss: 1.3942 - sparse_categorical_accuracy: 0.5018 - val_loss: 1.4710 - val_sparse_categorical_accuracy: 0.4765\n",
      "Epoch 23/50\n",
      "\u001b[1m1875/1875\u001b[0m \u001b[32m━━━━━━━━━━━━━━━━━━━━\u001b[0m\u001b[37m\u001b[0m \u001b[1m4s\u001b[0m 2ms/step - loss: 1.3961 - sparse_categorical_accuracy: 0.5091 - val_loss: 1.4980 - val_sparse_categorical_accuracy: 0.4717\n",
      "Epoch 24/50\n",
      "\u001b[1m1875/1875\u001b[0m \u001b[32m━━━━━━━━━━━━━━━━━━━━\u001b[0m\u001b[37m\u001b[0m \u001b[1m4s\u001b[0m 2ms/step - loss: 1.3866 - sparse_categorical_accuracy: 0.5039 - val_loss: 1.4692 - val_sparse_categorical_accuracy: 0.4859\n",
      "Epoch 25/50\n",
      "\u001b[1m1875/1875\u001b[0m \u001b[32m━━━━━━━━━━━━━━━━━━━━\u001b[0m\u001b[37m\u001b[0m \u001b[1m4s\u001b[0m 2ms/step - loss: 1.3726 - sparse_categorical_accuracy: 0.5107 - val_loss: 1.4765 - val_sparse_categorical_accuracy: 0.4767\n",
      "Epoch 26/50\n",
      "\u001b[1m1875/1875\u001b[0m \u001b[32m━━━━━━━━━━━━━━━━━━━━\u001b[0m\u001b[37m\u001b[0m \u001b[1m4s\u001b[0m 2ms/step - loss: 1.3607 - sparse_categorical_accuracy: 0.5149 - val_loss: 1.4659 - val_sparse_categorical_accuracy: 0.4759\n",
      "Epoch 27/50\n",
      "\u001b[1m1875/1875\u001b[0m \u001b[32m━━━━━━━━━━━━━━━━━━━━\u001b[0m\u001b[37m\u001b[0m \u001b[1m4s\u001b[0m 2ms/step - loss: 1.3449 - sparse_categorical_accuracy: 0.5190 - val_loss: 1.5194 - val_sparse_categorical_accuracy: 0.4681\n",
      "Epoch 28/50\n",
      "\u001b[1m1875/1875\u001b[0m \u001b[32m━━━━━━━━━━━━━━━━━━━━\u001b[0m\u001b[37m\u001b[0m \u001b[1m4s\u001b[0m 2ms/step - loss: 1.3521 - sparse_categorical_accuracy: 0.5121 - val_loss: 1.4797 - val_sparse_categorical_accuracy: 0.4744\n",
      "Epoch 29/50\n",
      "\u001b[1m1875/1875\u001b[0m \u001b[32m━━━━━━━━━━━━━━━━━━━━\u001b[0m\u001b[37m\u001b[0m \u001b[1m4s\u001b[0m 2ms/step - loss: 1.3295 - sparse_categorical_accuracy: 0.5260 - val_loss: 1.4552 - val_sparse_categorical_accuracy: 0.4772\n",
      "Epoch 30/50\n",
      "\u001b[1m1875/1875\u001b[0m \u001b[32m━━━━━━━━━━━━━━━━━━━━\u001b[0m\u001b[37m\u001b[0m \u001b[1m4s\u001b[0m 2ms/step - loss: 1.3165 - sparse_categorical_accuracy: 0.5259 - val_loss: 1.4675 - val_sparse_categorical_accuracy: 0.4818\n",
      "Epoch 31/50\n",
      "\u001b[1m1875/1875\u001b[0m \u001b[32m━━━━━━━━━━━━━━━━━━━━\u001b[0m\u001b[37m\u001b[0m \u001b[1m4s\u001b[0m 2ms/step - loss: 1.3182 - sparse_categorical_accuracy: 0.5307 - val_loss: 1.4422 - val_sparse_categorical_accuracy: 0.4928\n",
      "Epoch 32/50\n",
      "\u001b[1m1875/1875\u001b[0m \u001b[32m━━━━━━━━━━━━━━━━━━━━\u001b[0m\u001b[37m\u001b[0m \u001b[1m4s\u001b[0m 2ms/step - loss: 1.2992 - sparse_categorical_accuracy: 0.5354 - val_loss: 1.5293 - val_sparse_categorical_accuracy: 0.4633\n",
      "Epoch 33/50\n",
      "\u001b[1m1875/1875\u001b[0m \u001b[32m━━━━━━━━━━━━━━━━━━━━\u001b[0m\u001b[37m\u001b[0m \u001b[1m4s\u001b[0m 2ms/step - loss: 1.2967 - sparse_categorical_accuracy: 0.5426 - val_loss: 1.4433 - val_sparse_categorical_accuracy: 0.4884\n",
      "Epoch 34/50\n",
      "\u001b[1m1875/1875\u001b[0m \u001b[32m━━━━━━━━━━━━━━━━━━━━\u001b[0m\u001b[37m\u001b[0m \u001b[1m4s\u001b[0m 2ms/step - loss: 1.2941 - sparse_categorical_accuracy: 0.5416 - val_loss: 1.4569 - val_sparse_categorical_accuracy: 0.4874\n",
      "Epoch 35/50\n",
      "\u001b[1m1875/1875\u001b[0m \u001b[32m━━━━━━━━━━━━━━━━━━━━\u001b[0m\u001b[37m\u001b[0m \u001b[1m4s\u001b[0m 2ms/step - loss: 1.2748 - sparse_categorical_accuracy: 0.5418 - val_loss: 1.4870 - val_sparse_categorical_accuracy: 0.4786\n",
      "Epoch 36/50\n",
      "\u001b[1m1875/1875\u001b[0m \u001b[32m━━━━━━━━━━━━━━━━━━━━\u001b[0m\u001b[37m\u001b[0m \u001b[1m4s\u001b[0m 2ms/step - loss: 1.2831 - sparse_categorical_accuracy: 0.5394 - val_loss: 1.4790 - val_sparse_categorical_accuracy: 0.4780\n",
      "Epoch 37/50\n",
      "\u001b[1m1875/1875\u001b[0m \u001b[32m━━━━━━━━━━━━━━━━━━━━\u001b[0m\u001b[37m\u001b[0m \u001b[1m4s\u001b[0m 2ms/step - loss: 1.2736 - sparse_categorical_accuracy: 0.5374 - val_loss: 1.4388 - val_sparse_categorical_accuracy: 0.4890\n",
      "Epoch 38/50\n",
      "\u001b[1m1875/1875\u001b[0m \u001b[32m━━━━━━━━━━━━━━━━━━━━\u001b[0m\u001b[37m\u001b[0m \u001b[1m4s\u001b[0m 2ms/step - loss: 1.2446 - sparse_categorical_accuracy: 0.5553 - val_loss: 1.4543 - val_sparse_categorical_accuracy: 0.4815\n",
      "Epoch 39/50\n",
      "\u001b[1m1875/1875\u001b[0m \u001b[32m━━━━━━━━━━━━━━━━━━━━\u001b[0m\u001b[37m\u001b[0m \u001b[1m4s\u001b[0m 2ms/step - loss: 1.2448 - sparse_categorical_accuracy: 0.5523 - val_loss: 1.4801 - val_sparse_categorical_accuracy: 0.4831\n",
      "Epoch 40/50\n",
      "\u001b[1m1875/1875\u001b[0m \u001b[32m━━━━━━━━━━━━━━━━━━━━\u001b[0m\u001b[37m\u001b[0m \u001b[1m4s\u001b[0m 2ms/step - loss: 1.2519 - sparse_categorical_accuracy: 0.5486 - val_loss: 1.4476 - val_sparse_categorical_accuracy: 0.4903\n",
      "Epoch 41/50\n",
      "\u001b[1m1875/1875\u001b[0m \u001b[32m━━━━━━━━━━━━━━━━━━━━\u001b[0m\u001b[37m\u001b[0m \u001b[1m4s\u001b[0m 2ms/step - loss: 1.2339 - sparse_categorical_accuracy: 0.5520 - val_loss: 1.4605 - val_sparse_categorical_accuracy: 0.4868\n",
      "Epoch 42/50\n",
      "\u001b[1m1875/1875\u001b[0m \u001b[32m━━━━━━━━━━━━━━━━━━━━\u001b[0m\u001b[37m\u001b[0m \u001b[1m4s\u001b[0m 2ms/step - loss: 1.2252 - sparse_categorical_accuracy: 0.5574 - val_loss: 1.4433 - val_sparse_categorical_accuracy: 0.4940\n",
      "Epoch 43/50\n",
      "\u001b[1m1875/1875\u001b[0m \u001b[32m━━━━━━━━━━━━━━━━━━━━\u001b[0m\u001b[37m\u001b[0m \u001b[1m4s\u001b[0m 2ms/step - loss: 1.2309 - sparse_categorical_accuracy: 0.5554 - val_loss: 1.4836 - val_sparse_categorical_accuracy: 0.4864\n",
      "Epoch 44/50\n",
      "\u001b[1m1875/1875\u001b[0m \u001b[32m━━━━━━━━━━━━━━━━━━━━\u001b[0m\u001b[37m\u001b[0m \u001b[1m4s\u001b[0m 2ms/step - loss: 1.2142 - sparse_categorical_accuracy: 0.5570 - val_loss: 1.4766 - val_sparse_categorical_accuracy: 0.4854\n",
      "Epoch 45/50\n",
      "\u001b[1m1875/1875\u001b[0m \u001b[32m━━━━━━━━━━━━━━━━━━━━\u001b[0m\u001b[37m\u001b[0m \u001b[1m4s\u001b[0m 2ms/step - loss: 1.2239 - sparse_categorical_accuracy: 0.5588 - val_loss: 1.4531 - val_sparse_categorical_accuracy: 0.4901\n",
      "Epoch 46/50\n",
      "\u001b[1m1875/1875\u001b[0m \u001b[32m━━━━━━━━━━━━━━━━━━━━\u001b[0m\u001b[37m\u001b[0m \u001b[1m4s\u001b[0m 2ms/step - loss: 1.2126 - sparse_categorical_accuracy: 0.5654 - val_loss: 1.4876 - val_sparse_categorical_accuracy: 0.4831\n",
      "Epoch 47/50\n",
      "\u001b[1m1875/1875\u001b[0m \u001b[32m━━━━━━━━━━━━━━━━━━━━\u001b[0m\u001b[37m\u001b[0m \u001b[1m4s\u001b[0m 2ms/step - loss: 1.1945 - sparse_categorical_accuracy: 0.5745 - val_loss: 1.4353 - val_sparse_categorical_accuracy: 0.4922\n",
      "Epoch 48/50\n",
      "\u001b[1m1875/1875\u001b[0m \u001b[32m━━━━━━━━━━━━━━━━━━━━\u001b[0m\u001b[37m\u001b[0m \u001b[1m4s\u001b[0m 2ms/step - loss: 1.2016 - sparse_categorical_accuracy: 0.5690 - val_loss: 1.4411 - val_sparse_categorical_accuracy: 0.4985\n",
      "Epoch 49/50\n",
      "\u001b[1m1875/1875\u001b[0m \u001b[32m━━━━━━━━━━━━━━━━━━━━\u001b[0m\u001b[37m\u001b[0m \u001b[1m4s\u001b[0m 2ms/step - loss: 1.1877 - sparse_categorical_accuracy: 0.5700 - val_loss: 1.4401 - val_sparse_categorical_accuracy: 0.4955\n",
      "Epoch 50/50\n",
      "\u001b[1m1875/1875\u001b[0m \u001b[32m━━━━━━━━━━━━━━━━━━━━\u001b[0m\u001b[37m\u001b[0m \u001b[1m4s\u001b[0m 2ms/step - loss: 1.1761 - sparse_categorical_accuracy: 0.5737 - val_loss: 1.4584 - val_sparse_categorical_accuracy: 0.4928\n",
      "Model took 187.643 seconds to train.\n"
     ]
    }
   ],
   "source": [
    "train(model,\n",
    "  name='Random Search',\n",
    "  train_data=train_data,\n",
    "  val_data=val_data,\n",
    "  batch_size=study.best_params['batch_size']\n",
    ")"
   ]
  },
  {
   "cell_type": "markdown",
   "metadata": {
    "id": "CTYiF-Zg-FJm"
   },
   "source": [
    "## Evaluation"
   ]
  },
  {
   "cell_type": "code",
   "execution_count": 22,
   "metadata": {
    "execution": {
     "iopub.execute_input": "2024-03-12T21:48:14.437844Z",
     "iopub.status.busy": "2024-03-12T21:48:14.437538Z",
     "iopub.status.idle": "2024-03-12T21:48:14.444414Z",
     "shell.execute_reply": "2024-03-12T21:48:14.443535Z",
     "shell.execute_reply.started": "2024-03-12T21:48:14.437820Z"
    },
    "id": "ccH5upj5-G4e"
   },
   "outputs": [],
   "source": [
    "def evaluate(models,X_val,y_val):\n",
    "\n",
    "  result = {\n",
    "      'loss' : [],\n",
    "      'accuracy' : []\n",
    "  }\n",
    "\n",
    "  index = []\n",
    "\n",
    "  for name,model in models.items():\n",
    "    loss, accuracy = model.evaluate(X_val,y_val)\n",
    "    result['loss'].append(loss)\n",
    "    result['accuracy'].append(accuracy)\n",
    "    index.append(name)\n",
    "\n",
    "  return pd.DataFrame(data=result,index=index)"
   ]
  },
  {
   "cell_type": "code",
   "execution_count": 23,
   "metadata": {
    "execution": {
     "iopub.execute_input": "2024-03-12T21:48:14.445824Z",
     "iopub.status.busy": "2024-03-12T21:48:14.445549Z",
     "iopub.status.idle": "2024-03-12T21:48:22.035042Z",
     "shell.execute_reply": "2024-03-12T21:48:22.034126Z",
     "shell.execute_reply.started": "2024-03-12T21:48:14.445801Z"
    },
    "id": "yxDjV6UN-Hmf"
   },
   "outputs": [
    {
     "name": "stdout",
     "output_type": "stream",
     "text": [
      "\u001b[1m313/313\u001b[0m \u001b[32m━━━━━━━━━━━━━━━━━━━━\u001b[0m\u001b[37m\u001b[0m \u001b[1m0s\u001b[0m 1ms/step - loss: 1.4874 - sparse_categorical_accuracy: 0.5016\n",
      "\u001b[1m313/313\u001b[0m \u001b[32m━━━━━━━━━━━━━━━━━━━━\u001b[0m\u001b[37m\u001b[0m \u001b[1m0s\u001b[0m 1ms/step - loss: 1.4549 - sparse_categorical_accuracy: 0.4936\n",
      "\u001b[1m313/313\u001b[0m \u001b[32m━━━━━━━━━━━━━━━━━━━━\u001b[0m\u001b[37m\u001b[0m \u001b[1m0s\u001b[0m 1ms/step - loss: 1.5150 - sparse_categorical_accuracy: 0.4830\n",
      "\u001b[1m313/313\u001b[0m \u001b[32m━━━━━━━━━━━━━━━━━━━━\u001b[0m\u001b[37m\u001b[0m \u001b[1m0s\u001b[0m 1ms/step - loss: 1.4801 - sparse_categorical_accuracy: 0.4872\n",
      "\u001b[1m313/313\u001b[0m \u001b[32m━━━━━━━━━━━━━━━━━━━━\u001b[0m\u001b[37m\u001b[0m \u001b[1m0s\u001b[0m 1ms/step - loss: 1.4314 - sparse_categorical_accuracy: 0.4858\n",
      "\u001b[1m313/313\u001b[0m \u001b[32m━━━━━━━━━━━━━━━━━━━━\u001b[0m\u001b[37m\u001b[0m \u001b[1m0s\u001b[0m 1ms/step - loss: 1.4800 - sparse_categorical_accuracy: 0.4764\n",
      "\u001b[1m313/313\u001b[0m \u001b[32m━━━━━━━━━━━━━━━━━━━━\u001b[0m\u001b[37m\u001b[0m \u001b[1m1s\u001b[0m 2ms/step - loss: 1.7310 - sparse_categorical_accuracy: 0.4402\n",
      "\u001b[1m 96/313\u001b[0m \u001b[32m━━━━━━\u001b[0m\u001b[37m━━━━━━━━━━━━━━\u001b[0m \u001b[1m0s\u001b[0m 2ms/step - loss: 1.4030 - sparse_categorical_accuracy: 0.5146  "
     ]
    },
    {
     "name": "stderr",
     "output_type": "stream",
     "text": [
      "W0000 00:00:1710280101.330335     101 graph_launch.cc:671] Fallback to op-by-op mode because memset node breaks graph update\n"
     ]
    },
    {
     "name": "stdout",
     "output_type": "stream",
     "text": [
      "\u001b[1m313/313\u001b[0m \u001b[32m━━━━━━━━━━━━━━━━━━━━\u001b[0m\u001b[37m\u001b[0m \u001b[1m1s\u001b[0m 2ms/step - loss: 1.4362 - sparse_categorical_accuracy: 0.4988\n"
     ]
    },
    {
     "data": {
      "text/html": [
       "<div>\n",
       "<style scoped>\n",
       "    .dataframe tbody tr th:only-of-type {\n",
       "        vertical-align: middle;\n",
       "    }\n",
       "\n",
       "    .dataframe tbody tr th {\n",
       "        vertical-align: top;\n",
       "    }\n",
       "\n",
       "    .dataframe thead th {\n",
       "        text-align: right;\n",
       "    }\n",
       "</style>\n",
       "<table border=\"1\" class=\"dataframe\">\n",
       "  <thead>\n",
       "    <tr style=\"text-align: right;\">\n",
       "      <th></th>\n",
       "      <th>loss</th>\n",
       "      <th>accuracy</th>\n",
       "    </tr>\n",
       "  </thead>\n",
       "  <tbody>\n",
       "    <tr>\n",
       "      <th>Mini-Batch SGD</th>\n",
       "      <td>1.506944</td>\n",
       "      <td>0.4957</td>\n",
       "    </tr>\n",
       "    <tr>\n",
       "      <th>Mini-Batch SGD + Early Stopping</th>\n",
       "      <td>1.466845</td>\n",
       "      <td>0.4882</td>\n",
       "    </tr>\n",
       "    <tr>\n",
       "      <th>Mini-Batch SGD With L2 Nomralization</th>\n",
       "      <td>1.528138</td>\n",
       "      <td>0.4837</td>\n",
       "    </tr>\n",
       "    <tr>\n",
       "      <th>Mini-Batch SGD With Dropout Rate = 0.2</th>\n",
       "      <td>1.495598</td>\n",
       "      <td>0.4828</td>\n",
       "    </tr>\n",
       "    <tr>\n",
       "      <th>Mini-Batch SGD With Dropout Rate = 0.3</th>\n",
       "      <td>1.455339</td>\n",
       "      <td>0.4884</td>\n",
       "    </tr>\n",
       "    <tr>\n",
       "      <th>Mini-Batch SGD With Dropout Rate = 0.5</th>\n",
       "      <td>1.491055</td>\n",
       "      <td>0.4762</td>\n",
       "    </tr>\n",
       "    <tr>\n",
       "      <th>Mini-Batch SGD With Batch Normalization</th>\n",
       "      <td>1.740329</td>\n",
       "      <td>0.4395</td>\n",
       "    </tr>\n",
       "    <tr>\n",
       "      <th>Random Search</th>\n",
       "      <td>1.460039</td>\n",
       "      <td>0.4928</td>\n",
       "    </tr>\n",
       "  </tbody>\n",
       "</table>\n",
       "</div>"
      ],
      "text/plain": [
       "                                             loss  accuracy\n",
       "Mini-Batch SGD                           1.506944    0.4957\n",
       "Mini-Batch SGD + Early Stopping          1.466845    0.4882\n",
       "Mini-Batch SGD With L2 Nomralization     1.528138    0.4837\n",
       "Mini-Batch SGD With Dropout Rate = 0.2   1.495598    0.4828\n",
       "Mini-Batch SGD With Dropout Rate = 0.3   1.455339    0.4884\n",
       "Mini-Batch SGD With Dropout Rate = 0.5   1.491055    0.4762\n",
       "Mini-Batch SGD With Batch Normalization  1.740329    0.4395\n",
       "Random Search                            1.460039    0.4928"
      ]
     },
     "execution_count": 23,
     "metadata": {},
     "output_type": "execute_result"
    }
   ],
   "source": [
    "evaluation_df = evaluate(models,val_data[0],val_data[1])\n",
    "evaluation_df"
   ]
  },
  {
   "cell_type": "code",
   "execution_count": 24,
   "metadata": {
    "execution": {
     "iopub.execute_input": "2024-03-12T21:48:22.036621Z",
     "iopub.status.busy": "2024-03-12T21:48:22.036265Z",
     "iopub.status.idle": "2024-03-12T21:48:22.043399Z",
     "shell.execute_reply": "2024-03-12T21:48:22.042484Z",
     "shell.execute_reply.started": "2024-03-12T21:48:22.036585Z"
    },
    "id": "5GAsg49_D7m8"
   },
   "outputs": [],
   "source": [
    "evaluation_df.to_csv('/kaggle/working/evaluation.csv',index=False)"
   ]
  },
  {
   "cell_type": "markdown",
   "metadata": {
    "id": "Rq7u2bQpEc9X"
   },
   "source": [
    "## Learning graphs"
   ]
  },
  {
   "cell_type": "code",
   "execution_count": 25,
   "metadata": {
    "execution": {
     "iopub.execute_input": "2024-03-12T21:48:22.044672Z",
     "iopub.status.busy": "2024-03-12T21:48:22.044372Z",
     "iopub.status.idle": "2024-03-12T21:48:22.053079Z",
     "shell.execute_reply": "2024-03-12T21:48:22.052030Z",
     "shell.execute_reply.started": "2024-03-12T21:48:22.044647Z"
    },
    "id": "9e9_vf3xEerG"
   },
   "outputs": [],
   "source": [
    "def plot_loss_accuracy(history):\n",
    "\n",
    "  x = range(len(history.history['loss']))\n",
    "\n",
    "  fig, (ax1, ax2) = plt.subplots(nrows=1,ncols=2)\n",
    "\n",
    "  fig.set_size_inches(10, 5)\n",
    "\n",
    "  sns.lineplot(x=x, y=history.history['loss'], ax=ax1, label='Train')\n",
    "  sns.lineplot(x=x, y=history.history['val_loss'], ax=ax1, label='Validation')\n",
    "\n",
    "  ax1.set_title('Train and validation loss vs Epoch')\n",
    "\n",
    "  sns.lineplot(x=x, y=history.history['sparse_categorical_accuracy'], ax=ax2,label='Train')\n",
    "  sns.lineplot(x=x, y=history.history['val_sparse_categorical_accuracy'], ax=ax2,label='Validation')\n",
    "\n",
    "  ax2.set_title('Train and validation accuracy vs Epoch')\n",
    "\n",
    "  return fig"
   ]
  },
  {
   "cell_type": "code",
   "execution_count": 26,
   "metadata": {
    "execution": {
     "iopub.execute_input": "2024-03-12T21:48:22.054792Z",
     "iopub.status.busy": "2024-03-12T21:48:22.054372Z",
     "iopub.status.idle": "2024-03-12T21:48:27.285683Z",
     "shell.execute_reply": "2024-03-12T21:48:27.284810Z",
     "shell.execute_reply.started": "2024-03-12T21:48:22.054760Z"
    },
    "id": "ot_iPVEtEh50"
   },
   "outputs": [
    {
     "name": "stderr",
     "output_type": "stream",
     "text": [
      "/opt/conda/lib/python3.10/site-packages/seaborn/_oldcore.py:1119: FutureWarning: use_inf_as_na option is deprecated and will be removed in a future version. Convert inf values to NaN before operating instead.\n",
      "  with pd.option_context('mode.use_inf_as_na', True):\n",
      "/opt/conda/lib/python3.10/site-packages/seaborn/_oldcore.py:1119: FutureWarning: use_inf_as_na option is deprecated and will be removed in a future version. Convert inf values to NaN before operating instead.\n",
      "  with pd.option_context('mode.use_inf_as_na', True):\n",
      "/opt/conda/lib/python3.10/site-packages/seaborn/_oldcore.py:1119: FutureWarning: use_inf_as_na option is deprecated and will be removed in a future version. Convert inf values to NaN before operating instead.\n",
      "  with pd.option_context('mode.use_inf_as_na', True):\n",
      "/opt/conda/lib/python3.10/site-packages/seaborn/_oldcore.py:1119: FutureWarning: use_inf_as_na option is deprecated and will be removed in a future version. Convert inf values to NaN before operating instead.\n",
      "  with pd.option_context('mode.use_inf_as_na', True):\n",
      "/opt/conda/lib/python3.10/site-packages/seaborn/_oldcore.py:1119: FutureWarning: use_inf_as_na option is deprecated and will be removed in a future version. Convert inf values to NaN before operating instead.\n",
      "  with pd.option_context('mode.use_inf_as_na', True):\n",
      "/opt/conda/lib/python3.10/site-packages/seaborn/_oldcore.py:1119: FutureWarning: use_inf_as_na option is deprecated and will be removed in a future version. Convert inf values to NaN before operating instead.\n",
      "  with pd.option_context('mode.use_inf_as_na', True):\n",
      "/opt/conda/lib/python3.10/site-packages/seaborn/_oldcore.py:1119: FutureWarning: use_inf_as_na option is deprecated and will be removed in a future version. Convert inf values to NaN before operating instead.\n",
      "  with pd.option_context('mode.use_inf_as_na', True):\n",
      "/opt/conda/lib/python3.10/site-packages/seaborn/_oldcore.py:1119: FutureWarning: use_inf_as_na option is deprecated and will be removed in a future version. Convert inf values to NaN before operating instead.\n",
      "  with pd.option_context('mode.use_inf_as_na', True):\n",
      "/opt/conda/lib/python3.10/site-packages/seaborn/_oldcore.py:1119: FutureWarning: use_inf_as_na option is deprecated and will be removed in a future version. Convert inf values to NaN before operating instead.\n",
      "  with pd.option_context('mode.use_inf_as_na', True):\n",
      "/opt/conda/lib/python3.10/site-packages/seaborn/_oldcore.py:1119: FutureWarning: use_inf_as_na option is deprecated and will be removed in a future version. Convert inf values to NaN before operating instead.\n",
      "  with pd.option_context('mode.use_inf_as_na', True):\n",
      "/opt/conda/lib/python3.10/site-packages/seaborn/_oldcore.py:1119: FutureWarning: use_inf_as_na option is deprecated and will be removed in a future version. Convert inf values to NaN before operating instead.\n",
      "  with pd.option_context('mode.use_inf_as_na', True):\n",
      "/opt/conda/lib/python3.10/site-packages/seaborn/_oldcore.py:1119: FutureWarning: use_inf_as_na option is deprecated and will be removed in a future version. Convert inf values to NaN before operating instead.\n",
      "  with pd.option_context('mode.use_inf_as_na', True):\n",
      "/opt/conda/lib/python3.10/site-packages/seaborn/_oldcore.py:1119: FutureWarning: use_inf_as_na option is deprecated and will be removed in a future version. Convert inf values to NaN before operating instead.\n",
      "  with pd.option_context('mode.use_inf_as_na', True):\n",
      "/opt/conda/lib/python3.10/site-packages/seaborn/_oldcore.py:1119: FutureWarning: use_inf_as_na option is deprecated and will be removed in a future version. Convert inf values to NaN before operating instead.\n",
      "  with pd.option_context('mode.use_inf_as_na', True):\n",
      "/opt/conda/lib/python3.10/site-packages/seaborn/_oldcore.py:1119: FutureWarning: use_inf_as_na option is deprecated and will be removed in a future version. Convert inf values to NaN before operating instead.\n",
      "  with pd.option_context('mode.use_inf_as_na', True):\n",
      "/opt/conda/lib/python3.10/site-packages/seaborn/_oldcore.py:1119: FutureWarning: use_inf_as_na option is deprecated and will be removed in a future version. Convert inf values to NaN before operating instead.\n",
      "  with pd.option_context('mode.use_inf_as_na', True):\n",
      "/opt/conda/lib/python3.10/site-packages/seaborn/_oldcore.py:1119: FutureWarning: use_inf_as_na option is deprecated and will be removed in a future version. Convert inf values to NaN before operating instead.\n",
      "  with pd.option_context('mode.use_inf_as_na', True):\n",
      "/opt/conda/lib/python3.10/site-packages/seaborn/_oldcore.py:1119: FutureWarning: use_inf_as_na option is deprecated and will be removed in a future version. Convert inf values to NaN before operating instead.\n",
      "  with pd.option_context('mode.use_inf_as_na', True):\n",
      "/opt/conda/lib/python3.10/site-packages/seaborn/_oldcore.py:1119: FutureWarning: use_inf_as_na option is deprecated and will be removed in a future version. Convert inf values to NaN before operating instead.\n",
      "  with pd.option_context('mode.use_inf_as_na', True):\n",
      "/opt/conda/lib/python3.10/site-packages/seaborn/_oldcore.py:1119: FutureWarning: use_inf_as_na option is deprecated and will be removed in a future version. Convert inf values to NaN before operating instead.\n",
      "  with pd.option_context('mode.use_inf_as_na', True):\n",
      "/opt/conda/lib/python3.10/site-packages/seaborn/_oldcore.py:1119: FutureWarning: use_inf_as_na option is deprecated and will be removed in a future version. Convert inf values to NaN before operating instead.\n",
      "  with pd.option_context('mode.use_inf_as_na', True):\n",
      "/opt/conda/lib/python3.10/site-packages/seaborn/_oldcore.py:1119: FutureWarning: use_inf_as_na option is deprecated and will be removed in a future version. Convert inf values to NaN before operating instead.\n",
      "  with pd.option_context('mode.use_inf_as_na', True):\n",
      "/opt/conda/lib/python3.10/site-packages/seaborn/_oldcore.py:1119: FutureWarning: use_inf_as_na option is deprecated and will be removed in a future version. Convert inf values to NaN before operating instead.\n",
      "  with pd.option_context('mode.use_inf_as_na', True):\n",
      "/opt/conda/lib/python3.10/site-packages/seaborn/_oldcore.py:1119: FutureWarning: use_inf_as_na option is deprecated and will be removed in a future version. Convert inf values to NaN before operating instead.\n",
      "  with pd.option_context('mode.use_inf_as_na', True):\n",
      "/opt/conda/lib/python3.10/site-packages/seaborn/_oldcore.py:1119: FutureWarning: use_inf_as_na option is deprecated and will be removed in a future version. Convert inf values to NaN before operating instead.\n",
      "  with pd.option_context('mode.use_inf_as_na', True):\n",
      "/opt/conda/lib/python3.10/site-packages/seaborn/_oldcore.py:1119: FutureWarning: use_inf_as_na option is deprecated and will be removed in a future version. Convert inf values to NaN before operating instead.\n",
      "  with pd.option_context('mode.use_inf_as_na', True):\n",
      "/opt/conda/lib/python3.10/site-packages/seaborn/_oldcore.py:1119: FutureWarning: use_inf_as_na option is deprecated and will be removed in a future version. Convert inf values to NaN before operating instead.\n",
      "  with pd.option_context('mode.use_inf_as_na', True):\n",
      "/opt/conda/lib/python3.10/site-packages/seaborn/_oldcore.py:1119: FutureWarning: use_inf_as_na option is deprecated and will be removed in a future version. Convert inf values to NaN before operating instead.\n",
      "  with pd.option_context('mode.use_inf_as_na', True):\n",
      "/opt/conda/lib/python3.10/site-packages/seaborn/_oldcore.py:1119: FutureWarning: use_inf_as_na option is deprecated and will be removed in a future version. Convert inf values to NaN before operating instead.\n",
      "  with pd.option_context('mode.use_inf_as_na', True):\n",
      "/opt/conda/lib/python3.10/site-packages/seaborn/_oldcore.py:1119: FutureWarning: use_inf_as_na option is deprecated and will be removed in a future version. Convert inf values to NaN before operating instead.\n",
      "  with pd.option_context('mode.use_inf_as_na', True):\n",
      "/opt/conda/lib/python3.10/site-packages/seaborn/_oldcore.py:1119: FutureWarning: use_inf_as_na option is deprecated and will be removed in a future version. Convert inf values to NaN before operating instead.\n",
      "  with pd.option_context('mode.use_inf_as_na', True):\n",
      "/opt/conda/lib/python3.10/site-packages/seaborn/_oldcore.py:1119: FutureWarning: use_inf_as_na option is deprecated and will be removed in a future version. Convert inf values to NaN before operating instead.\n",
      "  with pd.option_context('mode.use_inf_as_na', True):\n",
      "/opt/conda/lib/python3.10/site-packages/seaborn/_oldcore.py:1119: FutureWarning: use_inf_as_na option is deprecated and will be removed in a future version. Convert inf values to NaN before operating instead.\n",
      "  with pd.option_context('mode.use_inf_as_na', True):\n",
      "/opt/conda/lib/python3.10/site-packages/seaborn/_oldcore.py:1119: FutureWarning: use_inf_as_na option is deprecated and will be removed in a future version. Convert inf values to NaN before operating instead.\n",
      "  with pd.option_context('mode.use_inf_as_na', True):\n",
      "/opt/conda/lib/python3.10/site-packages/seaborn/_oldcore.py:1119: FutureWarning: use_inf_as_na option is deprecated and will be removed in a future version. Convert inf values to NaN before operating instead.\n",
      "  with pd.option_context('mode.use_inf_as_na', True):\n",
      "/opt/conda/lib/python3.10/site-packages/seaborn/_oldcore.py:1119: FutureWarning: use_inf_as_na option is deprecated and will be removed in a future version. Convert inf values to NaN before operating instead.\n",
      "  with pd.option_context('mode.use_inf_as_na', True):\n",
      "/opt/conda/lib/python3.10/site-packages/seaborn/_oldcore.py:1119: FutureWarning: use_inf_as_na option is deprecated and will be removed in a future version. Convert inf values to NaN before operating instead.\n",
      "  with pd.option_context('mode.use_inf_as_na', True):\n",
      "/opt/conda/lib/python3.10/site-packages/seaborn/_oldcore.py:1119: FutureWarning: use_inf_as_na option is deprecated and will be removed in a future version. Convert inf values to NaN before operating instead.\n",
      "  with pd.option_context('mode.use_inf_as_na', True):\n",
      "/opt/conda/lib/python3.10/site-packages/seaborn/_oldcore.py:1119: FutureWarning: use_inf_as_na option is deprecated and will be removed in a future version. Convert inf values to NaN before operating instead.\n",
      "  with pd.option_context('mode.use_inf_as_na', True):\n",
      "/opt/conda/lib/python3.10/site-packages/seaborn/_oldcore.py:1119: FutureWarning: use_inf_as_na option is deprecated and will be removed in a future version. Convert inf values to NaN before operating instead.\n",
      "  with pd.option_context('mode.use_inf_as_na', True):\n",
      "/opt/conda/lib/python3.10/site-packages/seaborn/_oldcore.py:1119: FutureWarning: use_inf_as_na option is deprecated and will be removed in a future version. Convert inf values to NaN before operating instead.\n",
      "  with pd.option_context('mode.use_inf_as_na', True):\n",
      "/opt/conda/lib/python3.10/site-packages/seaborn/_oldcore.py:1119: FutureWarning: use_inf_as_na option is deprecated and will be removed in a future version. Convert inf values to NaN before operating instead.\n",
      "  with pd.option_context('mode.use_inf_as_na', True):\n",
      "/opt/conda/lib/python3.10/site-packages/seaborn/_oldcore.py:1119: FutureWarning: use_inf_as_na option is deprecated and will be removed in a future version. Convert inf values to NaN before operating instead.\n",
      "  with pd.option_context('mode.use_inf_as_na', True):\n",
      "/opt/conda/lib/python3.10/site-packages/seaborn/_oldcore.py:1119: FutureWarning: use_inf_as_na option is deprecated and will be removed in a future version. Convert inf values to NaN before operating instead.\n",
      "  with pd.option_context('mode.use_inf_as_na', True):\n",
      "/opt/conda/lib/python3.10/site-packages/seaborn/_oldcore.py:1119: FutureWarning: use_inf_as_na option is deprecated and will be removed in a future version. Convert inf values to NaN before operating instead.\n",
      "  with pd.option_context('mode.use_inf_as_na', True):\n",
      "/opt/conda/lib/python3.10/site-packages/seaborn/_oldcore.py:1119: FutureWarning: use_inf_as_na option is deprecated and will be removed in a future version. Convert inf values to NaN before operating instead.\n",
      "  with pd.option_context('mode.use_inf_as_na', True):\n",
      "/opt/conda/lib/python3.10/site-packages/seaborn/_oldcore.py:1119: FutureWarning: use_inf_as_na option is deprecated and will be removed in a future version. Convert inf values to NaN before operating instead.\n",
      "  with pd.option_context('mode.use_inf_as_na', True):\n",
      "/opt/conda/lib/python3.10/site-packages/seaborn/_oldcore.py:1119: FutureWarning: use_inf_as_na option is deprecated and will be removed in a future version. Convert inf values to NaN before operating instead.\n",
      "  with pd.option_context('mode.use_inf_as_na', True):\n",
      "/opt/conda/lib/python3.10/site-packages/seaborn/_oldcore.py:1119: FutureWarning: use_inf_as_na option is deprecated and will be removed in a future version. Convert inf values to NaN before operating instead.\n",
      "  with pd.option_context('mode.use_inf_as_na', True):\n",
      "/opt/conda/lib/python3.10/site-packages/seaborn/_oldcore.py:1119: FutureWarning: use_inf_as_na option is deprecated and will be removed in a future version. Convert inf values to NaN before operating instead.\n",
      "  with pd.option_context('mode.use_inf_as_na', True):\n",
      "/opt/conda/lib/python3.10/site-packages/seaborn/_oldcore.py:1119: FutureWarning: use_inf_as_na option is deprecated and will be removed in a future version. Convert inf values to NaN before operating instead.\n",
      "  with pd.option_context('mode.use_inf_as_na', True):\n",
      "/opt/conda/lib/python3.10/site-packages/seaborn/_oldcore.py:1119: FutureWarning: use_inf_as_na option is deprecated and will be removed in a future version. Convert inf values to NaN before operating instead.\n",
      "  with pd.option_context('mode.use_inf_as_na', True):\n",
      "/opt/conda/lib/python3.10/site-packages/seaborn/_oldcore.py:1119: FutureWarning: use_inf_as_na option is deprecated and will be removed in a future version. Convert inf values to NaN before operating instead.\n",
      "  with pd.option_context('mode.use_inf_as_na', True):\n",
      "/opt/conda/lib/python3.10/site-packages/seaborn/_oldcore.py:1119: FutureWarning: use_inf_as_na option is deprecated and will be removed in a future version. Convert inf values to NaN before operating instead.\n",
      "  with pd.option_context('mode.use_inf_as_na', True):\n",
      "/opt/conda/lib/python3.10/site-packages/seaborn/_oldcore.py:1119: FutureWarning: use_inf_as_na option is deprecated and will be removed in a future version. Convert inf values to NaN before operating instead.\n",
      "  with pd.option_context('mode.use_inf_as_na', True):\n",
      "/opt/conda/lib/python3.10/site-packages/seaborn/_oldcore.py:1119: FutureWarning: use_inf_as_na option is deprecated and will be removed in a future version. Convert inf values to NaN before operating instead.\n",
      "  with pd.option_context('mode.use_inf_as_na', True):\n",
      "/opt/conda/lib/python3.10/site-packages/seaborn/_oldcore.py:1119: FutureWarning: use_inf_as_na option is deprecated and will be removed in a future version. Convert inf values to NaN before operating instead.\n",
      "  with pd.option_context('mode.use_inf_as_na', True):\n",
      "/opt/conda/lib/python3.10/site-packages/seaborn/_oldcore.py:1119: FutureWarning: use_inf_as_na option is deprecated and will be removed in a future version. Convert inf values to NaN before operating instead.\n",
      "  with pd.option_context('mode.use_inf_as_na', True):\n",
      "/opt/conda/lib/python3.10/site-packages/seaborn/_oldcore.py:1119: FutureWarning: use_inf_as_na option is deprecated and will be removed in a future version. Convert inf values to NaN before operating instead.\n",
      "  with pd.option_context('mode.use_inf_as_na', True):\n",
      "/opt/conda/lib/python3.10/site-packages/seaborn/_oldcore.py:1119: FutureWarning: use_inf_as_na option is deprecated and will be removed in a future version. Convert inf values to NaN before operating instead.\n",
      "  with pd.option_context('mode.use_inf_as_na', True):\n",
      "/opt/conda/lib/python3.10/site-packages/seaborn/_oldcore.py:1119: FutureWarning: use_inf_as_na option is deprecated and will be removed in a future version. Convert inf values to NaN before operating instead.\n",
      "  with pd.option_context('mode.use_inf_as_na', True):\n",
      "/opt/conda/lib/python3.10/site-packages/seaborn/_oldcore.py:1119: FutureWarning: use_inf_as_na option is deprecated and will be removed in a future version. Convert inf values to NaN before operating instead.\n",
      "  with pd.option_context('mode.use_inf_as_na', True):\n",
      "/opt/conda/lib/python3.10/site-packages/seaborn/_oldcore.py:1119: FutureWarning: use_inf_as_na option is deprecated and will be removed in a future version. Convert inf values to NaN before operating instead.\n",
      "  with pd.option_context('mode.use_inf_as_na', True):\n",
      "/opt/conda/lib/python3.10/site-packages/seaborn/_oldcore.py:1119: FutureWarning: use_inf_as_na option is deprecated and will be removed in a future version. Convert inf values to NaN before operating instead.\n",
      "  with pd.option_context('mode.use_inf_as_na', True):\n"
     ]
    },
    {
     "data": {
      "image/png": "[encoded data removed]",
      "text/plain": [
       "<Figure size 1000x500 with 2 Axes>"
      ]
     },
     "metadata": {},
     "output_type": "display_data"
    },
    {
     "data": {
      "image/png": "[encoded data removed]",
      "text/plain": [
       "<Figure size 1000x500 with 2 Axes>"
      ]
     },
     "metadata": {},
     "output_type": "display_data"
    },
    {
     "data": {
      "image/png": "[encoded data removed]",
      "text/plain": [
       "<Figure size 1000x500 with 2 Axes>"
      ]
     },
     "metadata": {},
     "output_type": "display_data"
    },
    {
     "data": {
      "image/png": "[encoded data removed]",
      "text/plain": [
       "<Figure size 1000x500 with 2 Axes>"
      ]
     },
     "metadata": {},
     "output_type": "display_data"
    },
    {
     "data": {
      "image/png": "[encoded data removed]",
      "text/plain": [
       "<Figure size 1000x500 with 2 Axes>"
      ]
     },
     "metadata": {},
     "output_type": "display_data"
    },
    {
     "data": {
      "image/png": "[encoded data removed]",
      "text/plain": [
       "<Figure size 1000x500 with 2 Axes>"
      ]
     },
     "metadata": {},
     "output_type": "display_data"
    },
    {
     "data": {
      "image/png": "[encoded data removed]",
      "text/plain": [
       "<Figure size 1000x500 with 2 Axes>"
      ]
     },
     "metadata": {},
     "output_type": "display_data"
    },
    {
     "data": {
      "image/png": "[encoded data removed]",
      "text/plain": [
       "<Figure size 1000x500 with 2 Axes>"
      ]
     },
     "metadata": {},
     "output_type": "display_data"
    }
   ],
   "source": [
    "for name,history in histories.items():\n",
    "  figures[name] = plot_loss_accuracy(history)"
   ]
  },
  {
   "cell_type": "markdown",
   "metadata": {
    "id": "PwvNxXnS87AP"
   },
   "source": [
    "## Save the histories,durations and figures and the best model"
   ]
  },
  {
   "cell_type": "code",
   "execution_count": 27,
   "metadata": {
    "execution": {
     "iopub.execute_input": "2024-03-12T21:48:27.290651Z",
     "iopub.status.busy": "2024-03-12T21:48:27.290344Z",
     "iopub.status.idle": "2024-03-12T21:48:27.295507Z",
     "shell.execute_reply": "2024-03-12T21:48:27.294401Z",
     "shell.execute_reply.started": "2024-03-12T21:48:27.290627Z"
    },
    "id": "pNR5jdXc91eR"
   },
   "outputs": [],
   "source": [
    "def save_models(models):\n",
    "  os.mkdir(\"/kaggle/working/models\")\n",
    "  for model_name,model in models.items():\n",
    "    model.save(f'/kaggle/working/models/{model_name}.keras')"
   ]
  },
  {
   "cell_type": "code",
   "execution_count": 28,
   "metadata": {
    "execution": {
     "iopub.execute_input": "2024-03-12T21:48:27.296947Z",
     "iopub.status.busy": "2024-03-12T21:48:27.296663Z",
     "iopub.status.idle": "2024-03-12T21:48:27.446277Z",
     "shell.execute_reply": "2024-03-12T21:48:27.445458Z",
     "shell.execute_reply.started": "2024-03-12T21:48:27.296925Z"
    }
   },
   "outputs": [],
   "source": [
    "save_models(models)"
   ]
  },
  {
   "cell_type": "code",
   "execution_count": 29,
   "metadata": {
    "execution": {
     "iopub.execute_input": "2024-03-12T21:48:27.447835Z",
     "iopub.status.busy": "2024-03-12T21:48:27.447542Z",
     "iopub.status.idle": "2024-03-12T21:48:27.453180Z",
     "shell.execute_reply": "2024-03-12T21:48:27.452234Z",
     "shell.execute_reply.started": "2024-03-12T21:48:27.447811Z"
    },
    "id": "9sqfE-lt9DIf"
   },
   "outputs": [],
   "source": [
    "def histories2df(histories):\n",
    "\n",
    "  dfs = []\n",
    "\n",
    "  for name,history in histories.items():\n",
    "    history_df = pd.DataFrame(history.history)\n",
    "    history_df['model'] = [name for _ in range(len(history_df))]\n",
    "    dfs.append(history_df)\n",
    "\n",
    "  return pd.concat(dfs)"
   ]
  },
  {
   "cell_type": "code",
   "execution_count": 30,
   "metadata": {
    "execution": {
     "iopub.execute_input": "2024-03-12T21:48:27.454597Z",
     "iopub.status.busy": "2024-03-12T21:48:27.454279Z",
     "iopub.status.idle": "2024-03-12T21:48:27.467413Z",
     "shell.execute_reply": "2024-03-12T21:48:27.466623Z",
     "shell.execute_reply.started": "2024-03-12T21:48:27.454545Z"
    },
    "id": "-QpD7z9D9EeZ"
   },
   "outputs": [],
   "source": [
    "histories_df = histories2df(histories)"
   ]
  },
  {
   "cell_type": "code",
   "execution_count": 31,
   "metadata": {
    "execution": {
     "iopub.execute_input": "2024-03-12T21:48:27.468684Z",
     "iopub.status.busy": "2024-03-12T21:48:27.468399Z",
     "iopub.status.idle": "2024-03-12T21:48:27.481896Z",
     "shell.execute_reply": "2024-03-12T21:48:27.481090Z",
     "shell.execute_reply.started": "2024-03-12T21:48:27.468661Z"
    },
    "id": "Q6Sm3KsM9GH6"
   },
   "outputs": [],
   "source": [
    "histories_df.to_csv('/kaggle/working/histories_df.csv', index=False)"
   ]
  },
  {
   "cell_type": "code",
   "execution_count": 32,
   "metadata": {
    "execution": {
     "iopub.execute_input": "2024-03-12T21:48:27.483503Z",
     "iopub.status.busy": "2024-03-12T21:48:27.483169Z",
     "iopub.status.idle": "2024-03-12T21:48:27.491278Z",
     "shell.execute_reply": "2024-03-12T21:48:27.490330Z",
     "shell.execute_reply.started": "2024-03-12T21:48:27.483473Z"
    },
    "id": "ekQrmWcy9JqN"
   },
   "outputs": [
    {
     "data": {
      "text/plain": [
       "Mini-Batch SGD                             102.652152\n",
       "Mini-Batch SGD + Early Stopping             57.742547\n",
       "Mini-Batch SGD With L2 Nomralization       100.922874\n",
       "Mini-Batch SGD With Dropout Rate = 0.2     105.407015\n",
       "Mini-Batch SGD With Dropout Rate = 0.3     105.240382\n",
       "Mini-Batch SGD With Dropout Rate = 0.5     106.039060\n",
       "Mini-Batch SGD With Batch Normalization    107.224656\n",
       "Random Search                              187.643153\n",
       "dtype: float64"
      ]
     },
     "execution_count": 32,
     "metadata": {},
     "output_type": "execute_result"
    }
   ],
   "source": [
    "durations_serie = pd.Series(durations)\n",
    "durations_serie"
   ]
  },
  {
   "cell_type": "code",
   "execution_count": 33,
   "metadata": {
    "execution": {
     "iopub.execute_input": "2024-03-12T21:48:27.492807Z",
     "iopub.status.busy": "2024-03-12T21:48:27.492480Z",
     "iopub.status.idle": "2024-03-12T21:48:27.498625Z",
     "shell.execute_reply": "2024-03-12T21:48:27.497756Z",
     "shell.execute_reply.started": "2024-03-12T21:48:27.492785Z"
    },
    "id": "5l_u4vKw9LmK"
   },
   "outputs": [],
   "source": [
    "durations_serie.to_csv('/kaggle/working/durations.csv')"
   ]
  },
  {
   "cell_type": "code",
   "execution_count": 34,
   "metadata": {
    "execution": {
     "iopub.execute_input": "2024-03-12T21:48:27.500053Z",
     "iopub.status.busy": "2024-03-12T21:48:27.499700Z",
     "iopub.status.idle": "2024-03-12T21:48:27.508000Z",
     "shell.execute_reply": "2024-03-12T21:48:27.507124Z",
     "shell.execute_reply.started": "2024-03-12T21:48:27.500020Z"
    },
    "id": "zW1JPKpP9Owg"
   },
   "outputs": [],
   "source": [
    "def save_figures(figures, path : str, create_if_not_exists : bool=True):\n",
    "\n",
    "  if create_if_not_exists and not os.path.exists(path):\n",
    "    os.mkdir(path)\n",
    "\n",
    "  if not create_if_not_exists and not os.path.exists(path):\n",
    "    raise Exception(f\"{path} folder doesn't exists\")\n",
    "\n",
    "  if not os.path.isdir(path):\n",
    "    raise Exception(f\"{path} is not a directory\")\n",
    "\n",
    "  for name, figure in figures.items():\n",
    "    name = name.replace(' ','_')+'.png'\n",
    "    fig_path = os.path.join(path, name)\n",
    "    figure.savefig(fig_path)"
   ]
  },
  {
   "cell_type": "code",
   "execution_count": 35,
   "metadata": {
    "execution": {
     "iopub.execute_input": "2024-03-12T21:48:27.509450Z",
     "iopub.status.busy": "2024-03-12T21:48:27.509170Z",
     "iopub.status.idle": "2024-03-12T21:48:28.507247Z",
     "shell.execute_reply": "2024-03-12T21:48:28.506301Z",
     "shell.execute_reply.started": "2024-03-12T21:48:27.509427Z"
    },
    "id": "OL1ckJEv9SGD"
   },
   "outputs": [],
   "source": [
    "save_figures(figures, path='/kaggle/working/figures')"
   ]
  },
  {
   "cell_type": "code",
   "execution_count": 36,
   "metadata": {
    "execution": {
     "iopub.execute_input": "2024-03-12T21:48:28.508826Z",
     "iopub.status.busy": "2024-03-12T21:48:28.508450Z",
     "iopub.status.idle": "2024-03-12T21:48:29.251709Z",
     "shell.execute_reply": "2024-03-12T21:48:29.250801Z",
     "shell.execute_reply.started": "2024-03-12T21:48:28.508800Z"
    }
   },
   "outputs": [
    {
     "data": {
      "text/plain": [
       "'/kaggle/working/cifar10-result.zip'"
      ]
     },
     "execution_count": 36,
     "metadata": {},
     "output_type": "execute_result"
    }
   ],
   "source": [
    "shutil.make_archive('/kaggle/working/cifar10-result', 'zip', '/kaggle', 'working')"
   ]
  }
 ],
 "metadata": {
  "accelerator": "GPU",
  "colab": {
   "authorship_tag": "ABX9TyPxp5gu8hbmD43Z2umYl3oN",
   "gpuType": "T4",
   "provenance": []
  },
  "kaggle": {
   "accelerator": "gpu",
   "dataSources": [
    {
     "datasetId": 1424838,
     "sourceId": 2359346,
     "sourceType": "datasetVersion"
    }
   ],
   "dockerImageVersionId": 30665,
   "isGpuEnabled": true,
   "isInternetEnabled": true,
   "language": "python",
   "sourceType": "notebook"
  },
  "kernelspec": {
   "display_name": "Python 3 (ipykernel)",
   "language": "python",
   "name": "python3"
  },
  "language_info": {
   "codemirror_mode": {
    "name": "ipython",
    "version": 3
   },
   "file_extension": ".py",
   "mimetype": "text/x-python",
   "name": "python",
   "nbconvert_exporter": "python",
   "pygments_lexer": "ipython3",
   "version": "3.10.12"
  },
  "widgets": {
   "application/vnd.jupyter.widget-state+json": {
    "01eec1aefb144644a239f41522836c2e": {
     "model_module": "@jupyter-widgets/base",
     "model_module_version": "1.2.0",
     "model_name": "LayoutModel",
     "state": {
      "_model_module": "@jupyter-widgets/base",
      "_model_module_version": "1.2.0",
      "_model_name": "LayoutModel",
      "_view_count": null,
      "_view_module": "@jupyter-widgets/base",
      "_view_module_version": "1.2.0",
      "_view_name": "LayoutView",
      "align_content": null,
      "align_items": null,
      "align_self": null,
      "border": null,
      "bottom": null,
      "display": null,
      "flex": null,
      "flex_flow": null,
      "grid_area": null,
      "grid_auto_columns": null,
      "grid_auto_flow": null,
      "grid_auto_rows": null,
      "grid_column": null,
      "grid_gap": null,
      "grid_row": null,
      "grid_template_areas": null,
      "grid_template_columns": null,
      "grid_template_rows": null,
      "height": null,
      "justify_content": null,
      "justify_items": null,
      "left": null,
      "margin": null,
      "max_height": null,
      "max_width": null,
      "min_height": null,
      "min_width": null,
      "object_fit": null,
      "object_position": null,
      "order": null,
      "overflow": null,
      "overflow_x": null,
      "overflow_y": null,
      "padding": null,
      "right": null,
      "top": null,
      "visibility": null,
      "width": null
     }
    },
    "0595e500527e46d0a9b620c909f8b5d2": {
     "model_module": "@jupyter-widgets/base",
     "model_module_version": "1.2.0",
     "model_name": "LayoutModel",
     "state": {
      "_model_module": "@jupyter-widgets/base",
      "_model_module_version": "1.2.0",
      "_model_name": "LayoutModel",
      "_view_count": null,
      "_view_module": "@jupyter-widgets/base",
      "_view_module_version": "1.2.0",
      "_view_name": "LayoutView",
      "align_content": null,
      "align_items": null,
      "align_self": null,
      "border": null,
      "bottom": null,
      "display": null,
      "flex": null,
      "flex_flow": null,
      "grid_area": null,
      "grid_auto_columns": null,
      "grid_auto_flow": null,
      "grid_auto_rows": null,
      "grid_column": null,
      "grid_gap": null,
      "grid_row": null,
      "grid_template_areas": null,
      "grid_template_columns": null,
      "grid_template_rows": null,
      "height": null,
      "justify_content": null,
      "justify_items": null,
      "left": null,
      "margin": null,
      "max_height": null,
      "max_width": null,
      "min_height": null,
      "min_width": null,
      "object_fit": null,
      "object_position": null,
      "order": null,
      "overflow": null,
      "overflow_x": null,
      "overflow_y": null,
      "padding": null,
      "right": null,
      "top": null,
      "visibility": null,
      "width": null
     }
    },
    "0cdc6de813e549ad905db71d4e6baeda": {
     "model_module": "@jupyter-widgets/controls",
     "model_module_version": "1.5.0",
     "model_name": "FloatProgressModel",
     "state": {
      "_dom_classes": [],
      "_model_module": "@jupyter-widgets/controls",
      "_model_module_version": "1.5.0",
      "_model_name": "FloatProgressModel",
      "_view_count": null,
      "_view_module": "@jupyter-widgets/controls",
      "_view_module_version": "1.5.0",
      "_view_name": "ProgressView",
      "bar_style": "danger",
      "description": "",
      "description_tooltip": null,
      "layout": "IPY_MODEL_0595e500527e46d0a9b620c909f8b5d2",
      "max": 79,
      "min": 0,
      "orientation": "horizontal",
      "style": "IPY_MODEL_f67451729be44029bff6366868ae00e2",
      "value": 79
     }
    },
    "13e699b5eacb40b19f9ef46ba1ecf5dc": {
     "model_module": "@jupyter-widgets/base",
     "model_module_version": "1.2.0",
     "model_name": "LayoutModel",
     "state": {
      "_model_module": "@jupyter-widgets/base",
      "_model_module_version": "1.2.0",
      "_model_name": "LayoutModel",
      "_view_count": null,
      "_view_module": "@jupyter-widgets/base",
      "_view_module_version": "1.2.0",
      "_view_name": "LayoutView",
      "align_content": null,
      "align_items": null,
      "align_self": null,
      "border": null,
      "bottom": null,
      "display": null,
      "flex": null,
      "flex_flow": null,
      "grid_area": null,
      "grid_auto_columns": null,
      "grid_auto_flow": null,
      "grid_auto_rows": null,
      "grid_column": null,
      "grid_gap": null,
      "grid_row": null,
      "grid_template_areas": null,
      "grid_template_columns": null,
      "grid_template_rows": null,
      "height": null,
      "justify_content": null,
      "justify_items": null,
      "left": null,
      "margin": null,
      "max_height": null,
      "max_width": null,
      "min_height": null,
      "min_width": null,
      "object_fit": null,
      "object_position": null,
      "order": null,
      "overflow": null,
      "overflow_x": null,
      "overflow_y": null,
      "padding": null,
      "right": null,
      "top": null,
      "visibility": null,
      "width": null
     }
    },
    "1b184f1d13d742daa9988125f2ea0554": {
     "model_module": "@jupyter-widgets/base",
     "model_module_version": "1.2.0",
     "model_name": "LayoutModel",
     "state": {
      "_model_module": "@jupyter-widgets/base",
      "_model_module_version": "1.2.0",
      "_model_name": "LayoutModel",
      "_view_count": null,
      "_view_module": "@jupyter-widgets/base",
      "_view_module_version": "1.2.0",
      "_view_name": "LayoutView",
      "align_content": null,
      "align_items": null,
      "align_self": null,
      "border": null,
      "bottom": null,
      "display": null,
      "flex": null,
      "flex_flow": null,
      "grid_area": null,
      "grid_auto_columns": null,
      "grid_auto_flow": null,
      "grid_auto_rows": null,
      "grid_column": null,
      "grid_gap": null,
      "grid_row": null,
      "grid_template_areas": null,
      "grid_template_columns": null,
      "grid_template_rows": null,
      "height": null,
      "justify_content": null,
      "justify_items": null,
      "left": null,
      "margin": null,
      "max_height": null,
      "max_width": null,
      "min_height": null,
      "min_width": null,
      "object_fit": null,
      "object_position": null,
      "order": null,
      "overflow": null,
      "overflow_x": null,
      "overflow_y": null,
      "padding": null,
      "right": null,
      "top": null,
      "visibility": null,
      "width": null
     }
    },
    "37c80a6ccd26414e8dc56348573fe698": {
     "model_module": "@jupyter-widgets/base",
     "model_module_version": "1.2.0",
     "model_name": "LayoutModel",
     "state": {
      "_model_module": "@jupyter-widgets/base",
      "_model_module_version": "1.2.0",
      "_model_name": "LayoutModel",
      "_view_count": null,
      "_view_module": "@jupyter-widgets/base",
      "_view_module_version": "1.2.0",
      "_view_name": "LayoutView",
      "align_content": null,
      "align_items": null,
      "align_self": null,
      "border": null,
      "bottom": null,
      "display": null,
      "flex": null,
      "flex_flow": null,
      "grid_area": null,
      "grid_auto_columns": null,
      "grid_auto_flow": null,
      "grid_auto_rows": null,
      "grid_column": null,
      "grid_gap": null,
      "grid_row": null,
      "grid_template_areas": null,
      "grid_template_columns": null,
      "grid_template_rows": null,
      "height": null,
      "justify_content": null,
      "justify_items": null,
      "left": null,
      "margin": null,
      "max_height": null,
      "max_width": null,
      "min_height": null,
      "min_width": null,
      "object_fit": null,
      "object_position": null,
      "order": null,
      "overflow": null,
      "overflow_x": null,
      "overflow_y": null,
      "padding": null,
      "right": null,
      "top": null,
      "visibility": null,
      "width": null
     }
    },
    "3ab7c2e259434e45b5380bd35ffa164b": {
     "model_module": "@jupyter-widgets/controls",
     "model_module_version": "1.5.0",
     "model_name": "DescriptionStyleModel",
     "state": {
      "_model_module": "@jupyter-widgets/controls",
      "_model_module_version": "1.5.0",
      "_model_name": "DescriptionStyleModel",
      "_view_count": null,
      "_view_module": "@jupyter-widgets/base",
      "_view_module_version": "1.2.0",
      "_view_name": "StyleView",
      "description_width": ""
     }
    },
    "437a11d08f96419ca5afbb116cdb2c1f": {
     "model_module": "@jupyter-widgets/controls",
     "model_module_version": "1.5.0",
     "model_name": "HTMLModel",
     "state": {
      "_dom_classes": [],
      "_model_module": "@jupyter-widgets/controls",
      "_model_module_version": "1.5.0",
      "_model_name": "HTMLModel",
      "_view_count": null,
      "_view_module": "@jupyter-widgets/controls",
      "_view_module_version": "1.5.0",
      "_view_name": "HTMLView",
      "description": "",
      "description_tooltip": null,
      "layout": "IPY_MODEL_01eec1aefb144644a239f41522836c2e",
      "placeholder": "​",
      "style": "IPY_MODEL_8a58ebc0289b40dfbf8738d8a58fb903",
      "value": "100%"
     }
    },
    "48b8aafa092741c190897d07fe0375ad": {
     "model_module": "@jupyter-widgets/controls",
     "model_module_version": "1.5.0",
     "model_name": "HBoxModel",
     "state": {
      "_dom_classes": [],
      "_model_module": "@jupyter-widgets/controls",
      "_model_module_version": "1.5.0",
      "_model_name": "HBoxModel",
      "_view_count": null,
      "_view_module": "@jupyter-widgets/controls",
      "_view_module_version": "1.5.0",
      "_view_name": "HBoxView",
      "box_style": "",
      "children": [
       "IPY_MODEL_437a11d08f96419ca5afbb116cdb2c1f",
       "IPY_MODEL_a9344c96c4724866b19f6de96137308c",
       "IPY_MODEL_fe40462713c94371b9579b2893a529e4"
      ],
      "layout": "IPY_MODEL_37c80a6ccd26414e8dc56348573fe698"
     }
    },
    "4aaf8f2b054b44df9cc9e32e175a83cd": {
     "model_module": "@jupyter-widgets/base",
     "model_module_version": "1.2.0",
     "model_name": "LayoutModel",
     "state": {
      "_model_module": "@jupyter-widgets/base",
      "_model_module_version": "1.2.0",
      "_model_name": "LayoutModel",
      "_view_count": null,
      "_view_module": "@jupyter-widgets/base",
      "_view_module_version": "1.2.0",
      "_view_name": "LayoutView",
      "align_content": null,
      "align_items": null,
      "align_self": null,
      "border": null,
      "bottom": null,
      "display": null,
      "flex": null,
      "flex_flow": null,
      "grid_area": null,
      "grid_auto_columns": null,
      "grid_auto_flow": null,
      "grid_auto_rows": null,
      "grid_column": null,
      "grid_gap": null,
      "grid_row": null,
      "grid_template_areas": null,
      "grid_template_columns": null,
      "grid_template_rows": null,
      "height": null,
      "justify_content": null,
      "justify_items": null,
      "left": null,
      "margin": null,
      "max_height": null,
      "max_width": null,
      "min_height": null,
      "min_width": null,
      "object_fit": null,
      "object_position": null,
      "order": null,
      "overflow": null,
      "overflow_x": null,
      "overflow_y": null,
      "padding": null,
      "right": null,
      "top": null,
      "visibility": null,
      "width": null
     }
    },
    "664426feb2b0465098b264a78094563f": {
     "model_module": "@jupyter-widgets/controls",
     "model_module_version": "1.5.0",
     "model_name": "HTMLModel",
     "state": {
      "_dom_classes": [],
      "_model_module": "@jupyter-widgets/controls",
      "_model_module_version": "1.5.0",
      "_model_name": "HTMLModel",
      "_view_count": null,
      "_view_module": "@jupyter-widgets/controls",
      "_view_module_version": "1.5.0",
      "_view_name": "HTMLView",
      "description": "",
      "description_tooltip": null,
      "layout": "IPY_MODEL_ec523efb36354268a176b0c0fc62c34e",
      "placeholder": "​",
      "style": "IPY_MODEL_3ab7c2e259434e45b5380bd35ffa164b",
      "value": "100%"
     }
    },
    "67d76cf901524b07a6d3ba0ddc380fad": {
     "model_module": "@jupyter-widgets/controls",
     "model_module_version": "1.5.0",
     "model_name": "DescriptionStyleModel",
     "state": {
      "_model_module": "@jupyter-widgets/controls",
      "_model_module_version": "1.5.0",
      "_model_name": "DescriptionStyleModel",
      "_view_count": null,
      "_view_module": "@jupyter-widgets/base",
      "_view_module_version": "1.2.0",
      "_view_name": "StyleView",
      "description_width": ""
     }
    },
    "81ff56e5fabd458aab0b4745c52782ea": {
     "model_module": "@jupyter-widgets/controls",
     "model_module_version": "1.5.0",
     "model_name": "HBoxModel",
     "state": {
      "_dom_classes": [],
      "_model_module": "@jupyter-widgets/controls",
      "_model_module_version": "1.5.0",
      "_model_name": "HBoxModel",
      "_view_count": null,
      "_view_module": "@jupyter-widgets/controls",
      "_view_module_version": "1.5.0",
      "_view_name": "HBoxView",
      "box_style": "",
      "children": [
       "IPY_MODEL_664426feb2b0465098b264a78094563f",
       "IPY_MODEL_0cdc6de813e549ad905db71d4e6baeda",
       "IPY_MODEL_c28bea307ee14bcb9f0015a7a311a368"
      ],
      "layout": "IPY_MODEL_13e699b5eacb40b19f9ef46ba1ecf5dc"
     }
    },
    "8a58ebc0289b40dfbf8738d8a58fb903": {
     "model_module": "@jupyter-widgets/controls",
     "model_module_version": "1.5.0",
     "model_name": "DescriptionStyleModel",
     "state": {
      "_model_module": "@jupyter-widgets/controls",
      "_model_module_version": "1.5.0",
      "_model_name": "DescriptionStyleModel",
      "_view_count": null,
      "_view_module": "@jupyter-widgets/base",
      "_view_module_version": "1.2.0",
      "_view_name": "StyleView",
      "description_width": ""
     }
    },
    "97e19b6dc5bf44f6aa41ca42aa73468f": {
     "model_module": "@jupyter-widgets/controls",
     "model_module_version": "1.5.0",
     "model_name": "DescriptionStyleModel",
     "state": {
      "_model_module": "@jupyter-widgets/controls",
      "_model_module_version": "1.5.0",
      "_model_name": "DescriptionStyleModel",
      "_view_count": null,
      "_view_module": "@jupyter-widgets/base",
      "_view_module_version": "1.2.0",
      "_view_name": "StyleView",
      "description_width": ""
     }
    },
    "a9344c96c4724866b19f6de96137308c": {
     "model_module": "@jupyter-widgets/controls",
     "model_module_version": "1.5.0",
     "model_name": "FloatProgressModel",
     "state": {
      "_dom_classes": [],
      "_model_module": "@jupyter-widgets/controls",
      "_model_module_version": "1.5.0",
      "_model_name": "FloatProgressModel",
      "_view_count": null,
      "_view_module": "@jupyter-widgets/controls",
      "_view_module_version": "1.5.0",
      "_view_name": "ProgressView",
      "bar_style": "danger",
      "description": "",
      "description_tooltip": null,
      "layout": "IPY_MODEL_1b184f1d13d742daa9988125f2ea0554",
      "max": 313,
      "min": 0,
      "orientation": "horizontal",
      "style": "IPY_MODEL_eef10ae0871d4e62934b03df1b224ac7",
      "value": 313
     }
    },
    "c28bea307ee14bcb9f0015a7a311a368": {
     "model_module": "@jupyter-widgets/controls",
     "model_module_version": "1.5.0",
     "model_name": "HTMLModel",
     "state": {
      "_dom_classes": [],
      "_model_module": "@jupyter-widgets/controls",
      "_model_module_version": "1.5.0",
      "_model_name": "HTMLModel",
      "_view_count": null,
      "_view_module": "@jupyter-widgets/controls",
      "_view_module_version": "1.5.0",
      "_view_name": "HTMLView",
      "description": "",
      "description_tooltip": null,
      "layout": "IPY_MODEL_d21ce9e52e9d45209723a98df1ce2dc4",
      "placeholder": "​",
      "style": "IPY_MODEL_97e19b6dc5bf44f6aa41ca42aa73468f",
      "value": " 79/79 [00:35&lt;00:00,  2.36it/s]"
     }
    },
    "d21ce9e52e9d45209723a98df1ce2dc4": {
     "model_module": "@jupyter-widgets/base",
     "model_module_version": "1.2.0",
     "model_name": "LayoutModel",
     "state": {
      "_model_module": "@jupyter-widgets/base",
      "_model_module_version": "1.2.0",
      "_model_name": "LayoutModel",
      "_view_count": null,
      "_view_module": "@jupyter-widgets/base",
      "_view_module_version": "1.2.0",
      "_view_name": "LayoutView",
      "align_content": null,
      "align_items": null,
      "align_self": null,
      "border": null,
      "bottom": null,
      "display": null,
      "flex": null,
      "flex_flow": null,
      "grid_area": null,
      "grid_auto_columns": null,
      "grid_auto_flow": null,
      "grid_auto_rows": null,
      "grid_column": null,
      "grid_gap": null,
      "grid_row": null,
      "grid_template_areas": null,
      "grid_template_columns": null,
      "grid_template_rows": null,
      "height": null,
      "justify_content": null,
      "justify_items": null,
      "left": null,
      "margin": null,
      "max_height": null,
      "max_width": null,
      "min_height": null,
      "min_width": null,
      "object_fit": null,
      "object_position": null,
      "order": null,
      "overflow": null,
      "overflow_x": null,
      "overflow_y": null,
      "padding": null,
      "right": null,
      "top": null,
      "visibility": null,
      "width": null
     }
    },
    "ec523efb36354268a176b0c0fc62c34e": {
     "model_module": "@jupyter-widgets/base",
     "model_module_version": "1.2.0",
     "model_name": "LayoutModel",
     "state": {
      "_model_module": "@jupyter-widgets/base",
      "_model_module_version": "1.2.0",
      "_model_name": "LayoutModel",
      "_view_count": null,
      "_view_module": "@jupyter-widgets/base",
      "_view_module_version": "1.2.0",
      "_view_name": "LayoutView",
      "align_content": null,
      "align_items": null,
      "align_self": null,
      "border": null,
      "bottom": null,
      "display": null,
      "flex": null,
      "flex_flow": null,
      "grid_area": null,
      "grid_auto_columns": null,
      "grid_auto_flow": null,
      "grid_auto_rows": null,
      "grid_column": null,
      "grid_gap": null,
      "grid_row": null,
      "grid_template_areas": null,
      "grid_template_columns": null,
      "grid_template_rows": null,
      "height": null,
      "justify_content": null,
      "justify_items": null,
      "left": null,
      "margin": null,
      "max_height": null,
      "max_width": null,
      "min_height": null,
      "min_width": null,
      "object_fit": null,
      "object_position": null,
      "order": null,
      "overflow": null,
      "overflow_x": null,
      "overflow_y": null,
      "padding": null,
      "right": null,
      "top": null,
      "visibility": null,
      "width": null
     }
    },
    "eef10ae0871d4e62934b03df1b224ac7": {
     "model_module": "@jupyter-widgets/controls",
     "model_module_version": "1.5.0",
     "model_name": "ProgressStyleModel",
     "state": {
      "_model_module": "@jupyter-widgets/controls",
      "_model_module_version": "1.5.0",
      "_model_name": "ProgressStyleModel",
      "_view_count": null,
      "_view_module": "@jupyter-widgets/base",
      "_view_module_version": "1.2.0",
      "_view_name": "StyleView",
      "bar_color": null,
      "description_width": ""
     }
    },
    "f67451729be44029bff6366868ae00e2": {
     "model_module": "@jupyter-widgets/controls",
     "model_module_version": "1.5.0",
     "model_name": "ProgressStyleModel",
     "state": {
      "_model_module": "@jupyter-widgets/controls",
      "_model_module_version": "1.5.0",
      "_model_name": "ProgressStyleModel",
      "_view_count": null,
      "_view_module": "@jupyter-widgets/base",
      "_view_module_version": "1.2.0",
      "_view_name": "StyleView",
      "bar_color": null,
      "description_width": ""
     }
    },
    "fe40462713c94371b9579b2893a529e4": {
     "model_module": "@jupyter-widgets/controls",
     "model_module_version": "1.5.0",
     "model_name": "HTMLModel",
     "state": {
      "_dom_classes": [],
      "_model_module": "@jupyter-widgets/controls",
      "_model_module_version": "1.5.0",
      "_model_name": "HTMLModel",
      "_view_count": null,
      "_view_module": "@jupyter-widgets/controls",
      "_view_module_version": "1.5.0",
      "_view_name": "HTMLView",
      "description": "",
      "description_tooltip": null,
      "layout": "IPY_MODEL_4aaf8f2b054b44df9cc9e32e175a83cd",
      "placeholder": "​",
      "style": "IPY_MODEL_67d76cf901524b07a6d3ba0ddc380fad",
      "value": " 313/313 [03:09&lt;00:00,  2.41it/s]"
     }
    }
   }
  }
 },
 "nbformat": 4,
 "nbformat_minor": 4
}
